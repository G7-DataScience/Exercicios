{
  "nbformat": 4,
  "nbformat_minor": 0,
  "metadata": {
    "colab": {
      "provenance": [],
      "collapsed_sections": []
    },
    "kernelspec": {
      "name": "python3",
      "display_name": "Python 3"
    }
  },
  "cells": [
    {
      "cell_type": "markdown",
      "metadata": {
        "id": "7yEsLd3bk0h7"
      },
      "source": [
        "##Exercícios Análise Exploratória de Dados - Conjunto de dados Iris\n",
        "Curso Introdução à Ciência de Dados - CTC/INE/UFSC\n",
        "\n",
        "Prof. Jônata Tyska Carvalho\n",
        "\n",
        "Prof. Mateus Grellert da Silva\n",
        "\n"
      ]
    },
    {
      "cell_type": "code",
      "metadata": {
        "id": "iHra4Wdrkz4U"
      },
      "source": [
        "from sklearn import datasets\n",
        "import matplotlib.pyplot as plt\n",
        "import pandas as pd\n",
        "import seaborn as sns"
      ],
      "execution_count": null,
      "outputs": []
    },
    {
      "cell_type": "markdown",
      "metadata": {
        "id": "xq9DCd3rlcnL"
      },
      "source": [
        "###Carrega o conjunto de dados"
      ]
    },
    {
      "cell_type": "code",
      "metadata": {
        "id": "5xA7ndkBlIEe"
      },
      "source": [
        "url = \"https://codigos.ufsc.br/jonata.tyska/repositorio/-/raw/master/datasets/iris.csv\"\n",
        "\n",
        "# Assign colum names to the dataset\n",
        "names = ['sepal-length', 'sepal-width', 'petal-length', 'petal-width', 'Class']\n",
        "\n",
        "# Read dataset to pandas dataframe\n",
        "dataset = pd.read_csv(url)"
      ],
      "execution_count": null,
      "outputs": []
    },
    {
      "cell_type": "markdown",
      "metadata": {
        "id": "YyvGEIkS53uj"
      },
      "source": [
        "**Exercício 1.** Qual o tamanho do conjunto de dados carregado (instâncias e atributos)?"
      ]
    },
    {
      "cell_type": "markdown",
      "metadata": {
        "id": "FUzHqsjt6kBR"
      },
      "source": [
        "**Exercício 2.** Quais são as colunas do conjunto de dados?"
      ]
    },
    {
      "cell_type": "markdown",
      "metadata": {
        "id": "IzZ8lwUo7PZB"
      },
      "source": [
        "**Exercício 3.** Quantas instâncias de cada classe existem no conjunto de dados?"
      ]
    },
    {
      "cell_type": "markdown",
      "metadata": {
        "id": "5uey7WVgUe7M"
      },
      "source": [
        "**Exercício 4.** Para cada atributo, calcule o número de valores disponíveis (contagem), a média, o desvio padrão, o valor mínimo, o máximo, o primeiro (Q1), segundo(Q2) e terceiro (Q3) quartis e o valor máximo."
      ]
    },
    {
      "cell_type": "markdown",
      "metadata": {
        "id": "YSH3c6UUVBpG"
      },
      "source": [
        "**Exercício 5.** Visualize os dados usando histogramas para cada um dos atributos."
      ]
    },
    {
      "cell_type": "markdown",
      "metadata": {
        "id": "6fEMhtcI91pL"
      },
      "source": [
        "**Exercício 6.** Visualize os dados usando gráficos de dispersão para cada dupla de atributos."
      ]
    },
    {
      "cell_type": "markdown",
      "metadata": {
        "id": "ymXw8rztGqt-"
      },
      "source": [
        "**Exercício 7.** Use um tipo de gráfico que ajude a detectar valores atípicos (*outliers*)"
      ]
    },
    {
      "cell_type": "markdown",
      "metadata": {
        "id": "EmIykb-7KwGp"
      },
      "source": [
        "**Exercício 8.** Visualize a correlação entre as variáveis\n",
        "\n"
      ]
    }
  ]
}