{
 "cells": [
  {
   "cell_type": "markdown",
   "id": "03ad7f69-c3e9-4ce8-a044-fd12502fd622",
   "metadata": {
    "id": "03ad7f69-c3e9-4ce8-a044-fd12502fd622",
    "tags": []
   },
   "source": [
    "# Seção 2: Data Wrangling\n",
    "\n",
    "Para preparar nossos dados para serem analisados, utilizar data wrangling. Nessa seção, vamos aprender como limpar e reformatar dados(renomear colunas e arrumar incompatibilidades nos tipos de dados, por exemplo), a reestruturar/reformatar esses dados e os enriquecer(discretizando colunas, calculando agregações, combinando fontes de dados, etc)."
   ]
  },
  {
   "cell_type": "markdown",
   "id": "d1acd617-c093-4406-9ea8-61289e29e12c",
   "metadata": {
    "id": "d1acd617-c093-4406-9ea8-61289e29e12c",
    "tags": []
   },
   "source": [
    "## Limpeza de dados\n",
    "\n",
    "Nessa seção, vamos ver: como criar, renomear e descartar colunas; conversão de tipos e ordenação &ndash; técnicas que facilitam a nossa análise. Vamos utilizar o dataset 2019 Yellow Taxi Trip Data disponibilizado pela NYC Open Data."
   ]
  },
  {
   "cell_type": "code",
   "execution_count": 43,
   "id": "c91ca2ea-c35b-455d-bbc9-312b47c864e4",
   "metadata": {
    "colab": {
     "base_uri": "https://localhost:8080/",
     "height": 357
    },
    "id": "c91ca2ea-c35b-455d-bbc9-312b47c864e4",
    "outputId": "a19c6504-5a3c-4454-ca0b-800cb7f1259b"
   },
   "outputs": [
    {
     "data": {
      "text/html": [
       "<div>\n",
       "<style scoped>\n",
       "    .dataframe tbody tr th:only-of-type {\n",
       "        vertical-align: middle;\n",
       "    }\n",
       "\n",
       "    .dataframe tbody tr th {\n",
       "        vertical-align: top;\n",
       "    }\n",
       "\n",
       "    .dataframe thead th {\n",
       "        text-align: right;\n",
       "    }\n",
       "</style>\n",
       "<table border=\"1\" class=\"dataframe\">\n",
       "  <thead>\n",
       "    <tr style=\"text-align: right;\">\n",
       "      <th></th>\n",
       "      <th>vendorid</th>\n",
       "      <th>tpep_pickup_datetime</th>\n",
       "      <th>tpep_dropoff_datetime</th>\n",
       "      <th>passenger_count</th>\n",
       "      <th>trip_distance</th>\n",
       "      <th>ratecodeid</th>\n",
       "      <th>store_and_fwd_flag</th>\n",
       "      <th>pulocationid</th>\n",
       "      <th>dolocationid</th>\n",
       "      <th>payment_type</th>\n",
       "      <th>fare_amount</th>\n",
       "      <th>extra</th>\n",
       "      <th>mta_tax</th>\n",
       "      <th>tip_amount</th>\n",
       "      <th>tolls_amount</th>\n",
       "      <th>improvement_surcharge</th>\n",
       "      <th>total_amount</th>\n",
       "      <th>congestion_surcharge</th>\n",
       "    </tr>\n",
       "  </thead>\n",
       "  <tbody>\n",
       "    <tr>\n",
       "      <th>0</th>\n",
       "      <td>2</td>\n",
       "      <td>2019-10-23T16:39:42.000</td>\n",
       "      <td>2019-10-23T17:14:10.000</td>\n",
       "      <td>1</td>\n",
       "      <td>7.93</td>\n",
       "      <td>1</td>\n",
       "      <td>N</td>\n",
       "      <td>138</td>\n",
       "      <td>170</td>\n",
       "      <td>1</td>\n",
       "      <td>29.5</td>\n",
       "      <td>1.0</td>\n",
       "      <td>0.5</td>\n",
       "      <td>7.98</td>\n",
       "      <td>6.12</td>\n",
       "      <td>0.3</td>\n",
       "      <td>47.90</td>\n",
       "      <td>2.5</td>\n",
       "    </tr>\n",
       "    <tr>\n",
       "      <th>1</th>\n",
       "      <td>1</td>\n",
       "      <td>2019-10-23T16:32:08.000</td>\n",
       "      <td>2019-10-23T16:45:26.000</td>\n",
       "      <td>1</td>\n",
       "      <td>2.00</td>\n",
       "      <td>1</td>\n",
       "      <td>N</td>\n",
       "      <td>11</td>\n",
       "      <td>26</td>\n",
       "      <td>1</td>\n",
       "      <td>10.5</td>\n",
       "      <td>1.0</td>\n",
       "      <td>0.5</td>\n",
       "      <td>0.00</td>\n",
       "      <td>0.00</td>\n",
       "      <td>0.3</td>\n",
       "      <td>12.30</td>\n",
       "      <td>0.0</td>\n",
       "    </tr>\n",
       "    <tr>\n",
       "      <th>2</th>\n",
       "      <td>2</td>\n",
       "      <td>2019-10-23T16:08:44.000</td>\n",
       "      <td>2019-10-23T16:21:11.000</td>\n",
       "      <td>1</td>\n",
       "      <td>1.36</td>\n",
       "      <td>1</td>\n",
       "      <td>N</td>\n",
       "      <td>163</td>\n",
       "      <td>162</td>\n",
       "      <td>1</td>\n",
       "      <td>9.5</td>\n",
       "      <td>1.0</td>\n",
       "      <td>0.5</td>\n",
       "      <td>2.00</td>\n",
       "      <td>0.00</td>\n",
       "      <td>0.3</td>\n",
       "      <td>15.80</td>\n",
       "      <td>2.5</td>\n",
       "    </tr>\n",
       "    <tr>\n",
       "      <th>3</th>\n",
       "      <td>2</td>\n",
       "      <td>2019-10-23T16:22:44.000</td>\n",
       "      <td>2019-10-23T16:43:26.000</td>\n",
       "      <td>1</td>\n",
       "      <td>1.00</td>\n",
       "      <td>1</td>\n",
       "      <td>N</td>\n",
       "      <td>170</td>\n",
       "      <td>163</td>\n",
       "      <td>1</td>\n",
       "      <td>13.0</td>\n",
       "      <td>1.0</td>\n",
       "      <td>0.5</td>\n",
       "      <td>4.32</td>\n",
       "      <td>0.00</td>\n",
       "      <td>0.3</td>\n",
       "      <td>21.62</td>\n",
       "      <td>2.5</td>\n",
       "    </tr>\n",
       "    <tr>\n",
       "      <th>4</th>\n",
       "      <td>2</td>\n",
       "      <td>2019-10-23T16:45:11.000</td>\n",
       "      <td>2019-10-23T16:58:49.000</td>\n",
       "      <td>1</td>\n",
       "      <td>1.96</td>\n",
       "      <td>1</td>\n",
       "      <td>N</td>\n",
       "      <td>163</td>\n",
       "      <td>236</td>\n",
       "      <td>1</td>\n",
       "      <td>10.5</td>\n",
       "      <td>1.0</td>\n",
       "      <td>0.5</td>\n",
       "      <td>0.50</td>\n",
       "      <td>0.00</td>\n",
       "      <td>0.3</td>\n",
       "      <td>15.30</td>\n",
       "      <td>2.5</td>\n",
       "    </tr>\n",
       "  </tbody>\n",
       "</table>\n",
       "</div>"
      ],
      "text/plain": [
       "   vendorid     tpep_pickup_datetime    tpep_dropoff_datetime  \\\n",
       "0         2  2019-10-23T16:39:42.000  2019-10-23T17:14:10.000   \n",
       "1         1  2019-10-23T16:32:08.000  2019-10-23T16:45:26.000   \n",
       "2         2  2019-10-23T16:08:44.000  2019-10-23T16:21:11.000   \n",
       "3         2  2019-10-23T16:22:44.000  2019-10-23T16:43:26.000   \n",
       "4         2  2019-10-23T16:45:11.000  2019-10-23T16:58:49.000   \n",
       "\n",
       "   passenger_count  trip_distance  ratecodeid store_and_fwd_flag  \\\n",
       "0                1           7.93           1                  N   \n",
       "1                1           2.00           1                  N   \n",
       "2                1           1.36           1                  N   \n",
       "3                1           1.00           1                  N   \n",
       "4                1           1.96           1                  N   \n",
       "\n",
       "   pulocationid  dolocationid  payment_type  fare_amount  extra  mta_tax  \\\n",
       "0           138           170             1         29.5    1.0      0.5   \n",
       "1            11            26             1         10.5    1.0      0.5   \n",
       "2           163           162             1          9.5    1.0      0.5   \n",
       "3           170           163             1         13.0    1.0      0.5   \n",
       "4           163           236             1         10.5    1.0      0.5   \n",
       "\n",
       "   tip_amount  tolls_amount  improvement_surcharge  total_amount  \\\n",
       "0        7.98          6.12                    0.3         47.90   \n",
       "1        0.00          0.00                    0.3         12.30   \n",
       "2        2.00          0.00                    0.3         15.80   \n",
       "3        4.32          0.00                    0.3         21.62   \n",
       "4        0.50          0.00                    0.3         15.30   \n",
       "\n",
       "   congestion_surcharge  \n",
       "0                   2.5  \n",
       "1                   0.0  \n",
       "2                   2.5  \n",
       "3                   2.5  \n",
       "4                   2.5  "
      ]
     },
     "execution_count": 43,
     "metadata": {},
     "output_type": "execute_result"
    }
   ],
   "source": [
    "import pandas as pd\n",
    "\n",
    "# Carrego o dataset a partir do GitHub\n",
    "url = 'https://raw.githubusercontent.com/stefmolin/pandas-workshop/main/data/2019_Yellow_Taxi_Trip_Data.csv'\n",
    "\n",
    "taxis = pd.read_csv(url)\n",
    "taxis.head()"
   ]
  },
  {
   "cell_type": "markdown",
   "id": "d65aa6c3-092a-4ed9-95aa-57e8ec41e131",
   "metadata": {
    "id": "d65aa6c3-092a-4ed9-95aa-57e8ec41e131"
   },
   "source": [
    "*Fonte: [NYC Open Data](https://data.cityofnewyork.us/Transportation/2019-Yellow-Taxi-Trip-Data/2upf-qytp) coletado via [SODA](https://dev.socrata.com/foundry/data.cityofnewyork.us/2upf-qytp).*"
   ]
  },
  {
   "cell_type": "markdown",
   "id": "79315a59-bc5b-4bd2-a25a-8f2de24217e2",
   "metadata": {
    "id": "79315a59-bc5b-4bd2-a25a-8f2de24217e2",
    "tags": []
   },
   "source": [
    "### Descartando colunas\n",
    "Vamos começar descartando as colunas de ID e a `store_and_fwd_flag`, as quais não vamos usar."
   ]
  },
  {
   "cell_type": "code",
   "execution_count": 44,
   "id": "e782b52c-dc8c-4aac-ba6d-f3b3cd7b5f2c",
   "metadata": {
    "colab": {
     "base_uri": "https://localhost:8080/"
    },
    "id": "e782b52c-dc8c-4aac-ba6d-f3b3cd7b5f2c",
    "outputId": "a86b94b5-8e66-4191-f7c6-426ad892bfd9",
    "tags": []
   },
   "outputs": [
    {
     "data": {
      "text/plain": [
       "Index(['vendorid', 'ratecodeid', 'store_and_fwd_flag', 'pulocationid',\n",
       "       'dolocationid'],\n",
       "      dtype='object')"
      ]
     },
     "execution_count": 44,
     "metadata": {},
     "output_type": "execute_result"
    }
   ],
   "source": [
    "mask = taxis.columns.str.contains('id$|store_and_fwd_flag', regex=True)\n",
    "columns_to_drop = taxis.columns[mask]\n",
    "columns_to_drop"
   ]
  },
  {
   "cell_type": "code",
   "execution_count": 45,
   "id": "bc0652f8-87af-43dd-82d0-07ba120b05f8",
   "metadata": {
    "colab": {
     "base_uri": "https://localhost:8080/",
     "height": 357
    },
    "id": "bc0652f8-87af-43dd-82d0-07ba120b05f8",
    "outputId": "b3b2c6b3-4efe-4324-ce83-9e3811db1a6a",
    "tags": []
   },
   "outputs": [
    {
     "data": {
      "text/html": [
       "<div>\n",
       "<style scoped>\n",
       "    .dataframe tbody tr th:only-of-type {\n",
       "        vertical-align: middle;\n",
       "    }\n",
       "\n",
       "    .dataframe tbody tr th {\n",
       "        vertical-align: top;\n",
       "    }\n",
       "\n",
       "    .dataframe thead th {\n",
       "        text-align: right;\n",
       "    }\n",
       "</style>\n",
       "<table border=\"1\" class=\"dataframe\">\n",
       "  <thead>\n",
       "    <tr style=\"text-align: right;\">\n",
       "      <th></th>\n",
       "      <th>tpep_pickup_datetime</th>\n",
       "      <th>tpep_dropoff_datetime</th>\n",
       "      <th>passenger_count</th>\n",
       "      <th>trip_distance</th>\n",
       "      <th>payment_type</th>\n",
       "      <th>fare_amount</th>\n",
       "      <th>extra</th>\n",
       "      <th>mta_tax</th>\n",
       "      <th>tip_amount</th>\n",
       "      <th>tolls_amount</th>\n",
       "      <th>improvement_surcharge</th>\n",
       "      <th>total_amount</th>\n",
       "      <th>congestion_surcharge</th>\n",
       "    </tr>\n",
       "  </thead>\n",
       "  <tbody>\n",
       "    <tr>\n",
       "      <th>0</th>\n",
       "      <td>2019-10-23T16:39:42.000</td>\n",
       "      <td>2019-10-23T17:14:10.000</td>\n",
       "      <td>1</td>\n",
       "      <td>7.93</td>\n",
       "      <td>1</td>\n",
       "      <td>29.5</td>\n",
       "      <td>1.0</td>\n",
       "      <td>0.5</td>\n",
       "      <td>7.98</td>\n",
       "      <td>6.12</td>\n",
       "      <td>0.3</td>\n",
       "      <td>47.90</td>\n",
       "      <td>2.5</td>\n",
       "    </tr>\n",
       "    <tr>\n",
       "      <th>1</th>\n",
       "      <td>2019-10-23T16:32:08.000</td>\n",
       "      <td>2019-10-23T16:45:26.000</td>\n",
       "      <td>1</td>\n",
       "      <td>2.00</td>\n",
       "      <td>1</td>\n",
       "      <td>10.5</td>\n",
       "      <td>1.0</td>\n",
       "      <td>0.5</td>\n",
       "      <td>0.00</td>\n",
       "      <td>0.00</td>\n",
       "      <td>0.3</td>\n",
       "      <td>12.30</td>\n",
       "      <td>0.0</td>\n",
       "    </tr>\n",
       "    <tr>\n",
       "      <th>2</th>\n",
       "      <td>2019-10-23T16:08:44.000</td>\n",
       "      <td>2019-10-23T16:21:11.000</td>\n",
       "      <td>1</td>\n",
       "      <td>1.36</td>\n",
       "      <td>1</td>\n",
       "      <td>9.5</td>\n",
       "      <td>1.0</td>\n",
       "      <td>0.5</td>\n",
       "      <td>2.00</td>\n",
       "      <td>0.00</td>\n",
       "      <td>0.3</td>\n",
       "      <td>15.80</td>\n",
       "      <td>2.5</td>\n",
       "    </tr>\n",
       "    <tr>\n",
       "      <th>3</th>\n",
       "      <td>2019-10-23T16:22:44.000</td>\n",
       "      <td>2019-10-23T16:43:26.000</td>\n",
       "      <td>1</td>\n",
       "      <td>1.00</td>\n",
       "      <td>1</td>\n",
       "      <td>13.0</td>\n",
       "      <td>1.0</td>\n",
       "      <td>0.5</td>\n",
       "      <td>4.32</td>\n",
       "      <td>0.00</td>\n",
       "      <td>0.3</td>\n",
       "      <td>21.62</td>\n",
       "      <td>2.5</td>\n",
       "    </tr>\n",
       "    <tr>\n",
       "      <th>4</th>\n",
       "      <td>2019-10-23T16:45:11.000</td>\n",
       "      <td>2019-10-23T16:58:49.000</td>\n",
       "      <td>1</td>\n",
       "      <td>1.96</td>\n",
       "      <td>1</td>\n",
       "      <td>10.5</td>\n",
       "      <td>1.0</td>\n",
       "      <td>0.5</td>\n",
       "      <td>0.50</td>\n",
       "      <td>0.00</td>\n",
       "      <td>0.3</td>\n",
       "      <td>15.30</td>\n",
       "      <td>2.5</td>\n",
       "    </tr>\n",
       "  </tbody>\n",
       "</table>\n",
       "</div>"
      ],
      "text/plain": [
       "      tpep_pickup_datetime    tpep_dropoff_datetime  passenger_count  \\\n",
       "0  2019-10-23T16:39:42.000  2019-10-23T17:14:10.000                1   \n",
       "1  2019-10-23T16:32:08.000  2019-10-23T16:45:26.000                1   \n",
       "2  2019-10-23T16:08:44.000  2019-10-23T16:21:11.000                1   \n",
       "3  2019-10-23T16:22:44.000  2019-10-23T16:43:26.000                1   \n",
       "4  2019-10-23T16:45:11.000  2019-10-23T16:58:49.000                1   \n",
       "\n",
       "   trip_distance  payment_type  fare_amount  extra  mta_tax  tip_amount  \\\n",
       "0           7.93             1         29.5    1.0      0.5        7.98   \n",
       "1           2.00             1         10.5    1.0      0.5        0.00   \n",
       "2           1.36             1          9.5    1.0      0.5        2.00   \n",
       "3           1.00             1         13.0    1.0      0.5        4.32   \n",
       "4           1.96             1         10.5    1.0      0.5        0.50   \n",
       "\n",
       "   tolls_amount  improvement_surcharge  total_amount  congestion_surcharge  \n",
       "0          6.12                    0.3         47.90                   2.5  \n",
       "1          0.00                    0.3         12.30                   0.0  \n",
       "2          0.00                    0.3         15.80                   2.5  \n",
       "3          0.00                    0.3         21.62                   2.5  \n",
       "4          0.00                    0.3         15.30                   2.5  "
      ]
     },
     "execution_count": 45,
     "metadata": {},
     "output_type": "execute_result"
    }
   ],
   "source": [
    "taxis = taxis.drop(columns=columns_to_drop)\n",
    "taxis.head()"
   ]
  },
  {
   "cell_type": "markdown",
   "id": "b6581776-8391-41a3-a7fa-c65af402da77",
   "metadata": {
    "id": "b6581776-8391-41a3-a7fa-c65af402da77",
    "tags": []
   },
   "source": [
    "*Dica: Outra forma de fazer isso é selecionar as colunas que queremos manter: `taxis.loc[:,~mask]`.*"
   ]
  },
  {
   "cell_type": "markdown",
   "id": "23cc920e-4af6-456b-a0ce-87ade2b189ac",
   "metadata": {
    "id": "23cc920e-4af6-456b-a0ce-87ade2b189ac",
    "tags": []
   },
   "source": [
    "### Renomeando colunas\n",
    "\n",
    "Agora, vamos renomear as colunas de datetime (data e hora):"
   ]
  },
  {
   "cell_type": "code",
   "execution_count": 46,
   "id": "32ec2dc4-c8c3-424d-ae36-d732907b9f59",
   "metadata": {
    "colab": {
     "base_uri": "https://localhost:8080/"
    },
    "id": "32ec2dc4-c8c3-424d-ae36-d732907b9f59",
    "outputId": "28073e06-5694-40bc-899f-7c49c643b070"
   },
   "outputs": [
    {
     "data": {
      "text/plain": [
       "Index(['pickup', 'dropoff', 'passenger_count', 'trip_distance', 'payment_type',\n",
       "       'fare_amount', 'extra', 'mta_tax', 'tip_amount', 'tolls_amount',\n",
       "       'improvement_surcharge', 'total_amount', 'congestion_surcharge'],\n",
       "      dtype='object')"
      ]
     },
     "execution_count": 46,
     "metadata": {},
     "output_type": "execute_result"
    }
   ],
   "source": [
    "taxis.rename(\n",
    "    columns={\n",
    "        'tpep_pickup_datetime': 'pickup', \n",
    "        'tpep_dropoff_datetime': 'dropoff'\n",
    "    },\n",
    "    inplace=True\n",
    ")\n",
    "taxis.columns"
   ]
  },
  {
   "cell_type": "markdown",
   "id": "5c28403d-34f9-4c9c-a61e-3ad43a30e0dc",
   "metadata": {
    "id": "5c28403d-34f9-4c9c-a61e-3ad43a30e0dc",
    "tags": []
   },
   "source": [
    "**Importante**: Essa operação foi executada in-place &ndash; tome cuidade com operações in-place."
   ]
  },
  {
   "cell_type": "markdown",
   "id": "d74d21a8-d733-4afa-a140-29ccdcd83b46",
   "metadata": {
    "id": "d74d21a8-d733-4afa-a140-29ccdcd83b46",
    "tags": []
   },
   "source": [
    "### Conversão de tipo\n",
    "\n",
    "Nota algo estranho com esses tipos dos dados?"
   ]
  },
  {
   "cell_type": "code",
   "execution_count": 47,
   "id": "b5ff546c-4a66-4102-b947-1d9147e89369",
   "metadata": {
    "colab": {
     "base_uri": "https://localhost:8080/"
    },
    "id": "b5ff546c-4a66-4102-b947-1d9147e89369",
    "outputId": "3b875ade-1a7c-4d18-dbdb-7761e8c59d99"
   },
   "outputs": [
    {
     "data": {
      "text/plain": [
       "pickup                    object\n",
       "dropoff                   object\n",
       "passenger_count            int64\n",
       "trip_distance            float64\n",
       "payment_type               int64\n",
       "fare_amount              float64\n",
       "extra                    float64\n",
       "mta_tax                  float64\n",
       "tip_amount               float64\n",
       "tolls_amount             float64\n",
       "improvement_surcharge    float64\n",
       "total_amount             float64\n",
       "congestion_surcharge     float64\n",
       "dtype: object"
      ]
     },
     "execution_count": 47,
     "metadata": {},
     "output_type": "execute_result"
    }
   ],
   "source": [
    "taxis.dtypes"
   ]
  },
  {
   "cell_type": "markdown",
   "id": "fa644cbb-24dd-4a62-a350-f773c54c50fe",
   "metadata": {
    "id": "fa644cbb-24dd-4a62-a350-f773c54c50fe",
    "tags": []
   },
   "source": [
    "Tanto `pickup` quanto `dropoff` deveriam ser armazenados como datetimes. Vamos arrumar isso:"
   ]
  },
  {
   "cell_type": "code",
   "execution_count": 48,
   "id": "01299409-aace-4d41-bea5-7bd40a85e620",
   "metadata": {
    "colab": {
     "base_uri": "https://localhost:8080/"
    },
    "id": "01299409-aace-4d41-bea5-7bd40a85e620",
    "outputId": "e7ca5170-5936-40bb-9972-11d76abe9418"
   },
   "outputs": [
    {
     "data": {
      "text/plain": [
       "pickup                   datetime64[ns]\n",
       "dropoff                  datetime64[ns]\n",
       "passenger_count                   int64\n",
       "trip_distance                   float64\n",
       "payment_type                      int64\n",
       "fare_amount                     float64\n",
       "extra                           float64\n",
       "mta_tax                         float64\n",
       "tip_amount                      float64\n",
       "tolls_amount                    float64\n",
       "improvement_surcharge           float64\n",
       "total_amount                    float64\n",
       "congestion_surcharge            float64\n",
       "dtype: object"
      ]
     },
     "execution_count": 48,
     "metadata": {},
     "output_type": "execute_result"
    }
   ],
   "source": [
    "taxis.loc[:, ['pickup', 'dropoff']] = \\\n",
    "    taxis.loc[:, ['pickup', 'dropoff']].apply(pd.to_datetime)\n",
    "taxis.dtypes"
   ]
  },
  {
   "cell_type": "markdown",
   "id": "837ea457-45d8-4dae-aa0e-746be381f4da",
   "metadata": {
    "id": "837ea457-45d8-4dae-aa0e-746be381f4da"
   },
   "source": [
    "*Dica: Existem outras formas de realizar a conversão de tipo. Para valores numéricos, podemos utilizar a função `pd.to_numeric()`, e também veremos mais tarde o método `astype()`, que é mais genérico.*"
   ]
  },
  {
   "cell_type": "markdown",
   "id": "5a8fafca-8cf2-4402-ab34-758dabe955e2",
   "metadata": {
    "id": "5a8fafca-8cf2-4402-ab34-758dabe955e2",
    "tags": []
   },
   "source": [
    "### Criando novas colunas\n",
    "\n",
    "Vamos calcular os seguintes valores para cada linha:\n",
    "\n",
    "1. tempo decorrido da viagem (elapsed_time)\n",
    "2. a porcentagem de gorjeta (tip_pct)\n",
    "3. total de taxas, pedágios e honorários (fees)\n",
    "4. a velocidade média do taxi (avg_speed)\n",
    "\n",
    "Criamos uma coluna para cada um desses valores e para o custo antes da gorjeta (cost_before_tip):"
   ]
  },
  {
   "cell_type": "code",
   "execution_count": 49,
   "id": "644ba83f-f834-4296-971e-5e7b07b955a8",
   "metadata": {
    "id": "644ba83f-f834-4296-971e-5e7b07b955a8",
    "tags": []
   },
   "outputs": [],
   "source": [
    "taxis = taxis.assign(\n",
    "    elapsed_time=lambda x: x.dropoff - x.pickup, # 1\n",
    "    cost_before_tip=lambda x: x.total_amount - x.tip_amount,\n",
    "    tip_pct=lambda x: x.tip_amount / x.cost_before_tip, # 2\n",
    "    fees=lambda x: x.cost_before_tip - x.fare_amount, # 3\n",
    "    avg_speed=lambda x: x.trip_distance.div(\n",
    "        x.elapsed_time.dt.total_seconds() / 60 / 60\n",
    "    ) # 4\n",
    ")"
   ]
  },
  {
   "cell_type": "markdown",
   "id": "8d2cabea-d370-4ea9-951a-a22290fe182f",
   "metadata": {
    "id": "8d2cabea-d370-4ea9-951a-a22290fe182f"
   },
   "source": [
    "*Dica: Não conhece funções `lambda`? Essas pequenas e anônimas funções podem receber múltiplos argumentos, porém só podem conter uma expressão (o valor de retorno). Você verá essas funções em vários códigos que usam pandas. Leia mais sobre elas [aqui](https://realpython.com/python-lambda/).*"
   ]
  },
  {
   "cell_type": "markdown",
   "id": "b0b2af8a-0727-4e08-a07d-64ddb73a71dd",
   "metadata": {
    "id": "b0b2af8a-0727-4e08-a07d-64ddb73a71dd",
    "tags": []
   },
   "source": [
    "As novas colunas são adicionadas na direita:"
   ]
  },
  {
   "cell_type": "code",
   "execution_count": 50,
   "id": "ec0a2df8-4f40-4bb0-8cd8-0f558d218fd6",
   "metadata": {
    "colab": {
     "base_uri": "https://localhost:8080/",
     "height": 245
    },
    "id": "ec0a2df8-4f40-4bb0-8cd8-0f558d218fd6",
    "outputId": "2eefd793-992e-420a-e2e9-3af884b1df79"
   },
   "outputs": [
    {
     "data": {
      "text/html": [
       "<div>\n",
       "<style scoped>\n",
       "    .dataframe tbody tr th:only-of-type {\n",
       "        vertical-align: middle;\n",
       "    }\n",
       "\n",
       "    .dataframe tbody tr th {\n",
       "        vertical-align: top;\n",
       "    }\n",
       "\n",
       "    .dataframe thead th {\n",
       "        text-align: right;\n",
       "    }\n",
       "</style>\n",
       "<table border=\"1\" class=\"dataframe\">\n",
       "  <thead>\n",
       "    <tr style=\"text-align: right;\">\n",
       "      <th></th>\n",
       "      <th>pickup</th>\n",
       "      <th>dropoff</th>\n",
       "      <th>passenger_count</th>\n",
       "      <th>trip_distance</th>\n",
       "      <th>payment_type</th>\n",
       "      <th>fare_amount</th>\n",
       "      <th>extra</th>\n",
       "      <th>mta_tax</th>\n",
       "      <th>tip_amount</th>\n",
       "      <th>tolls_amount</th>\n",
       "      <th>improvement_surcharge</th>\n",
       "      <th>total_amount</th>\n",
       "      <th>congestion_surcharge</th>\n",
       "      <th>elapsed_time</th>\n",
       "      <th>cost_before_tip</th>\n",
       "      <th>tip_pct</th>\n",
       "      <th>fees</th>\n",
       "      <th>avg_speed</th>\n",
       "    </tr>\n",
       "  </thead>\n",
       "  <tbody>\n",
       "    <tr>\n",
       "      <th>0</th>\n",
       "      <td>2019-10-23 16:39:42</td>\n",
       "      <td>2019-10-23 17:14:10</td>\n",
       "      <td>1</td>\n",
       "      <td>7.93</td>\n",
       "      <td>1</td>\n",
       "      <td>29.5</td>\n",
       "      <td>1.0</td>\n",
       "      <td>0.5</td>\n",
       "      <td>7.98</td>\n",
       "      <td>6.12</td>\n",
       "      <td>0.3</td>\n",
       "      <td>47.9</td>\n",
       "      <td>2.5</td>\n",
       "      <td>0 days 00:34:28</td>\n",
       "      <td>39.92</td>\n",
       "      <td>0.1999</td>\n",
       "      <td>10.42</td>\n",
       "      <td>13.804642</td>\n",
       "    </tr>\n",
       "    <tr>\n",
       "      <th>1</th>\n",
       "      <td>2019-10-23 16:32:08</td>\n",
       "      <td>2019-10-23 16:45:26</td>\n",
       "      <td>1</td>\n",
       "      <td>2.00</td>\n",
       "      <td>1</td>\n",
       "      <td>10.5</td>\n",
       "      <td>1.0</td>\n",
       "      <td>0.5</td>\n",
       "      <td>0.00</td>\n",
       "      <td>0.00</td>\n",
       "      <td>0.3</td>\n",
       "      <td>12.3</td>\n",
       "      <td>0.0</td>\n",
       "      <td>0 days 00:13:18</td>\n",
       "      <td>12.30</td>\n",
       "      <td>0.0000</td>\n",
       "      <td>1.80</td>\n",
       "      <td>9.022556</td>\n",
       "    </tr>\n",
       "  </tbody>\n",
       "</table>\n",
       "</div>"
      ],
      "text/plain": [
       "               pickup             dropoff  passenger_count  trip_distance  \\\n",
       "0 2019-10-23 16:39:42 2019-10-23 17:14:10                1           7.93   \n",
       "1 2019-10-23 16:32:08 2019-10-23 16:45:26                1           2.00   \n",
       "\n",
       "   payment_type  fare_amount  extra  mta_tax  tip_amount  tolls_amount  \\\n",
       "0             1         29.5    1.0      0.5        7.98          6.12   \n",
       "1             1         10.5    1.0      0.5        0.00          0.00   \n",
       "\n",
       "   improvement_surcharge  total_amount  congestion_surcharge    elapsed_time  \\\n",
       "0                    0.3          47.9                   2.5 0 days 00:34:28   \n",
       "1                    0.3          12.3                   0.0 0 days 00:13:18   \n",
       "\n",
       "   cost_before_tip  tip_pct   fees  avg_speed  \n",
       "0            39.92   0.1999  10.42  13.804642  \n",
       "1            12.30   0.0000   1.80   9.022556  "
      ]
     },
     "execution_count": 50,
     "metadata": {},
     "output_type": "execute_result"
    }
   ],
   "source": [
    "taxis.head(2)"
   ]
  },
  {
   "cell_type": "markdown",
   "id": "15049dfd-dd9e-4365-8ecf-0a74f5fe3498",
   "metadata": {
    "id": "15049dfd-dd9e-4365-8ecf-0a74f5fe3498",
    "tags": []
   },
   "source": [
    "Algumas coisas a serem observadas:\n",
    "- Utilizamos funções `lambda` para 1) evitar digitar `taxis` várias vezes e 2) para conseguir acessar as colunas `cost_before_tip` e `elapsed_time` no mesmo método no qual elas são criadas.\n",
    "- Para criar uma única coluna, também podemos utilizar `df['nova_coluna'] = <valores>`."
   ]
  },
  {
   "cell_type": "markdown",
   "id": "f1ebce53-9f31-4aa0-806d-a1a9fa43ece1",
   "metadata": {
    "id": "f1ebce53-9f31-4aa0-806d-a1a9fa43ece1",
    "tags": []
   },
   "source": [
    "### Ordenando por valores\n",
    "\n",
    "Podemos utilizar o método `sort_values()` para ordenar com base em qualquer número de colunas:"
   ]
  },
  {
   "cell_type": "code",
   "execution_count": 51,
   "id": "77dbdd94-e6b7-4fb9-b6b1-718633b0a38a",
   "metadata": {
    "colab": {
     "base_uri": "https://localhost:8080/",
     "height": 444
    },
    "id": "77dbdd94-e6b7-4fb9-b6b1-718633b0a38a",
    "outputId": "3f635256-a8c4-4593-b1ca-0b6cf01e8914"
   },
   "outputs": [
    {
     "data": {
      "text/html": [
       "<div>\n",
       "<style scoped>\n",
       "    .dataframe tbody tr th:only-of-type {\n",
       "        vertical-align: middle;\n",
       "    }\n",
       "\n",
       "    .dataframe tbody tr th {\n",
       "        vertical-align: top;\n",
       "    }\n",
       "\n",
       "    .dataframe thead th {\n",
       "        text-align: right;\n",
       "    }\n",
       "</style>\n",
       "<table border=\"1\" class=\"dataframe\">\n",
       "  <thead>\n",
       "    <tr style=\"text-align: right;\">\n",
       "      <th></th>\n",
       "      <th>pickup</th>\n",
       "      <th>dropoff</th>\n",
       "      <th>passenger_count</th>\n",
       "      <th>trip_distance</th>\n",
       "      <th>payment_type</th>\n",
       "      <th>fare_amount</th>\n",
       "      <th>extra</th>\n",
       "      <th>mta_tax</th>\n",
       "      <th>tip_amount</th>\n",
       "      <th>tolls_amount</th>\n",
       "      <th>improvement_surcharge</th>\n",
       "      <th>total_amount</th>\n",
       "      <th>congestion_surcharge</th>\n",
       "      <th>elapsed_time</th>\n",
       "      <th>cost_before_tip</th>\n",
       "      <th>tip_pct</th>\n",
       "      <th>fees</th>\n",
       "      <th>avg_speed</th>\n",
       "    </tr>\n",
       "  </thead>\n",
       "  <tbody>\n",
       "    <tr>\n",
       "      <th>5997</th>\n",
       "      <td>2019-10-23 15:55:19</td>\n",
       "      <td>2019-10-23 16:08:25</td>\n",
       "      <td>6</td>\n",
       "      <td>1.58</td>\n",
       "      <td>2</td>\n",
       "      <td>10.0</td>\n",
       "      <td>1.0</td>\n",
       "      <td>0.5</td>\n",
       "      <td>0.0</td>\n",
       "      <td>0.0</td>\n",
       "      <td>0.3</td>\n",
       "      <td>14.3</td>\n",
       "      <td>2.5</td>\n",
       "      <td>0 days 00:13:06</td>\n",
       "      <td>14.3</td>\n",
       "      <td>0.000000</td>\n",
       "      <td>4.3</td>\n",
       "      <td>7.236641</td>\n",
       "    </tr>\n",
       "    <tr>\n",
       "      <th>443</th>\n",
       "      <td>2019-10-23 15:56:59</td>\n",
       "      <td>2019-10-23 16:04:33</td>\n",
       "      <td>6</td>\n",
       "      <td>1.46</td>\n",
       "      <td>2</td>\n",
       "      <td>7.5</td>\n",
       "      <td>1.0</td>\n",
       "      <td>0.5</td>\n",
       "      <td>0.0</td>\n",
       "      <td>0.0</td>\n",
       "      <td>0.3</td>\n",
       "      <td>11.8</td>\n",
       "      <td>2.5</td>\n",
       "      <td>0 days 00:07:34</td>\n",
       "      <td>11.8</td>\n",
       "      <td>0.000000</td>\n",
       "      <td>4.3</td>\n",
       "      <td>11.577093</td>\n",
       "    </tr>\n",
       "    <tr>\n",
       "      <th>8722</th>\n",
       "      <td>2019-10-23 15:57:33</td>\n",
       "      <td>2019-10-23 16:03:34</td>\n",
       "      <td>6</td>\n",
       "      <td>0.62</td>\n",
       "      <td>1</td>\n",
       "      <td>5.5</td>\n",
       "      <td>1.0</td>\n",
       "      <td>0.5</td>\n",
       "      <td>0.7</td>\n",
       "      <td>0.0</td>\n",
       "      <td>0.3</td>\n",
       "      <td>10.5</td>\n",
       "      <td>2.5</td>\n",
       "      <td>0 days 00:06:01</td>\n",
       "      <td>9.8</td>\n",
       "      <td>0.071429</td>\n",
       "      <td>4.3</td>\n",
       "      <td>6.182825</td>\n",
       "    </tr>\n",
       "    <tr>\n",
       "      <th>4198</th>\n",
       "      <td>2019-10-23 15:57:38</td>\n",
       "      <td>2019-10-23 16:05:07</td>\n",
       "      <td>6</td>\n",
       "      <td>1.18</td>\n",
       "      <td>1</td>\n",
       "      <td>7.0</td>\n",
       "      <td>1.0</td>\n",
       "      <td>0.5</td>\n",
       "      <td>1.0</td>\n",
       "      <td>0.0</td>\n",
       "      <td>0.3</td>\n",
       "      <td>12.3</td>\n",
       "      <td>2.5</td>\n",
       "      <td>0 days 00:07:29</td>\n",
       "      <td>11.3</td>\n",
       "      <td>0.088496</td>\n",
       "      <td>4.3</td>\n",
       "      <td>9.461024</td>\n",
       "    </tr>\n",
       "    <tr>\n",
       "      <th>8238</th>\n",
       "      <td>2019-10-23 15:58:31</td>\n",
       "      <td>2019-10-23 16:29:29</td>\n",
       "      <td>6</td>\n",
       "      <td>3.23</td>\n",
       "      <td>2</td>\n",
       "      <td>19.5</td>\n",
       "      <td>1.0</td>\n",
       "      <td>0.5</td>\n",
       "      <td>0.0</td>\n",
       "      <td>0.0</td>\n",
       "      <td>0.3</td>\n",
       "      <td>23.8</td>\n",
       "      <td>2.5</td>\n",
       "      <td>0 days 00:30:58</td>\n",
       "      <td>23.8</td>\n",
       "      <td>0.000000</td>\n",
       "      <td>4.3</td>\n",
       "      <td>6.258342</td>\n",
       "    </tr>\n",
       "  </tbody>\n",
       "</table>\n",
       "</div>"
      ],
      "text/plain": [
       "                  pickup             dropoff  passenger_count  trip_distance  \\\n",
       "5997 2019-10-23 15:55:19 2019-10-23 16:08:25                6           1.58   \n",
       "443  2019-10-23 15:56:59 2019-10-23 16:04:33                6           1.46   \n",
       "8722 2019-10-23 15:57:33 2019-10-23 16:03:34                6           0.62   \n",
       "4198 2019-10-23 15:57:38 2019-10-23 16:05:07                6           1.18   \n",
       "8238 2019-10-23 15:58:31 2019-10-23 16:29:29                6           3.23   \n",
       "\n",
       "      payment_type  fare_amount  extra  mta_tax  tip_amount  tolls_amount  \\\n",
       "5997             2         10.0    1.0      0.5         0.0           0.0   \n",
       "443              2          7.5    1.0      0.5         0.0           0.0   \n",
       "8722             1          5.5    1.0      0.5         0.7           0.0   \n",
       "4198             1          7.0    1.0      0.5         1.0           0.0   \n",
       "8238             2         19.5    1.0      0.5         0.0           0.0   \n",
       "\n",
       "      improvement_surcharge  total_amount  congestion_surcharge  \\\n",
       "5997                    0.3          14.3                   2.5   \n",
       "443                     0.3          11.8                   2.5   \n",
       "8722                    0.3          10.5                   2.5   \n",
       "4198                    0.3          12.3                   2.5   \n",
       "8238                    0.3          23.8                   2.5   \n",
       "\n",
       "        elapsed_time  cost_before_tip   tip_pct  fees  avg_speed  \n",
       "5997 0 days 00:13:06             14.3  0.000000   4.3   7.236641  \n",
       "443  0 days 00:07:34             11.8  0.000000   4.3  11.577093  \n",
       "8722 0 days 00:06:01              9.8  0.071429   4.3   6.182825  \n",
       "4198 0 days 00:07:29             11.3  0.088496   4.3   9.461024  \n",
       "8238 0 days 00:30:58             23.8  0.000000   4.3   6.258342  "
      ]
     },
     "execution_count": 51,
     "metadata": {},
     "output_type": "execute_result"
    }
   ],
   "source": [
    "taxis.sort_values(['passenger_count', 'pickup'], ascending=[False, True]).head()"
   ]
  },
  {
   "cell_type": "markdown",
   "id": "e8d98a7c-7f12-43b7-9450-f0c0fa3162d3",
   "metadata": {
    "id": "e8d98a7c-7f12-43b7-9450-f0c0fa3162d3",
    "tags": []
   },
   "source": [
    "Para escolher as linhas com os maiores/menores valores de uma determinada coluna, use `nlargest()` / `nsmallest()`. Olhando as 3 viagens com os maiores tempos decorridos, vemos alguns possíveis problemas de integridade dos dados:"
   ]
  },
  {
   "cell_type": "code",
   "execution_count": 52,
   "id": "e1a26519-acb9-49e5-af1c-f5b055413bf8",
   "metadata": {
    "colab": {
     "base_uri": "https://localhost:8080/",
     "height": 312
    },
    "id": "e1a26519-acb9-49e5-af1c-f5b055413bf8",
    "outputId": "8c281f5b-e72b-4a09-a79b-11608c435f49"
   },
   "outputs": [
    {
     "data": {
      "text/html": [
       "<div>\n",
       "<style scoped>\n",
       "    .dataframe tbody tr th:only-of-type {\n",
       "        vertical-align: middle;\n",
       "    }\n",
       "\n",
       "    .dataframe tbody tr th {\n",
       "        vertical-align: top;\n",
       "    }\n",
       "\n",
       "    .dataframe thead th {\n",
       "        text-align: right;\n",
       "    }\n",
       "</style>\n",
       "<table border=\"1\" class=\"dataframe\">\n",
       "  <thead>\n",
       "    <tr style=\"text-align: right;\">\n",
       "      <th></th>\n",
       "      <th>pickup</th>\n",
       "      <th>dropoff</th>\n",
       "      <th>passenger_count</th>\n",
       "      <th>trip_distance</th>\n",
       "      <th>payment_type</th>\n",
       "      <th>fare_amount</th>\n",
       "      <th>extra</th>\n",
       "      <th>mta_tax</th>\n",
       "      <th>tip_amount</th>\n",
       "      <th>tolls_amount</th>\n",
       "      <th>improvement_surcharge</th>\n",
       "      <th>total_amount</th>\n",
       "      <th>congestion_surcharge</th>\n",
       "      <th>elapsed_time</th>\n",
       "      <th>cost_before_tip</th>\n",
       "      <th>tip_pct</th>\n",
       "      <th>fees</th>\n",
       "      <th>avg_speed</th>\n",
       "    </tr>\n",
       "  </thead>\n",
       "  <tbody>\n",
       "    <tr>\n",
       "      <th>7576</th>\n",
       "      <td>2019-10-23 16:52:51</td>\n",
       "      <td>2019-10-24 16:51:44</td>\n",
       "      <td>1</td>\n",
       "      <td>3.75</td>\n",
       "      <td>1</td>\n",
       "      <td>17.5</td>\n",
       "      <td>1.0</td>\n",
       "      <td>0.5</td>\n",
       "      <td>0.0</td>\n",
       "      <td>0.0</td>\n",
       "      <td>0.3</td>\n",
       "      <td>21.8</td>\n",
       "      <td>2.5</td>\n",
       "      <td>0 days 23:58:53</td>\n",
       "      <td>21.8</td>\n",
       "      <td>0.0</td>\n",
       "      <td>4.3</td>\n",
       "      <td>0.156371</td>\n",
       "    </tr>\n",
       "    <tr>\n",
       "      <th>6902</th>\n",
       "      <td>2019-10-23 16:51:42</td>\n",
       "      <td>2019-10-24 16:50:22</td>\n",
       "      <td>1</td>\n",
       "      <td>11.19</td>\n",
       "      <td>2</td>\n",
       "      <td>39.5</td>\n",
       "      <td>1.0</td>\n",
       "      <td>0.5</td>\n",
       "      <td>0.0</td>\n",
       "      <td>0.0</td>\n",
       "      <td>0.3</td>\n",
       "      <td>41.3</td>\n",
       "      <td>0.0</td>\n",
       "      <td>0 days 23:58:40</td>\n",
       "      <td>41.3</td>\n",
       "      <td>0.0</td>\n",
       "      <td>1.8</td>\n",
       "      <td>0.466682</td>\n",
       "    </tr>\n",
       "    <tr>\n",
       "      <th>4975</th>\n",
       "      <td>2019-10-23 16:18:51</td>\n",
       "      <td>2019-10-24 16:17:30</td>\n",
       "      <td>1</td>\n",
       "      <td>0.70</td>\n",
       "      <td>2</td>\n",
       "      <td>7.0</td>\n",
       "      <td>1.0</td>\n",
       "      <td>0.5</td>\n",
       "      <td>0.0</td>\n",
       "      <td>0.0</td>\n",
       "      <td>0.3</td>\n",
       "      <td>11.3</td>\n",
       "      <td>2.5</td>\n",
       "      <td>0 days 23:58:39</td>\n",
       "      <td>11.3</td>\n",
       "      <td>0.0</td>\n",
       "      <td>4.3</td>\n",
       "      <td>0.029194</td>\n",
       "    </tr>\n",
       "  </tbody>\n",
       "</table>\n",
       "</div>"
      ],
      "text/plain": [
       "                  pickup             dropoff  passenger_count  trip_distance  \\\n",
       "7576 2019-10-23 16:52:51 2019-10-24 16:51:44                1           3.75   \n",
       "6902 2019-10-23 16:51:42 2019-10-24 16:50:22                1          11.19   \n",
       "4975 2019-10-23 16:18:51 2019-10-24 16:17:30                1           0.70   \n",
       "\n",
       "      payment_type  fare_amount  extra  mta_tax  tip_amount  tolls_amount  \\\n",
       "7576             1         17.5    1.0      0.5         0.0           0.0   \n",
       "6902             2         39.5    1.0      0.5         0.0           0.0   \n",
       "4975             2          7.0    1.0      0.5         0.0           0.0   \n",
       "\n",
       "      improvement_surcharge  total_amount  congestion_surcharge  \\\n",
       "7576                    0.3          21.8                   2.5   \n",
       "6902                    0.3          41.3                   0.0   \n",
       "4975                    0.3          11.3                   2.5   \n",
       "\n",
       "        elapsed_time  cost_before_tip  tip_pct  fees  avg_speed  \n",
       "7576 0 days 23:58:53             21.8      0.0   4.3   0.156371  \n",
       "6902 0 days 23:58:40             41.3      0.0   1.8   0.466682  \n",
       "4975 0 days 23:58:39             11.3      0.0   4.3   0.029194  "
      ]
     },
     "execution_count": 52,
     "metadata": {},
     "output_type": "execute_result"
    }
   ],
   "source": [
    "taxis.nlargest(3, 'elapsed_time')"
   ]
  },
  {
   "cell_type": "markdown",
   "id": "97d61c46-b1f4-4531-8a2c-0ac8fcce6007",
   "metadata": {
    "id": "97d61c46-b1f4-4531-8a2c-0ac8fcce6007",
    "tags": []
   },
   "source": [
    "## Trabalhando com indíces\n",
    "\n",
    "Até agora não trabalhamos muito com indíces porque eles são eram apenas os números das linhas; porém, podemos mudar os valores que temos no indíce para acessar funcionalidades adicionais da biblioteca pandas."
   ]
  },
  {
   "cell_type": "markdown",
   "id": "cacbf64c-6356-4a2d-8a86-bd143d42914d",
   "metadata": {
    "id": "cacbf64c-6356-4a2d-8a86-bd143d42914d",
    "tags": []
   },
   "source": [
    "### Definindo e ordenando indíces\n",
    "\n",
    "Atualmente, temos um RangeIndex(indíce de intervalo), porém podemos trocar para um DatetimeIndex(indíce por data e hora) especificando uma coluna de datetime quando chamamos `set_index()`:"
   ]
  },
  {
   "cell_type": "code",
   "execution_count": 53,
   "id": "223e2254-fef2-463f-841b-7b62e04cab4b",
   "metadata": {
    "colab": {
     "base_uri": "https://localhost:8080/",
     "height": 343
    },
    "id": "223e2254-fef2-463f-841b-7b62e04cab4b",
    "outputId": "0f6eaa6f-2ca5-414b-d858-6c18f852e7d2"
   },
   "outputs": [
    {
     "data": {
      "text/html": [
       "<div>\n",
       "<style scoped>\n",
       "    .dataframe tbody tr th:only-of-type {\n",
       "        vertical-align: middle;\n",
       "    }\n",
       "\n",
       "    .dataframe tbody tr th {\n",
       "        vertical-align: top;\n",
       "    }\n",
       "\n",
       "    .dataframe thead th {\n",
       "        text-align: right;\n",
       "    }\n",
       "</style>\n",
       "<table border=\"1\" class=\"dataframe\">\n",
       "  <thead>\n",
       "    <tr style=\"text-align: right;\">\n",
       "      <th></th>\n",
       "      <th>dropoff</th>\n",
       "      <th>passenger_count</th>\n",
       "      <th>trip_distance</th>\n",
       "      <th>payment_type</th>\n",
       "      <th>fare_amount</th>\n",
       "      <th>extra</th>\n",
       "      <th>mta_tax</th>\n",
       "      <th>tip_amount</th>\n",
       "      <th>tolls_amount</th>\n",
       "      <th>improvement_surcharge</th>\n",
       "      <th>total_amount</th>\n",
       "      <th>congestion_surcharge</th>\n",
       "      <th>elapsed_time</th>\n",
       "      <th>cost_before_tip</th>\n",
       "      <th>tip_pct</th>\n",
       "      <th>fees</th>\n",
       "      <th>avg_speed</th>\n",
       "    </tr>\n",
       "    <tr>\n",
       "      <th>pickup</th>\n",
       "      <th></th>\n",
       "      <th></th>\n",
       "      <th></th>\n",
       "      <th></th>\n",
       "      <th></th>\n",
       "      <th></th>\n",
       "      <th></th>\n",
       "      <th></th>\n",
       "      <th></th>\n",
       "      <th></th>\n",
       "      <th></th>\n",
       "      <th></th>\n",
       "      <th></th>\n",
       "      <th></th>\n",
       "      <th></th>\n",
       "      <th></th>\n",
       "      <th></th>\n",
       "    </tr>\n",
       "  </thead>\n",
       "  <tbody>\n",
       "    <tr>\n",
       "      <th>2019-10-23 16:39:42</th>\n",
       "      <td>2019-10-23 17:14:10</td>\n",
       "      <td>1</td>\n",
       "      <td>7.93</td>\n",
       "      <td>1</td>\n",
       "      <td>29.5</td>\n",
       "      <td>1.0</td>\n",
       "      <td>0.5</td>\n",
       "      <td>7.98</td>\n",
       "      <td>6.12</td>\n",
       "      <td>0.3</td>\n",
       "      <td>47.9</td>\n",
       "      <td>2.5</td>\n",
       "      <td>0 days 00:34:28</td>\n",
       "      <td>39.92</td>\n",
       "      <td>0.199900</td>\n",
       "      <td>10.42</td>\n",
       "      <td>13.804642</td>\n",
       "    </tr>\n",
       "    <tr>\n",
       "      <th>2019-10-23 16:32:08</th>\n",
       "      <td>2019-10-23 16:45:26</td>\n",
       "      <td>1</td>\n",
       "      <td>2.00</td>\n",
       "      <td>1</td>\n",
       "      <td>10.5</td>\n",
       "      <td>1.0</td>\n",
       "      <td>0.5</td>\n",
       "      <td>0.00</td>\n",
       "      <td>0.00</td>\n",
       "      <td>0.3</td>\n",
       "      <td>12.3</td>\n",
       "      <td>0.0</td>\n",
       "      <td>0 days 00:13:18</td>\n",
       "      <td>12.30</td>\n",
       "      <td>0.000000</td>\n",
       "      <td>1.80</td>\n",
       "      <td>9.022556</td>\n",
       "    </tr>\n",
       "    <tr>\n",
       "      <th>2019-10-23 16:08:44</th>\n",
       "      <td>2019-10-23 16:21:11</td>\n",
       "      <td>1</td>\n",
       "      <td>1.36</td>\n",
       "      <td>1</td>\n",
       "      <td>9.5</td>\n",
       "      <td>1.0</td>\n",
       "      <td>0.5</td>\n",
       "      <td>2.00</td>\n",
       "      <td>0.00</td>\n",
       "      <td>0.3</td>\n",
       "      <td>15.8</td>\n",
       "      <td>2.5</td>\n",
       "      <td>0 days 00:12:27</td>\n",
       "      <td>13.80</td>\n",
       "      <td>0.144928</td>\n",
       "      <td>4.30</td>\n",
       "      <td>6.554217</td>\n",
       "    </tr>\n",
       "  </tbody>\n",
       "</table>\n",
       "</div>"
      ],
      "text/plain": [
       "                                dropoff  passenger_count  trip_distance  \\\n",
       "pickup                                                                    \n",
       "2019-10-23 16:39:42 2019-10-23 17:14:10                1           7.93   \n",
       "2019-10-23 16:32:08 2019-10-23 16:45:26                1           2.00   \n",
       "2019-10-23 16:08:44 2019-10-23 16:21:11                1           1.36   \n",
       "\n",
       "                     payment_type  fare_amount  extra  mta_tax  tip_amount  \\\n",
       "pickup                                                                       \n",
       "2019-10-23 16:39:42             1         29.5    1.0      0.5        7.98   \n",
       "2019-10-23 16:32:08             1         10.5    1.0      0.5        0.00   \n",
       "2019-10-23 16:08:44             1          9.5    1.0      0.5        2.00   \n",
       "\n",
       "                     tolls_amount  improvement_surcharge  total_amount  \\\n",
       "pickup                                                                   \n",
       "2019-10-23 16:39:42          6.12                    0.3          47.9   \n",
       "2019-10-23 16:32:08          0.00                    0.3          12.3   \n",
       "2019-10-23 16:08:44          0.00                    0.3          15.8   \n",
       "\n",
       "                     congestion_surcharge    elapsed_time  cost_before_tip  \\\n",
       "pickup                                                                       \n",
       "2019-10-23 16:39:42                   2.5 0 days 00:34:28            39.92   \n",
       "2019-10-23 16:32:08                   0.0 0 days 00:13:18            12.30   \n",
       "2019-10-23 16:08:44                   2.5 0 days 00:12:27            13.80   \n",
       "\n",
       "                      tip_pct   fees  avg_speed  \n",
       "pickup                                           \n",
       "2019-10-23 16:39:42  0.199900  10.42  13.804642  \n",
       "2019-10-23 16:32:08  0.000000   1.80   9.022556  \n",
       "2019-10-23 16:08:44  0.144928   4.30   6.554217  "
      ]
     },
     "execution_count": 53,
     "metadata": {},
     "output_type": "execute_result"
    }
   ],
   "source": [
    "taxis.set_index('pickup', inplace=True)\n",
    "taxis.head(3)"
   ]
  },
  {
   "cell_type": "markdown",
   "id": "1e150b7a-cc6c-4b2a-a32c-13513e1fd518",
   "metadata": {
    "id": "1e150b7a-cc6c-4b2a-a32c-13513e1fd518",
    "tags": []
   },
   "source": [
    "Agora que temos uma amostra de todo o dataset, vamos ordenar os indíces pelo horário que o passageiro entra no taxi:"
   ]
  },
  {
   "cell_type": "code",
   "execution_count": 54,
   "id": "10477bf0-2d83-478c-8f9a-f15ba363b74c",
   "metadata": {
    "id": "10477bf0-2d83-478c-8f9a-f15ba363b74c"
   },
   "outputs": [],
   "source": [
    "taxis.sort_index(inplace=True)"
   ]
  },
  {
   "cell_type": "markdown",
   "id": "a1c718db-b445-4290-b5bc-6afa51e45eac",
   "metadata": {
    "id": "a1c718db-b445-4290-b5bc-6afa51e45eac",
    "tags": []
   },
   "source": [
    "*Dica: `taxis.sort_index(axis=1)` ordenará as colunas por nome. O parâmetro `axis` está presente na biblioteca pandas: `axis=0` atinge as linhas e `axis=1` as colunas.*"
   ]
  },
  {
   "cell_type": "markdown",
   "id": "b44074fe-6b74-4a2d-80b0-e5ed7fc7c9f6",
   "metadata": {
    "id": "b44074fe-6b74-4a2d-80b0-e5ed7fc7c9f6",
    "tags": []
   },
   "source": [
    "Agora podemos selecionar os intervalos dos dados baseados no dia e hora, do mesmo jeito que fizemos com os números das linhas:"
   ]
  },
  {
   "cell_type": "code",
   "execution_count": 55,
   "id": "825b2083-236c-4cfe-957d-4242619c659d",
   "metadata": {
    "colab": {
     "base_uri": "https://localhost:8080/",
     "height": 343
    },
    "id": "825b2083-236c-4cfe-957d-4242619c659d",
    "outputId": "290cc614-96cb-4567-d931-c9e7859f7645"
   },
   "outputs": [
    {
     "data": {
      "text/html": [
       "<div>\n",
       "<style scoped>\n",
       "    .dataframe tbody tr th:only-of-type {\n",
       "        vertical-align: middle;\n",
       "    }\n",
       "\n",
       "    .dataframe tbody tr th {\n",
       "        vertical-align: top;\n",
       "    }\n",
       "\n",
       "    .dataframe thead th {\n",
       "        text-align: right;\n",
       "    }\n",
       "</style>\n",
       "<table border=\"1\" class=\"dataframe\">\n",
       "  <thead>\n",
       "    <tr style=\"text-align: right;\">\n",
       "      <th></th>\n",
       "      <th>dropoff</th>\n",
       "      <th>passenger_count</th>\n",
       "      <th>trip_distance</th>\n",
       "      <th>payment_type</th>\n",
       "      <th>fare_amount</th>\n",
       "      <th>extra</th>\n",
       "      <th>mta_tax</th>\n",
       "      <th>tip_amount</th>\n",
       "      <th>tolls_amount</th>\n",
       "      <th>improvement_surcharge</th>\n",
       "      <th>total_amount</th>\n",
       "      <th>congestion_surcharge</th>\n",
       "      <th>elapsed_time</th>\n",
       "      <th>cost_before_tip</th>\n",
       "      <th>tip_pct</th>\n",
       "      <th>fees</th>\n",
       "      <th>avg_speed</th>\n",
       "    </tr>\n",
       "    <tr>\n",
       "      <th>pickup</th>\n",
       "      <th></th>\n",
       "      <th></th>\n",
       "      <th></th>\n",
       "      <th></th>\n",
       "      <th></th>\n",
       "      <th></th>\n",
       "      <th></th>\n",
       "      <th></th>\n",
       "      <th></th>\n",
       "      <th></th>\n",
       "      <th></th>\n",
       "      <th></th>\n",
       "      <th></th>\n",
       "      <th></th>\n",
       "      <th></th>\n",
       "      <th></th>\n",
       "      <th></th>\n",
       "    </tr>\n",
       "  </thead>\n",
       "  <tbody>\n",
       "    <tr>\n",
       "      <th>2019-10-23 07:48:58</th>\n",
       "      <td>2019-10-23 07:52:09</td>\n",
       "      <td>1</td>\n",
       "      <td>0.67</td>\n",
       "      <td>2</td>\n",
       "      <td>4.5</td>\n",
       "      <td>1.0</td>\n",
       "      <td>0.5</td>\n",
       "      <td>0.0</td>\n",
       "      <td>0.0</td>\n",
       "      <td>0.3</td>\n",
       "      <td>8.8</td>\n",
       "      <td>2.5</td>\n",
       "      <td>0 days 00:03:11</td>\n",
       "      <td>8.8</td>\n",
       "      <td>0.000000</td>\n",
       "      <td>4.3</td>\n",
       "      <td>12.628272</td>\n",
       "    </tr>\n",
       "    <tr>\n",
       "      <th>2019-10-23 08:02:09</th>\n",
       "      <td>2019-10-24 07:42:32</td>\n",
       "      <td>1</td>\n",
       "      <td>8.38</td>\n",
       "      <td>1</td>\n",
       "      <td>32.0</td>\n",
       "      <td>1.0</td>\n",
       "      <td>0.5</td>\n",
       "      <td>5.5</td>\n",
       "      <td>0.0</td>\n",
       "      <td>0.3</td>\n",
       "      <td>41.8</td>\n",
       "      <td>2.5</td>\n",
       "      <td>0 days 23:40:23</td>\n",
       "      <td>36.3</td>\n",
       "      <td>0.151515</td>\n",
       "      <td>4.3</td>\n",
       "      <td>0.353989</td>\n",
       "    </tr>\n",
       "    <tr>\n",
       "      <th>2019-10-23 08:18:47</th>\n",
       "      <td>2019-10-23 08:36:05</td>\n",
       "      <td>1</td>\n",
       "      <td>2.39</td>\n",
       "      <td>2</td>\n",
       "      <td>12.5</td>\n",
       "      <td>1.0</td>\n",
       "      <td>0.5</td>\n",
       "      <td>0.0</td>\n",
       "      <td>0.0</td>\n",
       "      <td>0.3</td>\n",
       "      <td>16.8</td>\n",
       "      <td>2.5</td>\n",
       "      <td>0 days 00:17:18</td>\n",
       "      <td>16.8</td>\n",
       "      <td>0.000000</td>\n",
       "      <td>4.3</td>\n",
       "      <td>8.289017</td>\n",
       "    </tr>\n",
       "  </tbody>\n",
       "</table>\n",
       "</div>"
      ],
      "text/plain": [
       "                                dropoff  passenger_count  trip_distance  \\\n",
       "pickup                                                                    \n",
       "2019-10-23 07:48:58 2019-10-23 07:52:09                1           0.67   \n",
       "2019-10-23 08:02:09 2019-10-24 07:42:32                1           8.38   \n",
       "2019-10-23 08:18:47 2019-10-23 08:36:05                1           2.39   \n",
       "\n",
       "                     payment_type  fare_amount  extra  mta_tax  tip_amount  \\\n",
       "pickup                                                                       \n",
       "2019-10-23 07:48:58             2          4.5    1.0      0.5         0.0   \n",
       "2019-10-23 08:02:09             1         32.0    1.0      0.5         5.5   \n",
       "2019-10-23 08:18:47             2         12.5    1.0      0.5         0.0   \n",
       "\n",
       "                     tolls_amount  improvement_surcharge  total_amount  \\\n",
       "pickup                                                                   \n",
       "2019-10-23 07:48:58           0.0                    0.3           8.8   \n",
       "2019-10-23 08:02:09           0.0                    0.3          41.8   \n",
       "2019-10-23 08:18:47           0.0                    0.3          16.8   \n",
       "\n",
       "                     congestion_surcharge    elapsed_time  cost_before_tip  \\\n",
       "pickup                                                                       \n",
       "2019-10-23 07:48:58                   2.5 0 days 00:03:11              8.8   \n",
       "2019-10-23 08:02:09                   2.5 0 days 23:40:23             36.3   \n",
       "2019-10-23 08:18:47                   2.5 0 days 00:17:18             16.8   \n",
       "\n",
       "                      tip_pct  fees  avg_speed  \n",
       "pickup                                          \n",
       "2019-10-23 07:48:58  0.000000   4.3  12.628272  \n",
       "2019-10-23 08:02:09  0.151515   4.3   0.353989  \n",
       "2019-10-23 08:18:47  0.000000   4.3   8.289017  "
      ]
     },
     "execution_count": 55,
     "metadata": {},
     "output_type": "execute_result"
    }
   ],
   "source": [
    "taxis['2019-10-23 07:45':'2019-10-23 08']"
   ]
  },
  {
   "cell_type": "markdown",
   "id": "c88bc8bb-a159-4347-84f5-654315facd1e",
   "metadata": {
    "id": "c88bc8bb-a159-4347-84f5-654315facd1e",
    "tags": []
   },
   "source": [
    "Quando o intervalo não é especificado, usamos `loc[]`:"
   ]
  },
  {
   "cell_type": "code",
   "execution_count": 56,
   "id": "fef82610-a9ca-47f3-b8f9-fca6cb8215c6",
   "metadata": {
    "colab": {
     "base_uri": "https://localhost:8080/",
     "height": 277
    },
    "id": "fef82610-a9ca-47f3-b8f9-fca6cb8215c6",
    "outputId": "eea2647e-992f-4ba2-b6f2-4c2529bb1943"
   },
   "outputs": [
    {
     "data": {
      "text/html": [
       "<div>\n",
       "<style scoped>\n",
       "    .dataframe tbody tr th:only-of-type {\n",
       "        vertical-align: middle;\n",
       "    }\n",
       "\n",
       "    .dataframe tbody tr th {\n",
       "        vertical-align: top;\n",
       "    }\n",
       "\n",
       "    .dataframe thead th {\n",
       "        text-align: right;\n",
       "    }\n",
       "</style>\n",
       "<table border=\"1\" class=\"dataframe\">\n",
       "  <thead>\n",
       "    <tr style=\"text-align: right;\">\n",
       "      <th></th>\n",
       "      <th>dropoff</th>\n",
       "      <th>passenger_count</th>\n",
       "      <th>trip_distance</th>\n",
       "      <th>payment_type</th>\n",
       "      <th>fare_amount</th>\n",
       "      <th>extra</th>\n",
       "      <th>mta_tax</th>\n",
       "      <th>tip_amount</th>\n",
       "      <th>tolls_amount</th>\n",
       "      <th>improvement_surcharge</th>\n",
       "      <th>total_amount</th>\n",
       "      <th>congestion_surcharge</th>\n",
       "      <th>elapsed_time</th>\n",
       "      <th>cost_before_tip</th>\n",
       "      <th>tip_pct</th>\n",
       "      <th>fees</th>\n",
       "      <th>avg_speed</th>\n",
       "    </tr>\n",
       "    <tr>\n",
       "      <th>pickup</th>\n",
       "      <th></th>\n",
       "      <th></th>\n",
       "      <th></th>\n",
       "      <th></th>\n",
       "      <th></th>\n",
       "      <th></th>\n",
       "      <th></th>\n",
       "      <th></th>\n",
       "      <th></th>\n",
       "      <th></th>\n",
       "      <th></th>\n",
       "      <th></th>\n",
       "      <th></th>\n",
       "      <th></th>\n",
       "      <th></th>\n",
       "      <th></th>\n",
       "      <th></th>\n",
       "    </tr>\n",
       "  </thead>\n",
       "  <tbody>\n",
       "    <tr>\n",
       "      <th>2019-10-23 08:02:09</th>\n",
       "      <td>2019-10-24 07:42:32</td>\n",
       "      <td>1</td>\n",
       "      <td>8.38</td>\n",
       "      <td>1</td>\n",
       "      <td>32.0</td>\n",
       "      <td>1.0</td>\n",
       "      <td>0.5</td>\n",
       "      <td>5.5</td>\n",
       "      <td>0.0</td>\n",
       "      <td>0.3</td>\n",
       "      <td>41.8</td>\n",
       "      <td>2.5</td>\n",
       "      <td>0 days 23:40:23</td>\n",
       "      <td>36.3</td>\n",
       "      <td>0.151515</td>\n",
       "      <td>4.3</td>\n",
       "      <td>0.353989</td>\n",
       "    </tr>\n",
       "    <tr>\n",
       "      <th>2019-10-23 08:18:47</th>\n",
       "      <td>2019-10-23 08:36:05</td>\n",
       "      <td>1</td>\n",
       "      <td>2.39</td>\n",
       "      <td>2</td>\n",
       "      <td>12.5</td>\n",
       "      <td>1.0</td>\n",
       "      <td>0.5</td>\n",
       "      <td>0.0</td>\n",
       "      <td>0.0</td>\n",
       "      <td>0.3</td>\n",
       "      <td>16.8</td>\n",
       "      <td>2.5</td>\n",
       "      <td>0 days 00:17:18</td>\n",
       "      <td>16.8</td>\n",
       "      <td>0.000000</td>\n",
       "      <td>4.3</td>\n",
       "      <td>8.289017</td>\n",
       "    </tr>\n",
       "  </tbody>\n",
       "</table>\n",
       "</div>"
      ],
      "text/plain": [
       "                                dropoff  passenger_count  trip_distance  \\\n",
       "pickup                                                                    \n",
       "2019-10-23 08:02:09 2019-10-24 07:42:32                1           8.38   \n",
       "2019-10-23 08:18:47 2019-10-23 08:36:05                1           2.39   \n",
       "\n",
       "                     payment_type  fare_amount  extra  mta_tax  tip_amount  \\\n",
       "pickup                                                                       \n",
       "2019-10-23 08:02:09             1         32.0    1.0      0.5         5.5   \n",
       "2019-10-23 08:18:47             2         12.5    1.0      0.5         0.0   \n",
       "\n",
       "                     tolls_amount  improvement_surcharge  total_amount  \\\n",
       "pickup                                                                   \n",
       "2019-10-23 08:02:09           0.0                    0.3          41.8   \n",
       "2019-10-23 08:18:47           0.0                    0.3          16.8   \n",
       "\n",
       "                     congestion_surcharge    elapsed_time  cost_before_tip  \\\n",
       "pickup                                                                       \n",
       "2019-10-23 08:02:09                   2.5 0 days 23:40:23             36.3   \n",
       "2019-10-23 08:18:47                   2.5 0 days 00:17:18             16.8   \n",
       "\n",
       "                      tip_pct  fees  avg_speed  \n",
       "pickup                                          \n",
       "2019-10-23 08:02:09  0.151515   4.3   0.353989  \n",
       "2019-10-23 08:18:47  0.000000   4.3   8.289017  "
      ]
     },
     "execution_count": 56,
     "metadata": {},
     "output_type": "execute_result"
    }
   ],
   "source": [
    "taxis.loc['2019-10-23 08']"
   ]
  },
  {
   "cell_type": "markdown",
   "id": "0684e96e-6c5e-4405-8103-92ae722d9c3e",
   "metadata": {
    "id": "0684e96e-6c5e-4405-8103-92ae722d9c3e",
    "tags": []
   },
   "source": [
    "### Restaurando o indíce\n",
    "\n",
    "Iremos trabalhar com séries de tempo mais tarde nessa seção, porém as vezes queremos restaurar o indíce para números de linhas e restaurar as colunas. Podemos tornar `pickup` uma coluna de novo com o método `reset_index()`:"
   ]
  },
  {
   "cell_type": "code",
   "execution_count": 57,
   "id": "18a6c75b-fa89-4602-b9df-e18ea51d73b6",
   "metadata": {
    "colab": {
     "base_uri": "https://localhost:8080/",
     "height": 444
    },
    "id": "18a6c75b-fa89-4602-b9df-e18ea51d73b6",
    "outputId": "7121d745-e480-4061-e222-a3f8b9621d3b"
   },
   "outputs": [
    {
     "data": {
      "text/html": [
       "<div>\n",
       "<style scoped>\n",
       "    .dataframe tbody tr th:only-of-type {\n",
       "        vertical-align: middle;\n",
       "    }\n",
       "\n",
       "    .dataframe tbody tr th {\n",
       "        vertical-align: top;\n",
       "    }\n",
       "\n",
       "    .dataframe thead th {\n",
       "        text-align: right;\n",
       "    }\n",
       "</style>\n",
       "<table border=\"1\" class=\"dataframe\">\n",
       "  <thead>\n",
       "    <tr style=\"text-align: right;\">\n",
       "      <th></th>\n",
       "      <th>pickup</th>\n",
       "      <th>dropoff</th>\n",
       "      <th>passenger_count</th>\n",
       "      <th>trip_distance</th>\n",
       "      <th>payment_type</th>\n",
       "      <th>fare_amount</th>\n",
       "      <th>extra</th>\n",
       "      <th>mta_tax</th>\n",
       "      <th>tip_amount</th>\n",
       "      <th>tolls_amount</th>\n",
       "      <th>improvement_surcharge</th>\n",
       "      <th>total_amount</th>\n",
       "      <th>congestion_surcharge</th>\n",
       "      <th>elapsed_time</th>\n",
       "      <th>cost_before_tip</th>\n",
       "      <th>tip_pct</th>\n",
       "      <th>fees</th>\n",
       "      <th>avg_speed</th>\n",
       "    </tr>\n",
       "  </thead>\n",
       "  <tbody>\n",
       "    <tr>\n",
       "      <th>0</th>\n",
       "      <td>2019-10-23 07:05:34</td>\n",
       "      <td>2019-10-23 08:03:16</td>\n",
       "      <td>3</td>\n",
       "      <td>14.68</td>\n",
       "      <td>1</td>\n",
       "      <td>50.0</td>\n",
       "      <td>1.0</td>\n",
       "      <td>0.5</td>\n",
       "      <td>4.0</td>\n",
       "      <td>0.0</td>\n",
       "      <td>0.3</td>\n",
       "      <td>55.8</td>\n",
       "      <td>0.0</td>\n",
       "      <td>0 days 00:57:42</td>\n",
       "      <td>51.8</td>\n",
       "      <td>0.077220</td>\n",
       "      <td>1.8</td>\n",
       "      <td>15.265165</td>\n",
       "    </tr>\n",
       "    <tr>\n",
       "      <th>1</th>\n",
       "      <td>2019-10-23 07:48:58</td>\n",
       "      <td>2019-10-23 07:52:09</td>\n",
       "      <td>1</td>\n",
       "      <td>0.67</td>\n",
       "      <td>2</td>\n",
       "      <td>4.5</td>\n",
       "      <td>1.0</td>\n",
       "      <td>0.5</td>\n",
       "      <td>0.0</td>\n",
       "      <td>0.0</td>\n",
       "      <td>0.3</td>\n",
       "      <td>8.8</td>\n",
       "      <td>2.5</td>\n",
       "      <td>0 days 00:03:11</td>\n",
       "      <td>8.8</td>\n",
       "      <td>0.000000</td>\n",
       "      <td>4.3</td>\n",
       "      <td>12.628272</td>\n",
       "    </tr>\n",
       "    <tr>\n",
       "      <th>2</th>\n",
       "      <td>2019-10-23 08:02:09</td>\n",
       "      <td>2019-10-24 07:42:32</td>\n",
       "      <td>1</td>\n",
       "      <td>8.38</td>\n",
       "      <td>1</td>\n",
       "      <td>32.0</td>\n",
       "      <td>1.0</td>\n",
       "      <td>0.5</td>\n",
       "      <td>5.5</td>\n",
       "      <td>0.0</td>\n",
       "      <td>0.3</td>\n",
       "      <td>41.8</td>\n",
       "      <td>2.5</td>\n",
       "      <td>0 days 23:40:23</td>\n",
       "      <td>36.3</td>\n",
       "      <td>0.151515</td>\n",
       "      <td>4.3</td>\n",
       "      <td>0.353989</td>\n",
       "    </tr>\n",
       "    <tr>\n",
       "      <th>3</th>\n",
       "      <td>2019-10-23 08:18:47</td>\n",
       "      <td>2019-10-23 08:36:05</td>\n",
       "      <td>1</td>\n",
       "      <td>2.39</td>\n",
       "      <td>2</td>\n",
       "      <td>12.5</td>\n",
       "      <td>1.0</td>\n",
       "      <td>0.5</td>\n",
       "      <td>0.0</td>\n",
       "      <td>0.0</td>\n",
       "      <td>0.3</td>\n",
       "      <td>16.8</td>\n",
       "      <td>2.5</td>\n",
       "      <td>0 days 00:17:18</td>\n",
       "      <td>16.8</td>\n",
       "      <td>0.000000</td>\n",
       "      <td>4.3</td>\n",
       "      <td>8.289017</td>\n",
       "    </tr>\n",
       "    <tr>\n",
       "      <th>4</th>\n",
       "      <td>2019-10-23 09:27:16</td>\n",
       "      <td>2019-10-23 09:33:13</td>\n",
       "      <td>2</td>\n",
       "      <td>1.11</td>\n",
       "      <td>2</td>\n",
       "      <td>6.0</td>\n",
       "      <td>1.0</td>\n",
       "      <td>0.5</td>\n",
       "      <td>0.0</td>\n",
       "      <td>0.0</td>\n",
       "      <td>0.3</td>\n",
       "      <td>7.8</td>\n",
       "      <td>0.0</td>\n",
       "      <td>0 days 00:05:57</td>\n",
       "      <td>7.8</td>\n",
       "      <td>0.000000</td>\n",
       "      <td>1.8</td>\n",
       "      <td>11.193277</td>\n",
       "    </tr>\n",
       "  </tbody>\n",
       "</table>\n",
       "</div>"
      ],
      "text/plain": [
       "               pickup             dropoff  passenger_count  trip_distance  \\\n",
       "0 2019-10-23 07:05:34 2019-10-23 08:03:16                3          14.68   \n",
       "1 2019-10-23 07:48:58 2019-10-23 07:52:09                1           0.67   \n",
       "2 2019-10-23 08:02:09 2019-10-24 07:42:32                1           8.38   \n",
       "3 2019-10-23 08:18:47 2019-10-23 08:36:05                1           2.39   \n",
       "4 2019-10-23 09:27:16 2019-10-23 09:33:13                2           1.11   \n",
       "\n",
       "   payment_type  fare_amount  extra  mta_tax  tip_amount  tolls_amount  \\\n",
       "0             1         50.0    1.0      0.5         4.0           0.0   \n",
       "1             2          4.5    1.0      0.5         0.0           0.0   \n",
       "2             1         32.0    1.0      0.5         5.5           0.0   \n",
       "3             2         12.5    1.0      0.5         0.0           0.0   \n",
       "4             2          6.0    1.0      0.5         0.0           0.0   \n",
       "\n",
       "   improvement_surcharge  total_amount  congestion_surcharge    elapsed_time  \\\n",
       "0                    0.3          55.8                   0.0 0 days 00:57:42   \n",
       "1                    0.3           8.8                   2.5 0 days 00:03:11   \n",
       "2                    0.3          41.8                   2.5 0 days 23:40:23   \n",
       "3                    0.3          16.8                   2.5 0 days 00:17:18   \n",
       "4                    0.3           7.8                   0.0 0 days 00:05:57   \n",
       "\n",
       "   cost_before_tip   tip_pct  fees  avg_speed  \n",
       "0             51.8  0.077220   1.8  15.265165  \n",
       "1              8.8  0.000000   4.3  12.628272  \n",
       "2             36.3  0.151515   4.3   0.353989  \n",
       "3             16.8  0.000000   4.3   8.289017  \n",
       "4              7.8  0.000000   1.8  11.193277  "
      ]
     },
     "execution_count": 57,
     "metadata": {},
     "output_type": "execute_result"
    }
   ],
   "source": [
    "taxis.reset_index(inplace=True)\n",
    "taxis.head()"
   ]
  },
  {
   "cell_type": "markdown",
   "id": "25a31c80-88f8-4f4d-9192-80a7bf7e9689",
   "metadata": {
    "id": "25a31c80-88f8-4f4d-9192-80a7bf7e9689",
    "tags": []
   },
   "source": [
    "## Remodelação de dados\n",
    "\n",
    "O dataset taxi o qual estamos trabalhando já está em um formato propício para análise. Porém, esse não é sempre o caso. Vamos dar uma olhada nos dados do TSA de fluxo de passageiros, que compara o fluxo de 2021 no mesmo dia em 2020 e 2019: "
   ]
  },
  {
   "cell_type": "code",
   "execution_count": 58,
   "id": "f9fc17ff-40a4-4e01-b56a-fea6ed3ca471",
   "metadata": {
    "colab": {
     "base_uri": "https://localhost:8080/",
     "height": 206
    },
    "id": "f9fc17ff-40a4-4e01-b56a-fea6ed3ca471",
    "outputId": "bea86589-4407-4d80-fa17-8e44913dec3e",
    "tags": []
   },
   "outputs": [
    {
     "data": {
      "text/html": [
       "<div>\n",
       "<style scoped>\n",
       "    .dataframe tbody tr th:only-of-type {\n",
       "        vertical-align: middle;\n",
       "    }\n",
       "\n",
       "    .dataframe tbody tr th {\n",
       "        vertical-align: top;\n",
       "    }\n",
       "\n",
       "    .dataframe thead th {\n",
       "        text-align: right;\n",
       "    }\n",
       "</style>\n",
       "<table border=\"1\" class=\"dataframe\">\n",
       "  <thead>\n",
       "    <tr style=\"text-align: right;\">\n",
       "      <th></th>\n",
       "      <th>Date</th>\n",
       "      <th>2021 Traveler Throughput</th>\n",
       "      <th>2020 Traveler Throughput</th>\n",
       "      <th>2019 Traveler Throughput</th>\n",
       "    </tr>\n",
       "  </thead>\n",
       "  <tbody>\n",
       "    <tr>\n",
       "      <th>0</th>\n",
       "      <td>2021-05-14</td>\n",
       "      <td>1716561.0</td>\n",
       "      <td>250467</td>\n",
       "      <td>2664549</td>\n",
       "    </tr>\n",
       "    <tr>\n",
       "      <th>1</th>\n",
       "      <td>2021-05-13</td>\n",
       "      <td>1743515.0</td>\n",
       "      <td>234928</td>\n",
       "      <td>2611324</td>\n",
       "    </tr>\n",
       "    <tr>\n",
       "      <th>2</th>\n",
       "      <td>2021-05-12</td>\n",
       "      <td>1424664.0</td>\n",
       "      <td>176667</td>\n",
       "      <td>2343675</td>\n",
       "    </tr>\n",
       "    <tr>\n",
       "      <th>3</th>\n",
       "      <td>2021-05-11</td>\n",
       "      <td>1315493.0</td>\n",
       "      <td>163205</td>\n",
       "      <td>2191387</td>\n",
       "    </tr>\n",
       "    <tr>\n",
       "      <th>4</th>\n",
       "      <td>2021-05-10</td>\n",
       "      <td>1657722.0</td>\n",
       "      <td>215645</td>\n",
       "      <td>2512315</td>\n",
       "    </tr>\n",
       "  </tbody>\n",
       "</table>\n",
       "</div>"
      ],
      "text/plain": [
       "        Date  2021 Traveler Throughput  2020 Traveler Throughput  \\\n",
       "0 2021-05-14                 1716561.0                    250467   \n",
       "1 2021-05-13                 1743515.0                    234928   \n",
       "2 2021-05-12                 1424664.0                    176667   \n",
       "3 2021-05-11                 1315493.0                    163205   \n",
       "4 2021-05-10                 1657722.0                    215645   \n",
       "\n",
       "   2019 Traveler Throughput  \n",
       "0                   2664549  \n",
       "1                   2611324  \n",
       "2                   2343675  \n",
       "3                   2191387  \n",
       "4                   2512315  "
      ]
     },
     "execution_count": 58,
     "metadata": {},
     "output_type": "execute_result"
    }
   ],
   "source": [
    "# Carrego o dataset a partir do GitHub\n",
    "url = 'https://raw.githubusercontent.com/stefmolin/pandas-workshop/main/data/tsa_passenger_throughput.csv'\n",
    "\n",
    "tsa = pd.read_csv(url, parse_dates=['Date'])\n",
    "tsa.head()"
   ]
  },
  {
   "cell_type": "markdown",
   "id": "43a2f0b0-affe-4ec4-906c-26401b750dc0",
   "metadata": {
    "id": "43a2f0b0-affe-4ec4-906c-26401b750dc0"
   },
   "source": [
    "*Source: [TSA.gov](https://www.tsa.gov/coronavirus/passenger-throughput)*"
   ]
  },
  {
   "cell_type": "markdown",
   "id": "71419100-c9d2-4e8d-a0e3-440d0d9ebded",
   "metadata": {
    "id": "71419100-c9d2-4e8d-a0e3-440d0d9ebded",
    "tags": []
   },
   "source": [
    "Primeiro, vamos tornar as letras dos nomes das colunas minúsculas e pegar a primeira palavra (para `2021 Traveler Throughput` pegamos `2021`, por exemplo) para ser mais fácil de trabalhar:"
   ]
  },
  {
   "cell_type": "code",
   "execution_count": 59,
   "id": "cdaa7ddd-57f4-41ca-b8ff-24d93d44f0b5",
   "metadata": {
    "colab": {
     "base_uri": "https://localhost:8080/",
     "height": 206
    },
    "id": "cdaa7ddd-57f4-41ca-b8ff-24d93d44f0b5",
    "outputId": "293bd4c7-2aa7-480b-b946-c7aabe4cd71d"
   },
   "outputs": [
    {
     "data": {
      "text/html": [
       "<div>\n",
       "<style scoped>\n",
       "    .dataframe tbody tr th:only-of-type {\n",
       "        vertical-align: middle;\n",
       "    }\n",
       "\n",
       "    .dataframe tbody tr th {\n",
       "        vertical-align: top;\n",
       "    }\n",
       "\n",
       "    .dataframe thead th {\n",
       "        text-align: right;\n",
       "    }\n",
       "</style>\n",
       "<table border=\"1\" class=\"dataframe\">\n",
       "  <thead>\n",
       "    <tr style=\"text-align: right;\">\n",
       "      <th></th>\n",
       "      <th>date</th>\n",
       "      <th>2021</th>\n",
       "      <th>2020</th>\n",
       "      <th>2019</th>\n",
       "    </tr>\n",
       "  </thead>\n",
       "  <tbody>\n",
       "    <tr>\n",
       "      <th>0</th>\n",
       "      <td>2021-05-14</td>\n",
       "      <td>1716561.0</td>\n",
       "      <td>250467</td>\n",
       "      <td>2664549</td>\n",
       "    </tr>\n",
       "    <tr>\n",
       "      <th>1</th>\n",
       "      <td>2021-05-13</td>\n",
       "      <td>1743515.0</td>\n",
       "      <td>234928</td>\n",
       "      <td>2611324</td>\n",
       "    </tr>\n",
       "    <tr>\n",
       "      <th>2</th>\n",
       "      <td>2021-05-12</td>\n",
       "      <td>1424664.0</td>\n",
       "      <td>176667</td>\n",
       "      <td>2343675</td>\n",
       "    </tr>\n",
       "    <tr>\n",
       "      <th>3</th>\n",
       "      <td>2021-05-11</td>\n",
       "      <td>1315493.0</td>\n",
       "      <td>163205</td>\n",
       "      <td>2191387</td>\n",
       "    </tr>\n",
       "    <tr>\n",
       "      <th>4</th>\n",
       "      <td>2021-05-10</td>\n",
       "      <td>1657722.0</td>\n",
       "      <td>215645</td>\n",
       "      <td>2512315</td>\n",
       "    </tr>\n",
       "  </tbody>\n",
       "</table>\n",
       "</div>"
      ],
      "text/plain": [
       "        date       2021    2020     2019\n",
       "0 2021-05-14  1716561.0  250467  2664549\n",
       "1 2021-05-13  1743515.0  234928  2611324\n",
       "2 2021-05-12  1424664.0  176667  2343675\n",
       "3 2021-05-11  1315493.0  163205  2191387\n",
       "4 2021-05-10  1657722.0  215645  2512315"
      ]
     },
     "execution_count": 59,
     "metadata": {},
     "output_type": "execute_result"
    }
   ],
   "source": [
    "tsa = tsa.rename(columns=lambda x: x.lower().split()[0])\n",
    "tsa.head()"
   ]
  },
  {
   "cell_type": "markdown",
   "id": "2a39b842-3f40-4951-9a38-7dfd492ef608",
   "metadata": {
    "id": "2a39b842-3f40-4951-9a38-7dfd492ef608",
    "tags": []
   },
   "source": [
    "Agora, podemos começar a remodelação"
   ]
  },
  {
   "cell_type": "markdown",
   "id": "fc0b0c08-5cb6-4523-9dcc-4ea9a7e2607f",
   "metadata": {
    "id": "fc0b0c08-5cb6-4523-9dcc-4ea9a7e2607f",
    "tags": []
   },
   "source": [
    "### Melting\n",
    "\n",
    "Melting nos ajuda a converter os dados em formato longo. Agora, temos todos os valores do fluxo dos viajantes em uma única coluna:"
   ]
  },
  {
   "cell_type": "code",
   "execution_count": 60,
   "id": "ebcfe696-5e4c-49e9-b281-1b7722cad24b",
   "metadata": {
    "colab": {
     "base_uri": "https://localhost:8080/",
     "height": 206
    },
    "id": "ebcfe696-5e4c-49e9-b281-1b7722cad24b",
    "outputId": "d75c8dd5-588c-443e-f09c-38033db553fd"
   },
   "outputs": [
    {
     "data": {
      "text/html": [
       "<div>\n",
       "<style scoped>\n",
       "    .dataframe tbody tr th:only-of-type {\n",
       "        vertical-align: middle;\n",
       "    }\n",
       "\n",
       "    .dataframe tbody tr th {\n",
       "        vertical-align: top;\n",
       "    }\n",
       "\n",
       "    .dataframe thead th {\n",
       "        text-align: right;\n",
       "    }\n",
       "</style>\n",
       "<table border=\"1\" class=\"dataframe\">\n",
       "  <thead>\n",
       "    <tr style=\"text-align: right;\">\n",
       "      <th></th>\n",
       "      <th>date</th>\n",
       "      <th>year</th>\n",
       "      <th>travelers</th>\n",
       "    </tr>\n",
       "  </thead>\n",
       "  <tbody>\n",
       "    <tr>\n",
       "      <th>974</th>\n",
       "      <td>2020-09-12</td>\n",
       "      <td>2019</td>\n",
       "      <td>1879822.0</td>\n",
       "    </tr>\n",
       "    <tr>\n",
       "      <th>435</th>\n",
       "      <td>2021-03-05</td>\n",
       "      <td>2020</td>\n",
       "      <td>2198517.0</td>\n",
       "    </tr>\n",
       "    <tr>\n",
       "      <th>1029</th>\n",
       "      <td>2020-07-19</td>\n",
       "      <td>2019</td>\n",
       "      <td>2727355.0</td>\n",
       "    </tr>\n",
       "    <tr>\n",
       "      <th>680</th>\n",
       "      <td>2020-07-03</td>\n",
       "      <td>2020</td>\n",
       "      <td>718988.0</td>\n",
       "    </tr>\n",
       "    <tr>\n",
       "      <th>867</th>\n",
       "      <td>2020-12-28</td>\n",
       "      <td>2019</td>\n",
       "      <td>2500396.0</td>\n",
       "    </tr>\n",
       "  </tbody>\n",
       "</table>\n",
       "</div>"
      ],
      "text/plain": [
       "           date  year  travelers\n",
       "974  2020-09-12  2019  1879822.0\n",
       "435  2021-03-05  2020  2198517.0\n",
       "1029 2020-07-19  2019  2727355.0\n",
       "680  2020-07-03  2020   718988.0\n",
       "867  2020-12-28  2019  2500396.0"
      ]
     },
     "execution_count": 60,
     "metadata": {},
     "output_type": "execute_result"
    }
   ],
   "source": [
    "tsa_melted = tsa.melt(\n",
    "    id_vars='date', # coluna que identifica uma linha unicamente (podem ser várias)\n",
    "    var_name='year', # nome da nova coluna criada pelo melting\n",
    "    value_name='travelers' # nome para a nova coluna contendo os valores da coluna do melting\n",
    ")\n",
    "tsa_melted.sample(5, random_state=1) # mostra algumas entradas aleatórias"
   ]
  },
  {
   "cell_type": "markdown",
   "id": "91ad2a4f-fd5f-4de6-b974-e37e6119b1f7",
   "metadata": {
    "id": "91ad2a4f-fd5f-4de6-b974-e37e6119b1f7",
    "tags": []
   },
   "source": [
    "Para converter isso em uma série temporal de fluxos de viajantes, precisamos substituir o ano na coluna `date` pelo ano da coluna `year`. Caso contrário, estaremos marcando números de anos anteriores com anos errados."
   ]
  },
  {
   "cell_type": "code",
   "execution_count": 61,
   "id": "7ad04dde-d03b-4a32-9a47-6b1a388a8169",
   "metadata": {
    "colab": {
     "base_uri": "https://localhost:8080/",
     "height": 206
    },
    "id": "7ad04dde-d03b-4a32-9a47-6b1a388a8169",
    "outputId": "4f0e9bb7-61e9-40ea-fd73-ab5834ddc6e5"
   },
   "outputs": [
    {
     "data": {
      "text/html": [
       "<div>\n",
       "<style scoped>\n",
       "    .dataframe tbody tr th:only-of-type {\n",
       "        vertical-align: middle;\n",
       "    }\n",
       "\n",
       "    .dataframe tbody tr th {\n",
       "        vertical-align: top;\n",
       "    }\n",
       "\n",
       "    .dataframe thead th {\n",
       "        text-align: right;\n",
       "    }\n",
       "</style>\n",
       "<table border=\"1\" class=\"dataframe\">\n",
       "  <thead>\n",
       "    <tr style=\"text-align: right;\">\n",
       "      <th></th>\n",
       "      <th>date</th>\n",
       "      <th>year</th>\n",
       "      <th>travelers</th>\n",
       "    </tr>\n",
       "  </thead>\n",
       "  <tbody>\n",
       "    <tr>\n",
       "      <th>974</th>\n",
       "      <td>2019-09-12</td>\n",
       "      <td>2019</td>\n",
       "      <td>1879822.0</td>\n",
       "    </tr>\n",
       "    <tr>\n",
       "      <th>435</th>\n",
       "      <td>2020-03-05</td>\n",
       "      <td>2020</td>\n",
       "      <td>2198517.0</td>\n",
       "    </tr>\n",
       "    <tr>\n",
       "      <th>1029</th>\n",
       "      <td>2019-07-19</td>\n",
       "      <td>2019</td>\n",
       "      <td>2727355.0</td>\n",
       "    </tr>\n",
       "    <tr>\n",
       "      <th>680</th>\n",
       "      <td>2020-07-03</td>\n",
       "      <td>2020</td>\n",
       "      <td>718988.0</td>\n",
       "    </tr>\n",
       "    <tr>\n",
       "      <th>867</th>\n",
       "      <td>2019-12-28</td>\n",
       "      <td>2019</td>\n",
       "      <td>2500396.0</td>\n",
       "    </tr>\n",
       "  </tbody>\n",
       "</table>\n",
       "</div>"
      ],
      "text/plain": [
       "           date  year  travelers\n",
       "974  2019-09-12  2019  1879822.0\n",
       "435  2020-03-05  2020  2198517.0\n",
       "1029 2019-07-19  2019  2727355.0\n",
       "680  2020-07-03  2020   718988.0\n",
       "867  2019-12-28  2019  2500396.0"
      ]
     },
     "execution_count": 61,
     "metadata": {},
     "output_type": "execute_result"
    }
   ],
   "source": [
    "tsa_melted = tsa_melted.assign(\n",
    "    date=lambda x: pd.to_datetime(x.year + x.date.dt.strftime('-%m-%d'))\n",
    ")\n",
    "tsa_melted.sample(5, random_state=1)"
   ]
  },
  {
   "cell_type": "markdown",
   "id": "28a312aa-f671-4df7-8e09-ea65ba7d6d70",
   "metadata": {
    "id": "28a312aa-f671-4df7-8e09-ea65ba7d6d70",
    "tags": []
   },
   "source": [
    "Isso nos deixa com alguns valores nulos (datas que não estão no dataset):"
   ]
  },
  {
   "cell_type": "code",
   "execution_count": 62,
   "id": "8f415932-fe42-4e11-a8ac-521c7612147e",
   "metadata": {
    "colab": {
     "base_uri": "https://localhost:8080/",
     "height": 143
    },
    "id": "8f415932-fe42-4e11-a8ac-521c7612147e",
    "outputId": "7880fd27-e55d-4cb3-9353-90935b9ccc39"
   },
   "outputs": [
    {
     "data": {
      "text/html": [
       "<div>\n",
       "<style scoped>\n",
       "    .dataframe tbody tr th:only-of-type {\n",
       "        vertical-align: middle;\n",
       "    }\n",
       "\n",
       "    .dataframe tbody tr th {\n",
       "        vertical-align: top;\n",
       "    }\n",
       "\n",
       "    .dataframe thead th {\n",
       "        text-align: right;\n",
       "    }\n",
       "</style>\n",
       "<table border=\"1\" class=\"dataframe\">\n",
       "  <thead>\n",
       "    <tr style=\"text-align: right;\">\n",
       "      <th></th>\n",
       "      <th>date</th>\n",
       "      <th>year</th>\n",
       "      <th>travelers</th>\n",
       "    </tr>\n",
       "  </thead>\n",
       "  <tbody>\n",
       "    <tr>\n",
       "      <th>136</th>\n",
       "      <td>2021-12-29</td>\n",
       "      <td>2021</td>\n",
       "      <td>NaN</td>\n",
       "    </tr>\n",
       "    <tr>\n",
       "      <th>135</th>\n",
       "      <td>2021-12-30</td>\n",
       "      <td>2021</td>\n",
       "      <td>NaN</td>\n",
       "    </tr>\n",
       "    <tr>\n",
       "      <th>134</th>\n",
       "      <td>2021-12-31</td>\n",
       "      <td>2021</td>\n",
       "      <td>NaN</td>\n",
       "    </tr>\n",
       "  </tbody>\n",
       "</table>\n",
       "</div>"
      ],
      "text/plain": [
       "          date  year  travelers\n",
       "136 2021-12-29  2021        NaN\n",
       "135 2021-12-30  2021        NaN\n",
       "134 2021-12-31  2021        NaN"
      ]
     },
     "execution_count": 62,
     "metadata": {},
     "output_type": "execute_result"
    }
   ],
   "source": [
    "tsa_melted.sort_values('date').tail(3)"
   ]
  },
  {
   "cell_type": "markdown",
   "id": "323970e9-0e9c-46f1-8910-a630fbd4d1b3",
   "metadata": {
    "id": "323970e9-0e9c-46f1-8910-a630fbd4d1b3",
    "tags": []
   },
   "source": [
    "Essas datas podem ser descartadas com o método `dropna()`:"
   ]
  },
  {
   "cell_type": "code",
   "execution_count": 63,
   "id": "c0ed0555-2467-4966-9cfb-31ff5982c0bb",
   "metadata": {
    "colab": {
     "base_uri": "https://localhost:8080/",
     "height": 143
    },
    "id": "c0ed0555-2467-4966-9cfb-31ff5982c0bb",
    "outputId": "e6acfdbb-fb5d-4cde-89f8-d9e30caca5fd"
   },
   "outputs": [
    {
     "data": {
      "text/html": [
       "<div>\n",
       "<style scoped>\n",
       "    .dataframe tbody tr th:only-of-type {\n",
       "        vertical-align: middle;\n",
       "    }\n",
       "\n",
       "    .dataframe tbody tr th {\n",
       "        vertical-align: top;\n",
       "    }\n",
       "\n",
       "    .dataframe thead th {\n",
       "        text-align: right;\n",
       "    }\n",
       "</style>\n",
       "<table border=\"1\" class=\"dataframe\">\n",
       "  <thead>\n",
       "    <tr style=\"text-align: right;\">\n",
       "      <th></th>\n",
       "      <th>date</th>\n",
       "      <th>year</th>\n",
       "      <th>travelers</th>\n",
       "    </tr>\n",
       "  </thead>\n",
       "  <tbody>\n",
       "    <tr>\n",
       "      <th>2</th>\n",
       "      <td>2021-05-12</td>\n",
       "      <td>2021</td>\n",
       "      <td>1424664.0</td>\n",
       "    </tr>\n",
       "    <tr>\n",
       "      <th>1</th>\n",
       "      <td>2021-05-13</td>\n",
       "      <td>2021</td>\n",
       "      <td>1743515.0</td>\n",
       "    </tr>\n",
       "    <tr>\n",
       "      <th>0</th>\n",
       "      <td>2021-05-14</td>\n",
       "      <td>2021</td>\n",
       "      <td>1716561.0</td>\n",
       "    </tr>\n",
       "  </tbody>\n",
       "</table>\n",
       "</div>"
      ],
      "text/plain": [
       "        date  year  travelers\n",
       "2 2021-05-12  2021  1424664.0\n",
       "1 2021-05-13  2021  1743515.0\n",
       "0 2021-05-14  2021  1716561.0"
      ]
     },
     "execution_count": 63,
     "metadata": {},
     "output_type": "execute_result"
    }
   ],
   "source": [
    "tsa_melted = tsa_melted.dropna()\n",
    "tsa_melted.sort_values('date').tail(3)"
   ]
  },
  {
   "cell_type": "markdown",
   "id": "6a77b4fc-265e-42d8-ae27-689e3f7f8dc6",
   "metadata": {
    "id": "6a77b4fc-265e-42d8-ae27-689e3f7f8dc6",
    "tags": []
   },
   "source": [
    "### Pivoteamento\n",
    "\n",
    "Usando os dados com melting, podemos pivotear os dados para comparar o dataset da TSA em dias específicos do ano:"
   ]
  },
  {
   "cell_type": "code",
   "execution_count": 64,
   "id": "5deb2bd9-e4eb-4775-bbf1-b483c56edf16",
   "metadata": {
    "colab": {
     "base_uri": "https://localhost:8080/",
     "height": 175
    },
    "id": "5deb2bd9-e4eb-4775-bbf1-b483c56edf16",
    "outputId": "be273228-bd5a-4c41-fcb1-f1733cb990cd"
   },
   "outputs": [
    {
     "data": {
      "text/html": [
       "<div>\n",
       "<style scoped>\n",
       "    .dataframe tbody tr th:only-of-type {\n",
       "        vertical-align: middle;\n",
       "    }\n",
       "\n",
       "    .dataframe tbody tr th {\n",
       "        vertical-align: top;\n",
       "    }\n",
       "\n",
       "    .dataframe thead th {\n",
       "        text-align: right;\n",
       "    }\n",
       "</style>\n",
       "<table border=\"1\" class=\"dataframe\">\n",
       "  <thead>\n",
       "    <tr style=\"text-align: right;\">\n",
       "      <th>day_in_march</th>\n",
       "      <th>1</th>\n",
       "      <th>2</th>\n",
       "      <th>3</th>\n",
       "      <th>4</th>\n",
       "      <th>5</th>\n",
       "      <th>6</th>\n",
       "      <th>7</th>\n",
       "      <th>8</th>\n",
       "      <th>9</th>\n",
       "      <th>10</th>\n",
       "    </tr>\n",
       "    <tr>\n",
       "      <th>year</th>\n",
       "      <th></th>\n",
       "      <th></th>\n",
       "      <th></th>\n",
       "      <th></th>\n",
       "      <th></th>\n",
       "      <th></th>\n",
       "      <th></th>\n",
       "      <th></th>\n",
       "      <th></th>\n",
       "      <th></th>\n",
       "    </tr>\n",
       "  </thead>\n",
       "  <tbody>\n",
       "    <tr>\n",
       "      <th>2019</th>\n",
       "      <td>2257920.0</td>\n",
       "      <td>1979558.0</td>\n",
       "      <td>2143619.0</td>\n",
       "      <td>2402692.0</td>\n",
       "      <td>2543689.0</td>\n",
       "      <td>2156262.0</td>\n",
       "      <td>2485430.0</td>\n",
       "      <td>2378673.0</td>\n",
       "      <td>2122898.0</td>\n",
       "      <td>2187298.0</td>\n",
       "    </tr>\n",
       "    <tr>\n",
       "      <th>2020</th>\n",
       "      <td>2089641.0</td>\n",
       "      <td>1736393.0</td>\n",
       "      <td>1877401.0</td>\n",
       "      <td>2130015.0</td>\n",
       "      <td>2198517.0</td>\n",
       "      <td>1844811.0</td>\n",
       "      <td>2119867.0</td>\n",
       "      <td>1909363.0</td>\n",
       "      <td>1617220.0</td>\n",
       "      <td>1702686.0</td>\n",
       "    </tr>\n",
       "    <tr>\n",
       "      <th>2021</th>\n",
       "      <td>1049692.0</td>\n",
       "      <td>744812.0</td>\n",
       "      <td>826924.0</td>\n",
       "      <td>1107534.0</td>\n",
       "      <td>1168734.0</td>\n",
       "      <td>992406.0</td>\n",
       "      <td>1278557.0</td>\n",
       "      <td>1119303.0</td>\n",
       "      <td>825745.0</td>\n",
       "      <td>974221.0</td>\n",
       "    </tr>\n",
       "  </tbody>\n",
       "</table>\n",
       "</div>"
      ],
      "text/plain": [
       "day_in_march         1          2          3          4          5   \\\n",
       "year                                                                  \n",
       "2019          2257920.0  1979558.0  2143619.0  2402692.0  2543689.0   \n",
       "2020          2089641.0  1736393.0  1877401.0  2130015.0  2198517.0   \n",
       "2021          1049692.0   744812.0   826924.0  1107534.0  1168734.0   \n",
       "\n",
       "day_in_march         6          7          8          9          10  \n",
       "year                                                                 \n",
       "2019          2156262.0  2485430.0  2378673.0  2122898.0  2187298.0  \n",
       "2020          1844811.0  2119867.0  1909363.0  1617220.0  1702686.0  \n",
       "2021           992406.0  1278557.0  1119303.0   825745.0   974221.0  "
      ]
     },
     "execution_count": 64,
     "metadata": {},
     "output_type": "execute_result"
    }
   ],
   "source": [
    "tsa_pivoted = tsa_melted\\\n",
    "    .query('date.dt.month == 3 and date.dt.day <= 10')\\\n",
    "    .assign(day_in_march=lambda x: x.date.dt.day)\\\n",
    "    .pivot(index='year', columns='day_in_march', values='travelers')\n",
    "tsa_pivoted"
   ]
  },
  {
   "cell_type": "markdown",
   "id": "370ed66f-5b39-4adf-ae0d-651c4ae1981b",
   "metadata": {
    "id": "370ed66f-5b39-4adf-ae0d-651c4ae1981b",
    "tags": []
   },
   "source": [
    "**Importante**: Não estamos cobrindo os métodos `unstack()` e `stack()`, que são maneiras adicionais de pivoteamento e melting, respectivamente. Eles são úteis quando temos indíces multi-level (quando usamos `set_index()` com mais de uma coluna, porrr exemplo). Mais informações podem ser encontradas [aqui](https://pandas.pydata.org/pandas-docs/stable/user_guide/reshaping.html)."
   ]
  },
  {
   "cell_type": "markdown",
   "id": "e292be99-e3d6-403c-abce-56efa8b1948d",
   "metadata": {
    "id": "e292be99-e3d6-403c-abce-56efa8b1948d",
    "tags": []
   },
   "source": [
    "### Transposição\n",
    "\n",
    "O atributo `T` possibilita uma maneira rápida de trocar colunas por linhas."
   ]
  },
  {
   "cell_type": "code",
   "execution_count": 65,
   "id": "c8a7bb2d-77c0-461b-9963-224b5bd633d2",
   "metadata": {
    "colab": {
     "base_uri": "https://localhost:8080/",
     "height": 394
    },
    "id": "c8a7bb2d-77c0-461b-9963-224b5bd633d2",
    "outputId": "7c4c9647-c94d-4d29-9b24-2ec415e0128f"
   },
   "outputs": [
    {
     "data": {
      "text/html": [
       "<div>\n",
       "<style scoped>\n",
       "    .dataframe tbody tr th:only-of-type {\n",
       "        vertical-align: middle;\n",
       "    }\n",
       "\n",
       "    .dataframe tbody tr th {\n",
       "        vertical-align: top;\n",
       "    }\n",
       "\n",
       "    .dataframe thead th {\n",
       "        text-align: right;\n",
       "    }\n",
       "</style>\n",
       "<table border=\"1\" class=\"dataframe\">\n",
       "  <thead>\n",
       "    <tr style=\"text-align: right;\">\n",
       "      <th>year</th>\n",
       "      <th>2019</th>\n",
       "      <th>2020</th>\n",
       "      <th>2021</th>\n",
       "    </tr>\n",
       "    <tr>\n",
       "      <th>day_in_march</th>\n",
       "      <th></th>\n",
       "      <th></th>\n",
       "      <th></th>\n",
       "    </tr>\n",
       "  </thead>\n",
       "  <tbody>\n",
       "    <tr>\n",
       "      <th>1</th>\n",
       "      <td>2257920.0</td>\n",
       "      <td>2089641.0</td>\n",
       "      <td>1049692.0</td>\n",
       "    </tr>\n",
       "    <tr>\n",
       "      <th>2</th>\n",
       "      <td>1979558.0</td>\n",
       "      <td>1736393.0</td>\n",
       "      <td>744812.0</td>\n",
       "    </tr>\n",
       "    <tr>\n",
       "      <th>3</th>\n",
       "      <td>2143619.0</td>\n",
       "      <td>1877401.0</td>\n",
       "      <td>826924.0</td>\n",
       "    </tr>\n",
       "    <tr>\n",
       "      <th>4</th>\n",
       "      <td>2402692.0</td>\n",
       "      <td>2130015.0</td>\n",
       "      <td>1107534.0</td>\n",
       "    </tr>\n",
       "    <tr>\n",
       "      <th>5</th>\n",
       "      <td>2543689.0</td>\n",
       "      <td>2198517.0</td>\n",
       "      <td>1168734.0</td>\n",
       "    </tr>\n",
       "    <tr>\n",
       "      <th>6</th>\n",
       "      <td>2156262.0</td>\n",
       "      <td>1844811.0</td>\n",
       "      <td>992406.0</td>\n",
       "    </tr>\n",
       "    <tr>\n",
       "      <th>7</th>\n",
       "      <td>2485430.0</td>\n",
       "      <td>2119867.0</td>\n",
       "      <td>1278557.0</td>\n",
       "    </tr>\n",
       "    <tr>\n",
       "      <th>8</th>\n",
       "      <td>2378673.0</td>\n",
       "      <td>1909363.0</td>\n",
       "      <td>1119303.0</td>\n",
       "    </tr>\n",
       "    <tr>\n",
       "      <th>9</th>\n",
       "      <td>2122898.0</td>\n",
       "      <td>1617220.0</td>\n",
       "      <td>825745.0</td>\n",
       "    </tr>\n",
       "    <tr>\n",
       "      <th>10</th>\n",
       "      <td>2187298.0</td>\n",
       "      <td>1702686.0</td>\n",
       "      <td>974221.0</td>\n",
       "    </tr>\n",
       "  </tbody>\n",
       "</table>\n",
       "</div>"
      ],
      "text/plain": [
       "year               2019       2020       2021\n",
       "day_in_march                                 \n",
       "1             2257920.0  2089641.0  1049692.0\n",
       "2             1979558.0  1736393.0   744812.0\n",
       "3             2143619.0  1877401.0   826924.0\n",
       "4             2402692.0  2130015.0  1107534.0\n",
       "5             2543689.0  2198517.0  1168734.0\n",
       "6             2156262.0  1844811.0   992406.0\n",
       "7             2485430.0  2119867.0  1278557.0\n",
       "8             2378673.0  1909363.0  1119303.0\n",
       "9             2122898.0  1617220.0   825745.0\n",
       "10            2187298.0  1702686.0   974221.0"
      ]
     },
     "execution_count": 65,
     "metadata": {},
     "output_type": "execute_result"
    }
   ],
   "source": [
    "tsa_pivoted.T"
   ]
  },
  {
   "cell_type": "markdown",
   "id": "65da6408-d946-4420-8fec-327094bf46e9",
   "metadata": {
    "id": "65da6408-d946-4420-8fec-327094bf46e9",
    "tags": []
   },
   "source": [
    "### Merging\n",
    "\n",
    "Tipicamente, observamos mudanças nas viagens aérias perto de feriados, logo adicionar informações sobre essas datas ao dataset TSA fornece mais contexto aos dados. O arquivo `holidays.csv` contém alguns dos principais feriados dos Estados Unidos:"
   ]
  },
  {
   "cell_type": "code",
   "execution_count": 66,
   "id": "df6a13e1-af80-4d5e-9aa6-24495d7197cd",
   "metadata": {
    "colab": {
     "base_uri": "https://localhost:8080/",
     "height": 332
    },
    "id": "df6a13e1-af80-4d5e-9aa6-24495d7197cd",
    "outputId": "605a91db-7f6b-4e68-dbcc-be787e09a388"
   },
   "outputs": [
    {
     "data": {
      "text/html": [
       "<div>\n",
       "<style scoped>\n",
       "    .dataframe tbody tr th:only-of-type {\n",
       "        vertical-align: middle;\n",
       "    }\n",
       "\n",
       "    .dataframe tbody tr th {\n",
       "        vertical-align: top;\n",
       "    }\n",
       "\n",
       "    .dataframe thead th {\n",
       "        text-align: right;\n",
       "    }\n",
       "</style>\n",
       "<table border=\"1\" class=\"dataframe\">\n",
       "  <thead>\n",
       "    <tr style=\"text-align: right;\">\n",
       "      <th></th>\n",
       "      <th>holiday</th>\n",
       "    </tr>\n",
       "    <tr>\n",
       "      <th>date</th>\n",
       "      <th></th>\n",
       "    </tr>\n",
       "  </thead>\n",
       "  <tbody>\n",
       "    <tr>\n",
       "      <th>2019-01-01</th>\n",
       "      <td>New Year's Day</td>\n",
       "    </tr>\n",
       "    <tr>\n",
       "      <th>2019-05-27</th>\n",
       "      <td>Memorial Day</td>\n",
       "    </tr>\n",
       "    <tr>\n",
       "      <th>2019-07-04</th>\n",
       "      <td>July 4th</td>\n",
       "    </tr>\n",
       "    <tr>\n",
       "      <th>2019-09-02</th>\n",
       "      <td>Labor Day</td>\n",
       "    </tr>\n",
       "    <tr>\n",
       "      <th>2019-11-28</th>\n",
       "      <td>Thanksgiving</td>\n",
       "    </tr>\n",
       "    <tr>\n",
       "      <th>2019-12-24</th>\n",
       "      <td>Christmas Eve</td>\n",
       "    </tr>\n",
       "    <tr>\n",
       "      <th>2019-12-25</th>\n",
       "      <td>Christmas Day</td>\n",
       "    </tr>\n",
       "    <tr>\n",
       "      <th>2019-12-31</th>\n",
       "      <td>New Year's Eve</td>\n",
       "    </tr>\n",
       "  </tbody>\n",
       "</table>\n",
       "</div>"
      ],
      "text/plain": [
       "                   holiday\n",
       "date                      \n",
       "2019-01-01  New Year's Day\n",
       "2019-05-27    Memorial Day\n",
       "2019-07-04        July 4th\n",
       "2019-09-02       Labor Day\n",
       "2019-11-28    Thanksgiving\n",
       "2019-12-24   Christmas Eve\n",
       "2019-12-25   Christmas Day\n",
       "2019-12-31  New Year's Eve"
      ]
     },
     "execution_count": 66,
     "metadata": {},
     "output_type": "execute_result"
    }
   ],
   "source": [
    "# Carrego o dataset a partir do GitHub\n",
    "url = 'https://raw.githubusercontent.com/stefmolin/pandas-workshop/main/data/holidays.csv'\n",
    "\n",
    "holidays = pd.read_csv(url, parse_dates=True, index_col='date')\n",
    "holidays.loc['2019']"
   ]
  },
  {
   "cell_type": "markdown",
   "id": "a0832a27-605c-48bd-b564-0901c2796b90",
   "metadata": {
    "id": "a0832a27-605c-48bd-b564-0901c2796b90",
    "tags": []
   },
   "source": [
    "Conseguimos mais contexto para a nossa análise fazendo o merge(fusão) entre o dataset de feriados e o da TSA:"
   ]
  },
  {
   "cell_type": "code",
   "execution_count": 67,
   "id": "367b9ccb-04f6-4400-88b2-ce548990bb6f",
   "metadata": {
    "colab": {
     "base_uri": "https://localhost:8080/",
     "height": 206
    },
    "id": "367b9ccb-04f6-4400-88b2-ce548990bb6f",
    "outputId": "67bd71d6-9cd6-42fe-9e63-2959a9ef044d",
    "tags": []
   },
   "outputs": [
    {
     "data": {
      "text/html": [
       "<div>\n",
       "<style scoped>\n",
       "    .dataframe tbody tr th:only-of-type {\n",
       "        vertical-align: middle;\n",
       "    }\n",
       "\n",
       "    .dataframe tbody tr th {\n",
       "        vertical-align: top;\n",
       "    }\n",
       "\n",
       "    .dataframe thead th {\n",
       "        text-align: right;\n",
       "    }\n",
       "</style>\n",
       "<table border=\"1\" class=\"dataframe\">\n",
       "  <thead>\n",
       "    <tr style=\"text-align: right;\">\n",
       "      <th></th>\n",
       "      <th>date</th>\n",
       "      <th>year</th>\n",
       "      <th>travelers</th>\n",
       "      <th>holiday</th>\n",
       "    </tr>\n",
       "  </thead>\n",
       "  <tbody>\n",
       "    <tr>\n",
       "      <th>863</th>\n",
       "      <td>2019-01-01</td>\n",
       "      <td>2019</td>\n",
       "      <td>2126398.0</td>\n",
       "      <td>New Year's Day</td>\n",
       "    </tr>\n",
       "    <tr>\n",
       "      <th>862</th>\n",
       "      <td>2019-01-02</td>\n",
       "      <td>2019</td>\n",
       "      <td>2345103.0</td>\n",
       "      <td>NaN</td>\n",
       "    </tr>\n",
       "    <tr>\n",
       "      <th>861</th>\n",
       "      <td>2019-01-03</td>\n",
       "      <td>2019</td>\n",
       "      <td>2202111.0</td>\n",
       "      <td>NaN</td>\n",
       "    </tr>\n",
       "    <tr>\n",
       "      <th>860</th>\n",
       "      <td>2019-01-04</td>\n",
       "      <td>2019</td>\n",
       "      <td>2150571.0</td>\n",
       "      <td>NaN</td>\n",
       "    </tr>\n",
       "    <tr>\n",
       "      <th>859</th>\n",
       "      <td>2019-01-05</td>\n",
       "      <td>2019</td>\n",
       "      <td>1975947.0</td>\n",
       "      <td>NaN</td>\n",
       "    </tr>\n",
       "  </tbody>\n",
       "</table>\n",
       "</div>"
      ],
      "text/plain": [
       "          date  year  travelers         holiday\n",
       "863 2019-01-01  2019  2126398.0  New Year's Day\n",
       "862 2019-01-02  2019  2345103.0             NaN\n",
       "861 2019-01-03  2019  2202111.0             NaN\n",
       "860 2019-01-04  2019  2150571.0             NaN\n",
       "859 2019-01-05  2019  1975947.0             NaN"
      ]
     },
     "execution_count": 67,
     "metadata": {},
     "output_type": "execute_result"
    }
   ],
   "source": [
    "tsa_melted_holidays = tsa_melted\\\n",
    "    .merge(holidays, left_on='date', right_index=True, how='left')\\\n",
    "    .sort_values('date')\n",
    "tsa_melted_holidays.head()"
   ]
  },
  {
   "cell_type": "markdown",
   "id": "29efc7c8-f2c6-4a28-a36f-25e9da612d14",
   "metadata": {
    "id": "29efc7c8-f2c6-4a28-a36f-25e9da612d14",
    "tags": []
   },
   "source": [
    "*Dica: Existem diversos parâmetros para esse método, então não deixe de conferir a [documentação](https://pandas.pydata.org/pandas-docs/stable/reference/api/pandas.DataFrame.merge.html). Para adicionar linhas, dê uma olhada no comando `append()` e `pd.concat()`.*"
   ]
  },
  {
   "cell_type": "markdown",
   "id": "6d79f677-5759-4790-9004-cb1a6361a0a8",
   "metadata": {
    "id": "6d79f677-5759-4790-9004-cb1a6361a0a8",
    "tags": []
   },
   "source": [
    "Podemos dar um passo a frente, marcando alguns dias antes e depois de cada feriado como parte do feriado. Isso deixaria mais fácil de comparar as viagens em feriados durante os anos e procurar por algum aumento nas viagens perto de feriados:"
   ]
  },
  {
   "cell_type": "code",
   "execution_count": 68,
   "id": "a589df8f-5870-41ea-b4c1-e413fa76ad31",
   "metadata": {
    "id": "a589df8f-5870-41ea-b4c1-e413fa76ad31"
   },
   "outputs": [],
   "source": [
    "tsa_melted_holiday_travel = tsa_melted_holidays.assign(\n",
    "    holiday=lambda x:\n",
    "        x.holiday\\\n",
    "            .fillna(method='ffill', limit=1)\\\n",
    "            .fillna(method='bfill', limit=2)\n",
    ")"
   ]
  },
  {
   "cell_type": "markdown",
   "id": "eb5a331c-143a-4b3e-bb90-9d948da4d148",
   "metadata": {
    "id": "eb5a331c-143a-4b3e-bb90-9d948da4d148",
    "tags": []
   },
   "source": [
    "*Dica: Olhe a [documentação](https://pandas.pydata.org/pandas-docs/stable/reference/api/pandas.DataFrame.fillna.html) para uma lista completa das funcionalidades disponíveis do método `fillna()`.*"
   ]
  },
  {
   "cell_type": "markdown",
   "id": "1c86a8f0-124b-4837-9c09-21923fbcb926",
   "metadata": {
    "id": "1c86a8f0-124b-4837-9c09-21923fbcb926",
    "tags": []
   },
   "source": [
    "Note que agora temos valores para um dia depois do feriado e 2 dias antes. O Dia de Ação de Graças(\"Thanksgiving\") em 2019 foi em 28 de Novembro, logo os dias 26, 27 e 29 foram incluídos. Como estamos substituindo apenas valores nulos, não sobrescrevemos o dia do Natal com o preenchimento dos dias posteriores a véspera de Natal:"
   ]
  },
  {
   "cell_type": "code",
   "execution_count": 69,
   "id": "c895269f-37b5-4246-974a-d8a91730f346",
   "metadata": {
    "colab": {
     "base_uri": "https://localhost:8080/",
     "height": 332
    },
    "id": "c895269f-37b5-4246-974a-d8a91730f346",
    "outputId": "0a3e3e13-295a-400a-85c9-539d25839a03"
   },
   "outputs": [
    {
     "data": {
      "text/html": [
       "<div>\n",
       "<style scoped>\n",
       "    .dataframe tbody tr th:only-of-type {\n",
       "        vertical-align: middle;\n",
       "    }\n",
       "\n",
       "    .dataframe tbody tr th {\n",
       "        vertical-align: top;\n",
       "    }\n",
       "\n",
       "    .dataframe thead th {\n",
       "        text-align: right;\n",
       "    }\n",
       "</style>\n",
       "<table border=\"1\" class=\"dataframe\">\n",
       "  <thead>\n",
       "    <tr style=\"text-align: right;\">\n",
       "      <th></th>\n",
       "      <th>date</th>\n",
       "      <th>year</th>\n",
       "      <th>travelers</th>\n",
       "      <th>holiday</th>\n",
       "    </tr>\n",
       "  </thead>\n",
       "  <tbody>\n",
       "    <tr>\n",
       "      <th>899</th>\n",
       "      <td>2019-11-26</td>\n",
       "      <td>2019</td>\n",
       "      <td>1591158.0</td>\n",
       "      <td>Thanksgiving</td>\n",
       "    </tr>\n",
       "    <tr>\n",
       "      <th>898</th>\n",
       "      <td>2019-11-27</td>\n",
       "      <td>2019</td>\n",
       "      <td>1968137.0</td>\n",
       "      <td>Thanksgiving</td>\n",
       "    </tr>\n",
       "    <tr>\n",
       "      <th>897</th>\n",
       "      <td>2019-11-28</td>\n",
       "      <td>2019</td>\n",
       "      <td>2648268.0</td>\n",
       "      <td>Thanksgiving</td>\n",
       "    </tr>\n",
       "    <tr>\n",
       "      <th>896</th>\n",
       "      <td>2019-11-29</td>\n",
       "      <td>2019</td>\n",
       "      <td>2882915.0</td>\n",
       "      <td>Thanksgiving</td>\n",
       "    </tr>\n",
       "    <tr>\n",
       "      <th>873</th>\n",
       "      <td>2019-12-22</td>\n",
       "      <td>2019</td>\n",
       "      <td>1981433.0</td>\n",
       "      <td>Christmas Eve</td>\n",
       "    </tr>\n",
       "    <tr>\n",
       "      <th>872</th>\n",
       "      <td>2019-12-23</td>\n",
       "      <td>2019</td>\n",
       "      <td>1937235.0</td>\n",
       "      <td>Christmas Eve</td>\n",
       "    </tr>\n",
       "    <tr>\n",
       "      <th>871</th>\n",
       "      <td>2019-12-24</td>\n",
       "      <td>2019</td>\n",
       "      <td>2552194.0</td>\n",
       "      <td>Christmas Eve</td>\n",
       "    </tr>\n",
       "    <tr>\n",
       "      <th>870</th>\n",
       "      <td>2019-12-25</td>\n",
       "      <td>2019</td>\n",
       "      <td>2582580.0</td>\n",
       "      <td>Christmas Day</td>\n",
       "    </tr>\n",
       "    <tr>\n",
       "      <th>869</th>\n",
       "      <td>2019-12-26</td>\n",
       "      <td>2019</td>\n",
       "      <td>2470786.0</td>\n",
       "      <td>Christmas Day</td>\n",
       "    </tr>\n",
       "  </tbody>\n",
       "</table>\n",
       "</div>"
      ],
      "text/plain": [
       "          date  year  travelers        holiday\n",
       "899 2019-11-26  2019  1591158.0   Thanksgiving\n",
       "898 2019-11-27  2019  1968137.0   Thanksgiving\n",
       "897 2019-11-28  2019  2648268.0   Thanksgiving\n",
       "896 2019-11-29  2019  2882915.0   Thanksgiving\n",
       "873 2019-12-22  2019  1981433.0  Christmas Eve\n",
       "872 2019-12-23  2019  1937235.0  Christmas Eve\n",
       "871 2019-12-24  2019  2552194.0  Christmas Eve\n",
       "870 2019-12-25  2019  2582580.0  Christmas Day\n",
       "869 2019-12-26  2019  2470786.0  Christmas Day"
      ]
     },
     "execution_count": 69,
     "metadata": {},
     "output_type": "execute_result"
    }
   ],
   "source": [
    "tsa_melted_holiday_travel.query(\n",
    "    'year == \"2019\" and '\n",
    "    '(holiday == \"Thanksgiving\" or holiday.str.contains(\"Christmas\"))', engine=\"python\" \n",
    ")"
   ]
  },
  {
   "cell_type": "markdown",
   "id": "84597dd2-780e-451c-8263-c02fdadb857b",
   "metadata": {
    "id": "84597dd2-780e-451c-8263-c02fdadb857b",
    "tags": []
   },
   "source": [
    "## Agregação e agrupamento\n",
    "\n",
    "Após remodelar e limpar nossos dados, podemos aplicar agregações para sumarizar esses dados de diversas maneiras. Nessa seção, vamos explorar a utilização de tabelas de pivoteamento, tabelas cruzadas e agrupamento por operações para agregar dados."
   ]
  },
  {
   "cell_type": "markdown",
   "id": "350010f2-30ac-4167-8aa6-41e71933ef74",
   "metadata": {
    "id": "350010f2-30ac-4167-8aa6-41e71933ef74",
    "tags": []
   },
   "source": [
    "### Tabelas de pivoteamento\n",
    "Podemos construir uma tabela de pivoteamento para comparar as viagens em feriados durante os anos no nosso dataset:"
   ]
  },
  {
   "cell_type": "code",
   "execution_count": 70,
   "id": "944749f0-d9e1-4a6e-ad15-c8f33e737080",
   "metadata": {
    "colab": {
     "base_uri": "https://localhost:8080/",
     "height": 175
    },
    "id": "944749f0-d9e1-4a6e-ad15-c8f33e737080",
    "outputId": "34bfa5bf-33ca-4957-8ee3-3881dee99b1a"
   },
   "outputs": [
    {
     "data": {
      "text/html": [
       "<div>\n",
       "<style scoped>\n",
       "    .dataframe tbody tr th:only-of-type {\n",
       "        vertical-align: middle;\n",
       "    }\n",
       "\n",
       "    .dataframe tbody tr th {\n",
       "        vertical-align: top;\n",
       "    }\n",
       "\n",
       "    .dataframe thead th {\n",
       "        text-align: right;\n",
       "    }\n",
       "</style>\n",
       "<table border=\"1\" class=\"dataframe\">\n",
       "  <thead>\n",
       "    <tr style=\"text-align: right;\">\n",
       "      <th>holiday</th>\n",
       "      <th>Christmas Day</th>\n",
       "      <th>Christmas Eve</th>\n",
       "      <th>July 4th</th>\n",
       "      <th>Labor Day</th>\n",
       "      <th>Memorial Day</th>\n",
       "      <th>New Year's Day</th>\n",
       "      <th>New Year's Eve</th>\n",
       "      <th>Thanksgiving</th>\n",
       "    </tr>\n",
       "    <tr>\n",
       "      <th>year</th>\n",
       "      <th></th>\n",
       "      <th></th>\n",
       "      <th></th>\n",
       "      <th></th>\n",
       "      <th></th>\n",
       "      <th></th>\n",
       "      <th></th>\n",
       "      <th></th>\n",
       "    </tr>\n",
       "  </thead>\n",
       "  <tbody>\n",
       "    <tr>\n",
       "      <th>2019</th>\n",
       "      <td>5053366.0</td>\n",
       "      <td>6470862.0</td>\n",
       "      <td>9414228.0</td>\n",
       "      <td>8314811.0</td>\n",
       "      <td>9720691.0</td>\n",
       "      <td>4471501.0</td>\n",
       "      <td>6535464.0</td>\n",
       "      <td>9090478.0</td>\n",
       "    </tr>\n",
       "    <tr>\n",
       "      <th>2020</th>\n",
       "      <td>1745242.0</td>\n",
       "      <td>3029810.0</td>\n",
       "      <td>2682541.0</td>\n",
       "      <td>2993653.0</td>\n",
       "      <td>1126253.0</td>\n",
       "      <td>4490388.0</td>\n",
       "      <td>3057449.0</td>\n",
       "      <td>3364358.0</td>\n",
       "    </tr>\n",
       "    <tr>\n",
       "      <th>2021</th>\n",
       "      <td>NaN</td>\n",
       "      <td>NaN</td>\n",
       "      <td>NaN</td>\n",
       "      <td>NaN</td>\n",
       "      <td>NaN</td>\n",
       "      <td>1998871.0</td>\n",
       "      <td>NaN</td>\n",
       "      <td>NaN</td>\n",
       "    </tr>\n",
       "  </tbody>\n",
       "</table>\n",
       "</div>"
      ],
      "text/plain": [
       "holiday  Christmas Day  Christmas Eve   July 4th  Labor Day  Memorial Day  \\\n",
       "year                                                                        \n",
       "2019         5053366.0      6470862.0  9414228.0  8314811.0     9720691.0   \n",
       "2020         1745242.0      3029810.0  2682541.0  2993653.0     1126253.0   \n",
       "2021               NaN            NaN        NaN        NaN           NaN   \n",
       "\n",
       "holiday  New Year's Day  New Year's Eve  Thanksgiving  \n",
       "year                                                   \n",
       "2019          4471501.0       6535464.0     9090478.0  \n",
       "2020          4490388.0       3057449.0     3364358.0  \n",
       "2021          1998871.0             NaN           NaN  "
      ]
     },
     "execution_count": 70,
     "metadata": {},
     "output_type": "execute_result"
    }
   ],
   "source": [
    "tsa_melted_holiday_travel.pivot_table(\n",
    "    index='year', columns='holiday', \n",
    "    values='travelers', aggfunc='sum'\n",
    ")"
   ]
  },
  {
   "cell_type": "markdown",
   "id": "9a189e47-9347-4922-a345-471206d8192c",
   "metadata": {
    "id": "9a189e47-9347-4922-a345-471206d8192c",
    "tags": []
   },
   "source": [
    "Podemos utilizar o método `pct_change()` nesse resultado para vermos quais períodos de viagens em feriados tiveram a maior mudança nas viagens:"
   ]
  },
  {
   "cell_type": "code",
   "execution_count": 71,
   "id": "ad480312-626f-401b-93d3-0ffd6a6392bb",
   "metadata": {
    "colab": {
     "base_uri": "https://localhost:8080/",
     "height": 175
    },
    "id": "ad480312-626f-401b-93d3-0ffd6a6392bb",
    "outputId": "e15650d4-7331-4a61-b3cd-ec4c82c033d3"
   },
   "outputs": [
    {
     "data": {
      "text/html": [
       "<div>\n",
       "<style scoped>\n",
       "    .dataframe tbody tr th:only-of-type {\n",
       "        vertical-align: middle;\n",
       "    }\n",
       "\n",
       "    .dataframe tbody tr th {\n",
       "        vertical-align: top;\n",
       "    }\n",
       "\n",
       "    .dataframe thead th {\n",
       "        text-align: right;\n",
       "    }\n",
       "</style>\n",
       "<table border=\"1\" class=\"dataframe\">\n",
       "  <thead>\n",
       "    <tr style=\"text-align: right;\">\n",
       "      <th>holiday</th>\n",
       "      <th>Christmas Day</th>\n",
       "      <th>Christmas Eve</th>\n",
       "      <th>July 4th</th>\n",
       "      <th>Labor Day</th>\n",
       "      <th>Memorial Day</th>\n",
       "      <th>New Year's Day</th>\n",
       "      <th>New Year's Eve</th>\n",
       "      <th>Thanksgiving</th>\n",
       "    </tr>\n",
       "    <tr>\n",
       "      <th>year</th>\n",
       "      <th></th>\n",
       "      <th></th>\n",
       "      <th></th>\n",
       "      <th></th>\n",
       "      <th></th>\n",
       "      <th></th>\n",
       "      <th></th>\n",
       "      <th></th>\n",
       "    </tr>\n",
       "  </thead>\n",
       "  <tbody>\n",
       "    <tr>\n",
       "      <th>2019</th>\n",
       "      <td>NaN</td>\n",
       "      <td>NaN</td>\n",
       "      <td>NaN</td>\n",
       "      <td>NaN</td>\n",
       "      <td>NaN</td>\n",
       "      <td>NaN</td>\n",
       "      <td>NaN</td>\n",
       "      <td>NaN</td>\n",
       "    </tr>\n",
       "    <tr>\n",
       "      <th>2020</th>\n",
       "      <td>-0.654638</td>\n",
       "      <td>-0.531776</td>\n",
       "      <td>-0.715055</td>\n",
       "      <td>-0.639961</td>\n",
       "      <td>-0.884139</td>\n",
       "      <td>0.004224</td>\n",
       "      <td>-0.532176</td>\n",
       "      <td>-0.629903</td>\n",
       "    </tr>\n",
       "    <tr>\n",
       "      <th>2021</th>\n",
       "      <td>0.000000</td>\n",
       "      <td>0.000000</td>\n",
       "      <td>0.000000</td>\n",
       "      <td>0.000000</td>\n",
       "      <td>0.000000</td>\n",
       "      <td>-0.554856</td>\n",
       "      <td>0.000000</td>\n",
       "      <td>0.000000</td>\n",
       "    </tr>\n",
       "  </tbody>\n",
       "</table>\n",
       "</div>"
      ],
      "text/plain": [
       "holiday  Christmas Day  Christmas Eve  July 4th  Labor Day  Memorial Day  \\\n",
       "year                                                                       \n",
       "2019               NaN            NaN       NaN        NaN           NaN   \n",
       "2020         -0.654638      -0.531776 -0.715055  -0.639961     -0.884139   \n",
       "2021          0.000000       0.000000  0.000000   0.000000      0.000000   \n",
       "\n",
       "holiday  New Year's Day  New Year's Eve  Thanksgiving  \n",
       "year                                                   \n",
       "2019                NaN             NaN           NaN  \n",
       "2020           0.004224       -0.532176     -0.629903  \n",
       "2021          -0.554856        0.000000      0.000000  "
      ]
     },
     "execution_count": 71,
     "metadata": {},
     "output_type": "execute_result"
    }
   ],
   "source": [
    "tsa_melted_holiday_travel.pivot_table(\n",
    "    index='year', columns='holiday', \n",
    "    values='travelers', aggfunc='sum'\n",
    ").pct_change()"
   ]
  },
  {
   "cell_type": "markdown",
   "id": "30a2f712-13e2-4f84-a6aa-d234b8d65dff",
   "metadata": {
    "id": "30a2f712-13e2-4f84-a6aa-d234b8d65dff",
    "tags": []
   },
   "source": [
    "Vamos construir uma última tabela de pivoteamento com colunas e linhas subtotais, juntamente com algumas melhoras na formatação. Primeiramente, definimos a opção de exibição para todos os floats:"
   ]
  },
  {
   "cell_type": "code",
   "execution_count": 72,
   "id": "33a98f21-ea62-432c-8f7f-ee0d542b155b",
   "metadata": {
    "id": "33a98f21-ea62-432c-8f7f-ee0d542b155b"
   },
   "outputs": [],
   "source": [
    "pd.set_option('display.float_format', '{:,.0f}'.format)"
   ]
  },
  {
   "cell_type": "markdown",
   "id": "d5ccd3b9-2179-45ac-85a2-6b57f220b1ed",
   "metadata": {
    "id": "d5ccd3b9-2179-45ac-85a2-6b57f220b1ed",
    "tags": []
   },
   "source": [
    "Agora, agrupamos a Véspera de Natal e o Dia de Natal, o mesmo para a Véspera de Ano Novo e o Dia do Ano Novo, e criamos a tabela de pivoteamento:"
   ]
  },
  {
   "cell_type": "code",
   "execution_count": 73,
   "id": "98ab467c-f26d-436d-9f73-7ea35fc5fa86",
   "metadata": {
    "colab": {
     "base_uri": "https://localhost:8080/",
     "height": 206
    },
    "id": "98ab467c-f26d-436d-9f73-7ea35fc5fa86",
    "outputId": "7066b8bf-7243-4af6-dd0e-0749503569fa"
   },
   "outputs": [
    {
     "data": {
      "text/html": [
       "<div>\n",
       "<style scoped>\n",
       "    .dataframe tbody tr th:only-of-type {\n",
       "        vertical-align: middle;\n",
       "    }\n",
       "\n",
       "    .dataframe tbody tr th {\n",
       "        vertical-align: top;\n",
       "    }\n",
       "\n",
       "    .dataframe thead th {\n",
       "        text-align: right;\n",
       "    }\n",
       "</style>\n",
       "<table border=\"1\" class=\"dataframe\">\n",
       "  <thead>\n",
       "    <tr style=\"text-align: right;\">\n",
       "      <th>holiday</th>\n",
       "      <th>Christmas</th>\n",
       "      <th>July 4th</th>\n",
       "      <th>Labor Day</th>\n",
       "      <th>Memorial Day</th>\n",
       "      <th>New Year's</th>\n",
       "      <th>Thanksgiving</th>\n",
       "      <th>Total</th>\n",
       "    </tr>\n",
       "    <tr>\n",
       "      <th>year</th>\n",
       "      <th></th>\n",
       "      <th></th>\n",
       "      <th></th>\n",
       "      <th></th>\n",
       "      <th></th>\n",
       "      <th></th>\n",
       "      <th></th>\n",
       "    </tr>\n",
       "  </thead>\n",
       "  <tbody>\n",
       "    <tr>\n",
       "      <th>2019</th>\n",
       "      <td>11,524,228</td>\n",
       "      <td>9,414,228</td>\n",
       "      <td>8,314,811</td>\n",
       "      <td>9,720,691</td>\n",
       "      <td>11,006,965</td>\n",
       "      <td>9,090,478</td>\n",
       "      <td>59,071,401</td>\n",
       "    </tr>\n",
       "    <tr>\n",
       "      <th>2020</th>\n",
       "      <td>4,775,052</td>\n",
       "      <td>2,682,541</td>\n",
       "      <td>2,993,653</td>\n",
       "      <td>1,126,253</td>\n",
       "      <td>7,547,837</td>\n",
       "      <td>3,364,358</td>\n",
       "      <td>22,489,694</td>\n",
       "    </tr>\n",
       "    <tr>\n",
       "      <th>2021</th>\n",
       "      <td>NaN</td>\n",
       "      <td>NaN</td>\n",
       "      <td>NaN</td>\n",
       "      <td>NaN</td>\n",
       "      <td>1,998,871</td>\n",
       "      <td>NaN</td>\n",
       "      <td>1,998,871</td>\n",
       "    </tr>\n",
       "    <tr>\n",
       "      <th>Total</th>\n",
       "      <td>16,299,280</td>\n",
       "      <td>12,096,769</td>\n",
       "      <td>11,308,464</td>\n",
       "      <td>10,846,944</td>\n",
       "      <td>20,553,673</td>\n",
       "      <td>12,454,836</td>\n",
       "      <td>83,559,966</td>\n",
       "    </tr>\n",
       "  </tbody>\n",
       "</table>\n",
       "</div>"
      ],
      "text/plain": [
       "holiday  Christmas   July 4th  Labor Day  Memorial Day  New Year's  \\\n",
       "year                                                                 \n",
       "2019    11,524,228  9,414,228  8,314,811     9,720,691  11,006,965   \n",
       "2020     4,775,052  2,682,541  2,993,653     1,126,253   7,547,837   \n",
       "2021           NaN        NaN        NaN           NaN   1,998,871   \n",
       "Total   16,299,280 12,096,769 11,308,464    10,846,944  20,553,673   \n",
       "\n",
       "holiday  Thanksgiving      Total  \n",
       "year                              \n",
       "2019        9,090,478 59,071,401  \n",
       "2020        3,364,358 22,489,694  \n",
       "2021              NaN  1,998,871  \n",
       "Total      12,454,836 83,559,966  "
      ]
     },
     "execution_count": 73,
     "metadata": {},
     "output_type": "execute_result"
    }
   ],
   "source": [
    "import numpy as np\n",
    "\n",
    "tsa_melted_holiday_travel.assign(\n",
    "    holiday=lambda x: np.where(\n",
    "        x.holiday.str.contains('Christmas|New Year', regex=True), \n",
    "        x.holiday.str.replace('Day|Eve', '', regex=True).str.strip(), \n",
    "        x.holiday\n",
    "    )\n",
    ").pivot_table(\n",
    "    index='year', columns='holiday', \n",
    "    values='travelers', aggfunc='sum', \n",
    "    margins=True, margins_name='Total'\n",
    ")"
   ]
  },
  {
   "cell_type": "markdown",
   "id": "145150cd-3fde-48c1-87d4-857c858d8494",
   "metadata": {
    "id": "145150cd-3fde-48c1-87d4-857c858d8494",
    "tags": []
   },
   "source": [
    "Antes de continuramos, vamos resetar a opção de exibição:"
   ]
  },
  {
   "cell_type": "code",
   "execution_count": 74,
   "id": "55e95c66-fb5b-4ee2-a1ce-8ead82a2715a",
   "metadata": {
    "id": "55e95c66-fb5b-4ee2-a1ce-8ead82a2715a"
   },
   "outputs": [],
   "source": [
    "pd.reset_option('display.float_format')"
   ]
  },
  {
   "cell_type": "markdown",
   "id": "fa6dc364-f48f-482b-86be-152d6d16961f",
   "metadata": {
    "id": "fa6dc364-f48f-482b-86be-152d6d16961f",
    "tags": []
   },
   "source": [
    "*Dica: leia mais sobre opções na [documentação](https://pandas.pydata.org/pandas-docs/stable/user_guide/options.html).*"
   ]
  },
  {
   "cell_type": "markdown",
   "id": "2d988e70-5547-4a15-ab6c-b0eade8fb8b9",
   "metadata": {
    "id": "2d988e70-5547-4a15-ab6c-b0eade8fb8b9",
    "tags": []
   },
   "source": [
    "### Tabelas cruzadas\n",
    "A função `pd.crosstab()` possibilita uma maneira simples para criar uma tabela de freqência. Aqui, contamos o número de dias de viagem de baixo, médio e alto volume por ano, usando a função `pd.cut()` para criar três compartimentos de volume de viagem de mesma largura:"
   ]
  },
  {
   "cell_type": "code",
   "execution_count": 75,
   "id": "27d17ef2-b8be-43df-aab8-a2d7f5d228f5",
   "metadata": {
    "colab": {
     "base_uri": "https://localhost:8080/",
     "height": 175
    },
    "id": "27d17ef2-b8be-43df-aab8-a2d7f5d228f5",
    "outputId": "1714561e-c44d-4ffb-f8f2-fe54a6a62c64"
   },
   "outputs": [
    {
     "data": {
      "text/html": [
       "<div>\n",
       "<style scoped>\n",
       "    .dataframe tbody tr th:only-of-type {\n",
       "        vertical-align: middle;\n",
       "    }\n",
       "\n",
       "    .dataframe tbody tr th {\n",
       "        vertical-align: top;\n",
       "    }\n",
       "\n",
       "    .dataframe thead th {\n",
       "        text-align: right;\n",
       "    }\n",
       "</style>\n",
       "<table border=\"1\" class=\"dataframe\">\n",
       "  <thead>\n",
       "    <tr style=\"text-align: right;\">\n",
       "      <th>year</th>\n",
       "      <th>2019</th>\n",
       "      <th>2020</th>\n",
       "      <th>2021</th>\n",
       "    </tr>\n",
       "    <tr>\n",
       "      <th>travel_volume</th>\n",
       "      <th></th>\n",
       "      <th></th>\n",
       "      <th></th>\n",
       "    </tr>\n",
       "  </thead>\n",
       "  <tbody>\n",
       "    <tr>\n",
       "      <th>low</th>\n",
       "      <td>0</td>\n",
       "      <td>277</td>\n",
       "      <td>54</td>\n",
       "    </tr>\n",
       "    <tr>\n",
       "      <th>medium</th>\n",
       "      <td>42</td>\n",
       "      <td>44</td>\n",
       "      <td>80</td>\n",
       "    </tr>\n",
       "    <tr>\n",
       "      <th>high</th>\n",
       "      <td>323</td>\n",
       "      <td>44</td>\n",
       "      <td>0</td>\n",
       "    </tr>\n",
       "  </tbody>\n",
       "</table>\n",
       "</div>"
      ],
      "text/plain": [
       "year           2019  2020  2021\n",
       "travel_volume                  \n",
       "low               0   277    54\n",
       "medium           42    44    80\n",
       "high            323    44     0"
      ]
     },
     "execution_count": 75,
     "metadata": {},
     "output_type": "execute_result"
    }
   ],
   "source": [
    "pd.crosstab(\n",
    "    index=pd.cut(\n",
    "        tsa_melted_holiday_travel.travelers, \n",
    "        bins=3, labels=['low', 'medium', 'high']\n",
    "    ),\n",
    "    columns=tsa_melted_holiday_travel.year,\n",
    "    rownames=['travel_volume']\n",
    ")"
   ]
  },
  {
   "cell_type": "markdown",
   "id": "7aceb604-c3e9-4b1a-b62d-ada3f86ad897",
   "metadata": {
    "id": "7aceb604-c3e9-4b1a-b62d-ada3f86ad897",
    "tags": []
   },
   "source": [
    "*Dica: A função `pd.cut()` também pode ser usada para especificar tamanhos personalizados de compartimentos. Para compartimentos de mesmo tamanho baseados em quantis, usamos a função `pd.qcut()`.*"
   ]
  },
  {
   "cell_type": "markdown",
   "id": "cb00efed-de93-4adf-92b2-4d88ae07565e",
   "metadata": {
    "id": "cb00efed-de93-4adf-92b2-4d88ae07565e",
    "tags": []
   },
   "source": [
    "Note que a função `pd.crosstab()` suporta outras agregações desde que os dados para a agregação sejam passados como `values` e que a agregação seja especificada como `aggfunc`. Também é possível adicionar subtotais e normalizar os dados. Olhe a [documentação](https://pandas.pydata.org/pandas-docs/stable/reference/api/pandas.crosstab.html) para mais informações."
   ]
  },
  {
   "cell_type": "markdown",
   "id": "08c2a7b6-7e1d-4c91-9360-888335dc26df",
   "metadata": {
    "id": "08c2a7b6-7e1d-4c91-9360-888335dc26df",
    "tags": []
   },
   "source": [
    "### Agrupamento por operações\n",
    "Ao invés de realizar agregações, como `mean()` ou `describe()`, no dataset inteiro de uma vez, podemos realizar esses cálculos por grupos chamando a função `groupby()`:"
   ]
  },
  {
   "cell_type": "code",
   "execution_count": 76,
   "id": "638ecd3d-48e9-4fea-96eb-1a6be49bb43d",
   "metadata": {
    "colab": {
     "base_uri": "https://localhost:8080/",
     "height": 206
    },
    "id": "638ecd3d-48e9-4fea-96eb-1a6be49bb43d",
    "outputId": "12fced28-f81c-4cd7-9d25-abd297eb0e97"
   },
   "outputs": [
    {
     "data": {
      "text/html": [
       "<div>\n",
       "<style scoped>\n",
       "    .dataframe tbody tr th:only-of-type {\n",
       "        vertical-align: middle;\n",
       "    }\n",
       "\n",
       "    .dataframe tbody tr th {\n",
       "        vertical-align: top;\n",
       "    }\n",
       "\n",
       "    .dataframe thead tr th {\n",
       "        text-align: left;\n",
       "    }\n",
       "\n",
       "    .dataframe thead tr:last-of-type th {\n",
       "        text-align: right;\n",
       "    }\n",
       "</style>\n",
       "<table border=\"1\" class=\"dataframe\">\n",
       "  <thead>\n",
       "    <tr>\n",
       "      <th></th>\n",
       "      <th colspan=\"8\" halign=\"left\">travelers</th>\n",
       "    </tr>\n",
       "    <tr>\n",
       "      <th></th>\n",
       "      <th>count</th>\n",
       "      <th>mean</th>\n",
       "      <th>std</th>\n",
       "      <th>min</th>\n",
       "      <th>25%</th>\n",
       "      <th>50%</th>\n",
       "      <th>75%</th>\n",
       "      <th>max</th>\n",
       "    </tr>\n",
       "    <tr>\n",
       "      <th>year</th>\n",
       "      <th></th>\n",
       "      <th></th>\n",
       "      <th></th>\n",
       "      <th></th>\n",
       "      <th></th>\n",
       "      <th></th>\n",
       "      <th></th>\n",
       "      <th></th>\n",
       "    </tr>\n",
       "  </thead>\n",
       "  <tbody>\n",
       "    <tr>\n",
       "      <th>2019</th>\n",
       "      <td>365.0</td>\n",
       "      <td>2.309482e+06</td>\n",
       "      <td>285061.490784</td>\n",
       "      <td>1534386.0</td>\n",
       "      <td>2091116.0</td>\n",
       "      <td>2358007.0</td>\n",
       "      <td>2538384.00</td>\n",
       "      <td>2882915.0</td>\n",
       "    </tr>\n",
       "    <tr>\n",
       "      <th>2020</th>\n",
       "      <td>365.0</td>\n",
       "      <td>8.818674e+05</td>\n",
       "      <td>639775.194297</td>\n",
       "      <td>87534.0</td>\n",
       "      <td>507129.0</td>\n",
       "      <td>718310.0</td>\n",
       "      <td>983745.00</td>\n",
       "      <td>2507588.0</td>\n",
       "    </tr>\n",
       "    <tr>\n",
       "      <th>2021</th>\n",
       "      <td>134.0</td>\n",
       "      <td>1.112632e+06</td>\n",
       "      <td>338040.673782</td>\n",
       "      <td>468933.0</td>\n",
       "      <td>807156.0</td>\n",
       "      <td>1117391.0</td>\n",
       "      <td>1409377.75</td>\n",
       "      <td>1743515.0</td>\n",
       "    </tr>\n",
       "  </tbody>\n",
       "</table>\n",
       "</div>"
      ],
      "text/plain": [
       "     travelers                                                                \\\n",
       "         count          mean            std        min        25%        50%   \n",
       "year                                                                           \n",
       "2019     365.0  2.309482e+06  285061.490784  1534386.0  2091116.0  2358007.0   \n",
       "2020     365.0  8.818674e+05  639775.194297    87534.0   507129.0   718310.0   \n",
       "2021     134.0  1.112632e+06  338040.673782   468933.0   807156.0  1117391.0   \n",
       "\n",
       "                             \n",
       "             75%        max  \n",
       "year                         \n",
       "2019  2538384.00  2882915.0  \n",
       "2020   983745.00  2507588.0  \n",
       "2021  1409377.75  1743515.0  "
      ]
     },
     "execution_count": 76,
     "metadata": {},
     "output_type": "execute_result"
    }
   ],
   "source": [
    "tsa_melted_holiday_travel.groupby('year').describe()"
   ]
  },
  {
   "cell_type": "markdown",
   "id": "72053860-fe4d-4e16-971c-91dedd14f522",
   "metadata": {
    "id": "72053860-fe4d-4e16-971c-91dedd14f522",
    "tags": []
   },
   "source": [
    "Grupos também podem ser usados para realizar cálculos separados por subsets de dados. Por exemplo, podemos achar o dia de maior volume por ano usando `rank()`:"
   ]
  },
  {
   "cell_type": "code",
   "execution_count": 77,
   "id": "7c5f7495-7d00-4b7b-a3b6-76c1f47457c4",
   "metadata": {
    "colab": {
     "base_uri": "https://localhost:8080/",
     "height": 143
    },
    "id": "7c5f7495-7d00-4b7b-a3b6-76c1f47457c4",
    "outputId": "c5446218-94aa-4fc7-aa8c-b58aafa2d97a"
   },
   "outputs": [
    {
     "data": {
      "text/html": [
       "<div>\n",
       "<style scoped>\n",
       "    .dataframe tbody tr th:only-of-type {\n",
       "        vertical-align: middle;\n",
       "    }\n",
       "\n",
       "    .dataframe tbody tr th {\n",
       "        vertical-align: top;\n",
       "    }\n",
       "\n",
       "    .dataframe thead th {\n",
       "        text-align: right;\n",
       "    }\n",
       "</style>\n",
       "<table border=\"1\" class=\"dataframe\">\n",
       "  <thead>\n",
       "    <tr style=\"text-align: right;\">\n",
       "      <th></th>\n",
       "      <th>date</th>\n",
       "      <th>year</th>\n",
       "      <th>travelers</th>\n",
       "      <th>holiday</th>\n",
       "      <th>travel_volume_rank</th>\n",
       "    </tr>\n",
       "  </thead>\n",
       "  <tbody>\n",
       "    <tr>\n",
       "      <th>896</th>\n",
       "      <td>2019-11-29</td>\n",
       "      <td>2019</td>\n",
       "      <td>2882915.0</td>\n",
       "      <td>Thanksgiving</td>\n",
       "      <td>1.0</td>\n",
       "    </tr>\n",
       "    <tr>\n",
       "      <th>456</th>\n",
       "      <td>2020-02-12</td>\n",
       "      <td>2020</td>\n",
       "      <td>2507588.0</td>\n",
       "      <td>NaN</td>\n",
       "      <td>1.0</td>\n",
       "    </tr>\n",
       "    <tr>\n",
       "      <th>1</th>\n",
       "      <td>2021-05-13</td>\n",
       "      <td>2021</td>\n",
       "      <td>1743515.0</td>\n",
       "      <td>NaN</td>\n",
       "      <td>1.0</td>\n",
       "    </tr>\n",
       "  </tbody>\n",
       "</table>\n",
       "</div>"
      ],
      "text/plain": [
       "          date  year  travelers       holiday  travel_volume_rank\n",
       "896 2019-11-29  2019  2882915.0  Thanksgiving                 1.0\n",
       "456 2020-02-12  2020  2507588.0           NaN                 1.0\n",
       "1   2021-05-13  2021  1743515.0           NaN                 1.0"
      ]
     },
     "execution_count": 77,
     "metadata": {},
     "output_type": "execute_result"
    }
   ],
   "source": [
    "tsa_melted_holiday_travel.assign(\n",
    "    travel_volume_rank=lambda x: x.groupby('year').travelers.rank(ascending=False)\n",
    ").sort_values(['travel_volume_rank', 'year']).head(3)"
   ]
  },
  {
   "cell_type": "markdown",
   "id": "bc57c29a-cd58-4ff5-9c69-9e8f68b05168",
   "metadata": {
    "id": "bc57c29a-cd58-4ff5-9c69-9e8f68b05168",
    "tags": []
   },
   "source": [
    "Os dois últimos exemplos utilizaram um único método nos dados agrupados, porém usando o método `agg()` podemos especificar vários métodos de uma vez:"
   ]
  },
  {
   "cell_type": "code",
   "execution_count": 78,
   "id": "ce014d66-ba8b-4537-b8f1-9548dccab5b9",
   "metadata": {
    "colab": {
     "base_uri": "https://localhost:8080/",
     "height": 206
    },
    "id": "ce014d66-ba8b-4537-b8f1-9548dccab5b9",
    "outputId": "1d4ea846-5316-4636-ec75-758c1701e6f1"
   },
   "outputs": [
    {
     "data": {
      "text/html": [
       "<div>\n",
       "<style scoped>\n",
       "    .dataframe tbody tr th:only-of-type {\n",
       "        vertical-align: middle;\n",
       "    }\n",
       "\n",
       "    .dataframe tbody tr th {\n",
       "        vertical-align: top;\n",
       "    }\n",
       "\n",
       "    .dataframe thead tr th {\n",
       "        text-align: left;\n",
       "    }\n",
       "\n",
       "    .dataframe thead tr:last-of-type th {\n",
       "        text-align: right;\n",
       "    }\n",
       "</style>\n",
       "<table border=\"1\" class=\"dataframe\">\n",
       "  <thead>\n",
       "    <tr>\n",
       "      <th></th>\n",
       "      <th colspan=\"2\" halign=\"left\">travelers</th>\n",
       "      <th colspan=\"2\" halign=\"left\">holiday_travelers</th>\n",
       "      <th colspan=\"2\" halign=\"left\">non_holiday_travelers</th>\n",
       "    </tr>\n",
       "    <tr>\n",
       "      <th></th>\n",
       "      <th>mean</th>\n",
       "      <th>std</th>\n",
       "      <th>mean</th>\n",
       "      <th>std</th>\n",
       "      <th>mean</th>\n",
       "      <th>std</th>\n",
       "    </tr>\n",
       "    <tr>\n",
       "      <th>year</th>\n",
       "      <th></th>\n",
       "      <th></th>\n",
       "      <th></th>\n",
       "      <th></th>\n",
       "      <th></th>\n",
       "      <th></th>\n",
       "    </tr>\n",
       "  </thead>\n",
       "  <tbody>\n",
       "    <tr>\n",
       "      <th>2019</th>\n",
       "      <td>2.309482e+06</td>\n",
       "      <td>285061.490784</td>\n",
       "      <td>2.271977e+06</td>\n",
       "      <td>303021.675751</td>\n",
       "      <td>2.312359e+06</td>\n",
       "      <td>283906.226598</td>\n",
       "    </tr>\n",
       "    <tr>\n",
       "      <th>2020</th>\n",
       "      <td>8.818674e+05</td>\n",
       "      <td>639775.194297</td>\n",
       "      <td>8.649882e+05</td>\n",
       "      <td>489938.240989</td>\n",
       "      <td>8.831619e+05</td>\n",
       "      <td>650399.772930</td>\n",
       "    </tr>\n",
       "    <tr>\n",
       "      <th>2021</th>\n",
       "      <td>1.112632e+06</td>\n",
       "      <td>338040.673782</td>\n",
       "      <td>9.994355e+05</td>\n",
       "      <td>273573.249680</td>\n",
       "      <td>1.114347e+06</td>\n",
       "      <td>339479.298658</td>\n",
       "    </tr>\n",
       "  </tbody>\n",
       "</table>\n",
       "</div>"
      ],
      "text/plain": [
       "         travelers                holiday_travelers                 \\\n",
       "              mean            std              mean            std   \n",
       "year                                                                 \n",
       "2019  2.309482e+06  285061.490784      2.271977e+06  303021.675751   \n",
       "2020  8.818674e+05  639775.194297      8.649882e+05  489938.240989   \n",
       "2021  1.112632e+06  338040.673782      9.994355e+05  273573.249680   \n",
       "\n",
       "     non_holiday_travelers                 \n",
       "                      mean            std  \n",
       "year                                       \n",
       "2019          2.312359e+06  283906.226598  \n",
       "2020          8.831619e+05  650399.772930  \n",
       "2021          1.114347e+06  339479.298658  "
      ]
     },
     "execution_count": 78,
     "metadata": {},
     "output_type": "execute_result"
    }
   ],
   "source": [
    "tsa_melted_holiday_travel.assign(\n",
    "    holiday_travelers=lambda x: np.where(~x.holiday.isna(), x.travelers, np.nan),\n",
    "    non_holiday_travelers=lambda x: np.where(x.holiday.isna(), x.travelers, np.nan),\n",
    "    year=lambda x: pd.to_numeric(x.year)\n",
    ").select_dtypes(include='number').groupby('year').agg(['mean', 'std'])"
   ]
  },
  {
   "cell_type": "markdown",
   "id": "f7484d71-3091-4d8f-9e2d-53b07871ebaf",
   "metadata": {
    "id": "f7484d71-3091-4d8f-9e2d-53b07871ebaf",
    "tags": []
   },
   "source": [
    "*Dica: O método `select_dtypes()` possibilita a seleção de colunas pelo seu tipo de dado. Podemos especificar os tipos de dados para `exclude` e/ou `include` (excluir e incluir, respectivamente).*"
   ]
  },
  {
   "cell_type": "markdown",
   "id": "7f012232-0ac4-48ce-9ae3-ed936657ef24",
   "metadata": {
    "id": "7f012232-0ac4-48ce-9ae3-ed936657ef24",
    "tags": []
   },
   "source": [
    "Também podemos especificar quais agregações serão realizadas em cada coluna:"
   ]
  },
  {
   "cell_type": "code",
   "execution_count": 79,
   "id": "3080e40b-4ac7-4395-a76e-e773d16901fc",
   "metadata": {
    "colab": {
     "base_uri": "https://localhost:8080/",
     "height": 206
    },
    "id": "3080e40b-4ac7-4395-a76e-e773d16901fc",
    "outputId": "00152a66-006a-4bcb-b74a-9b92a9e03367"
   },
   "outputs": [
    {
     "data": {
      "text/html": [
       "<div>\n",
       "<style scoped>\n",
       "    .dataframe tbody tr th:only-of-type {\n",
       "        vertical-align: middle;\n",
       "    }\n",
       "\n",
       "    .dataframe tbody tr th {\n",
       "        vertical-align: top;\n",
       "    }\n",
       "\n",
       "    .dataframe thead tr th {\n",
       "        text-align: left;\n",
       "    }\n",
       "\n",
       "    .dataframe thead tr:last-of-type th {\n",
       "        text-align: right;\n",
       "    }\n",
       "</style>\n",
       "<table border=\"1\" class=\"dataframe\">\n",
       "  <thead>\n",
       "    <tr>\n",
       "      <th></th>\n",
       "      <th colspan=\"2\" halign=\"left\">holiday_travelers</th>\n",
       "      <th colspan=\"2\" halign=\"left\">holiday</th>\n",
       "    </tr>\n",
       "    <tr>\n",
       "      <th></th>\n",
       "      <th>mean</th>\n",
       "      <th>std</th>\n",
       "      <th>nunique</th>\n",
       "      <th>count</th>\n",
       "    </tr>\n",
       "    <tr>\n",
       "      <th>year</th>\n",
       "      <th></th>\n",
       "      <th></th>\n",
       "      <th></th>\n",
       "      <th></th>\n",
       "    </tr>\n",
       "  </thead>\n",
       "  <tbody>\n",
       "    <tr>\n",
       "      <th>2019</th>\n",
       "      <td>2.271977e+06</td>\n",
       "      <td>303021.675751</td>\n",
       "      <td>8</td>\n",
       "      <td>26</td>\n",
       "    </tr>\n",
       "    <tr>\n",
       "      <th>2020</th>\n",
       "      <td>8.649882e+05</td>\n",
       "      <td>489938.240989</td>\n",
       "      <td>8</td>\n",
       "      <td>26</td>\n",
       "    </tr>\n",
       "    <tr>\n",
       "      <th>2021</th>\n",
       "      <td>9.994355e+05</td>\n",
       "      <td>273573.249680</td>\n",
       "      <td>1</td>\n",
       "      <td>2</td>\n",
       "    </tr>\n",
       "  </tbody>\n",
       "</table>\n",
       "</div>"
      ],
      "text/plain": [
       "     holiday_travelers                holiday      \n",
       "                  mean            std nunique count\n",
       "year                                               \n",
       "2019      2.271977e+06  303021.675751       8    26\n",
       "2020      8.649882e+05  489938.240989       8    26\n",
       "2021      9.994355e+05  273573.249680       1     2"
      ]
     },
     "execution_count": 79,
     "metadata": {},
     "output_type": "execute_result"
    }
   ],
   "source": [
    "tsa_melted_holiday_travel.assign(\n",
    "    holiday_travelers=lambda x: np.where(~x.holiday.isna(), x.travelers, np.nan),\n",
    "    non_holiday_travelers=lambda x: np.where(x.holiday.isna(), x.travelers, np.nan)\n",
    ").groupby('year').agg({\n",
    "    'holiday_travelers': ['mean', 'std'], \n",
    "    'holiday': ['nunique', 'count']\n",
    "})"
   ]
  },
  {
   "cell_type": "markdown",
   "id": "73fc6c25-387e-4ff6-aaa0-7e212f766c2e",
   "metadata": {
    "id": "73fc6c25-387e-4ff6-aaa0-7e212f766c2e",
    "tags": []
   },
   "source": [
    "Estamos vendo apenas a ponta do iceberg. Algumas funcionalidades adicionais que também são importantes de conhecer:\n",
    "- Podemos agrupar multiplas colunas &ndash; o que cria indíces hierárquicos.\n",
    "- Grupos podem ser excluídos de cálculos com o método `filter()`.\n",
    "- Podemos agrupar conteúdos nos indíces usando os parâmetros `level` ou `name`, por exemplo `groupby(level=0)` ou `groupby(name='year')`.\n",
    "- Podemos fazer agrupamentos por intervalos de datas usando o objeto `pd.Grouper()`."
   ]
  },
  {
   "cell_type": "markdown",
   "id": "fd7409b7-6eec-4ed0-8a09-c8b6333ef75d",
   "metadata": {
    "id": "fd7409b7-6eec-4ed0-8a09-c8b6333ef75d",
    "tags": []
   },
   "source": [
    "Não deixe de conferir a [documentação](https://pandas.pydata.org/pandas-docs/stable/reference/api/pandas.DataFrame.groupby.html) para mais detalhes."
   ]
  },
  {
   "cell_type": "markdown",
   "id": "6f39b28e-9c9b-4b97-93be-41ade4dcd8f8",
   "metadata": {
    "id": "6f39b28e-9c9b-4b97-93be-41ade4dcd8f8",
    "tags": []
   },
   "source": [
    "## Séries temporais\n",
    "\n",
    "Quando trabalhamos com dados de séries temporais, a biblioteca pandas oferece funcionalidades adicionais não só para comparar as observações no nosso dataset, mas também para usar as suas relações para analisar os dados. Nessa seção, veremos algumas operações para selecionar intervalos de datas/tempo, calcular mudanças ao longo do tempo, realizar cálculos de janela e fazer a reamostragem dos dados para diferentes intervalos de datas/tempo."
   ]
  },
  {
   "cell_type": "markdown",
   "id": "1bb690d8-a77e-4dd7-a8ac-4a4fcfc3a156",
   "metadata": {
    "id": "1bb690d8-a77e-4dd7-a8ac-4a4fcfc3a156",
    "tags": []
   },
   "source": [
    "### Seleção com base na data e hora\n",
    "\n",
    "Vamos voltar para o dataset `taxis`, o qual têm as datas e horas dos embarques e desembarques. Primeiramente, vamos definir a coluna `dropoff` como indíce e ordenar os dados:"
   ]
  },
  {
   "cell_type": "code",
   "execution_count": 80,
   "id": "e1556b7a-ccde-432b-81a9-8b2c80b67d68",
   "metadata": {
    "id": "e1556b7a-ccde-432b-81a9-8b2c80b67d68"
   },
   "outputs": [],
   "source": [
    "taxis.set_index('dropoff', inplace=True)\n",
    "taxis.sort_index(inplace=True)"
   ]
  },
  {
   "cell_type": "markdown",
   "id": "ef86c832-5ed4-4a86-8a84-93fb179b9df4",
   "metadata": {
    "id": "ef86c832-5ed4-4a86-8a84-93fb179b9df4",
    "tags": []
   },
   "source": [
    "Como vimos anteriormente, podemos pegar um intervalo de data/hora:"
   ]
  },
  {
   "cell_type": "code",
   "execution_count": 81,
   "id": "f41a0a74-0bc8-4649-8b86-f44cdfb1062a",
   "metadata": {
    "colab": {
     "base_uri": "https://localhost:8080/",
     "height": 277
    },
    "id": "f41a0a74-0bc8-4649-8b86-f44cdfb1062a",
    "outputId": "7cd92bbb-1d91-4817-ddfd-045a2c4d99e8"
   },
   "outputs": [
    {
     "data": {
      "text/html": [
       "<div>\n",
       "<style scoped>\n",
       "    .dataframe tbody tr th:only-of-type {\n",
       "        vertical-align: middle;\n",
       "    }\n",
       "\n",
       "    .dataframe tbody tr th {\n",
       "        vertical-align: top;\n",
       "    }\n",
       "\n",
       "    .dataframe thead th {\n",
       "        text-align: right;\n",
       "    }\n",
       "</style>\n",
       "<table border=\"1\" class=\"dataframe\">\n",
       "  <thead>\n",
       "    <tr style=\"text-align: right;\">\n",
       "      <th></th>\n",
       "      <th>pickup</th>\n",
       "      <th>passenger_count</th>\n",
       "      <th>trip_distance</th>\n",
       "      <th>payment_type</th>\n",
       "      <th>fare_amount</th>\n",
       "      <th>extra</th>\n",
       "      <th>mta_tax</th>\n",
       "      <th>tip_amount</th>\n",
       "      <th>tolls_amount</th>\n",
       "      <th>improvement_surcharge</th>\n",
       "      <th>total_amount</th>\n",
       "      <th>congestion_surcharge</th>\n",
       "      <th>elapsed_time</th>\n",
       "      <th>cost_before_tip</th>\n",
       "      <th>tip_pct</th>\n",
       "      <th>fees</th>\n",
       "      <th>avg_speed</th>\n",
       "    </tr>\n",
       "    <tr>\n",
       "      <th>dropoff</th>\n",
       "      <th></th>\n",
       "      <th></th>\n",
       "      <th></th>\n",
       "      <th></th>\n",
       "      <th></th>\n",
       "      <th></th>\n",
       "      <th></th>\n",
       "      <th></th>\n",
       "      <th></th>\n",
       "      <th></th>\n",
       "      <th></th>\n",
       "      <th></th>\n",
       "      <th></th>\n",
       "      <th></th>\n",
       "      <th></th>\n",
       "      <th></th>\n",
       "      <th></th>\n",
       "    </tr>\n",
       "  </thead>\n",
       "  <tbody>\n",
       "    <tr>\n",
       "      <th>2019-10-24 12:30:08</th>\n",
       "      <td>2019-10-23 13:25:42</td>\n",
       "      <td>4</td>\n",
       "      <td>0.76</td>\n",
       "      <td>2</td>\n",
       "      <td>5.0</td>\n",
       "      <td>1.0</td>\n",
       "      <td>0.5</td>\n",
       "      <td>0.00</td>\n",
       "      <td>0.0</td>\n",
       "      <td>0.3</td>\n",
       "      <td>9.30</td>\n",
       "      <td>2.5</td>\n",
       "      <td>0 days 23:04:26</td>\n",
       "      <td>9.3</td>\n",
       "      <td>0.0</td>\n",
       "      <td>4.3</td>\n",
       "      <td>0.032938</td>\n",
       "    </tr>\n",
       "    <tr>\n",
       "      <th>2019-10-24 12:42:01</th>\n",
       "      <td>2019-10-23 13:34:03</td>\n",
       "      <td>2</td>\n",
       "      <td>1.58</td>\n",
       "      <td>1</td>\n",
       "      <td>7.5</td>\n",
       "      <td>1.0</td>\n",
       "      <td>0.5</td>\n",
       "      <td>2.36</td>\n",
       "      <td>0.0</td>\n",
       "      <td>0.3</td>\n",
       "      <td>14.16</td>\n",
       "      <td>2.5</td>\n",
       "      <td>0 days 23:07:58</td>\n",
       "      <td>11.8</td>\n",
       "      <td>0.2</td>\n",
       "      <td>4.3</td>\n",
       "      <td>0.068301</td>\n",
       "    </tr>\n",
       "  </tbody>\n",
       "</table>\n",
       "</div>"
      ],
      "text/plain": [
       "                                 pickup  passenger_count  trip_distance  \\\n",
       "dropoff                                                                   \n",
       "2019-10-24 12:30:08 2019-10-23 13:25:42                4           0.76   \n",
       "2019-10-24 12:42:01 2019-10-23 13:34:03                2           1.58   \n",
       "\n",
       "                     payment_type  fare_amount  extra  mta_tax  tip_amount  \\\n",
       "dropoff                                                                      \n",
       "2019-10-24 12:30:08             2          5.0    1.0      0.5        0.00   \n",
       "2019-10-24 12:42:01             1          7.5    1.0      0.5        2.36   \n",
       "\n",
       "                     tolls_amount  improvement_surcharge  total_amount  \\\n",
       "dropoff                                                                  \n",
       "2019-10-24 12:30:08           0.0                    0.3          9.30   \n",
       "2019-10-24 12:42:01           0.0                    0.3         14.16   \n",
       "\n",
       "                     congestion_surcharge    elapsed_time  cost_before_tip  \\\n",
       "dropoff                                                                      \n",
       "2019-10-24 12:30:08                   2.5 0 days 23:04:26              9.3   \n",
       "2019-10-24 12:42:01                   2.5 0 days 23:07:58             11.8   \n",
       "\n",
       "                     tip_pct  fees  avg_speed  \n",
       "dropoff                                        \n",
       "2019-10-24 12:30:08      0.0   4.3   0.032938  \n",
       "2019-10-24 12:42:01      0.2   4.3   0.068301  "
      ]
     },
     "execution_count": 81,
     "metadata": {},
     "output_type": "execute_result"
    }
   ],
   "source": [
    "taxis['2019-10-24 12':'2019-10-24 13']"
   ]
  },
  {
   "cell_type": "markdown",
   "id": "c286a4f6-54fc-409d-b10a-8f6ac2734347",
   "metadata": {
    "id": "c286a4f6-54fc-409d-b10a-8f6ac2734347",
    "tags": []
   },
   "source": [
    "Também podemos representar esse intervalo de uma forma abreviada. Porém devemos usar `loc[]` nesse caso:"
   ]
  },
  {
   "cell_type": "code",
   "execution_count": 82,
   "id": "9e6b26c9-4048-4207-8454-b9f018a56816",
   "metadata": {
    "colab": {
     "base_uri": "https://localhost:8080/",
     "height": 277
    },
    "id": "9e6b26c9-4048-4207-8454-b9f018a56816",
    "outputId": "c1088e76-35f7-4fb1-c2ca-0d64a3507e92"
   },
   "outputs": [
    {
     "data": {
      "text/html": [
       "<div>\n",
       "<style scoped>\n",
       "    .dataframe tbody tr th:only-of-type {\n",
       "        vertical-align: middle;\n",
       "    }\n",
       "\n",
       "    .dataframe tbody tr th {\n",
       "        vertical-align: top;\n",
       "    }\n",
       "\n",
       "    .dataframe thead th {\n",
       "        text-align: right;\n",
       "    }\n",
       "</style>\n",
       "<table border=\"1\" class=\"dataframe\">\n",
       "  <thead>\n",
       "    <tr style=\"text-align: right;\">\n",
       "      <th></th>\n",
       "      <th>pickup</th>\n",
       "      <th>passenger_count</th>\n",
       "      <th>trip_distance</th>\n",
       "      <th>payment_type</th>\n",
       "      <th>fare_amount</th>\n",
       "      <th>extra</th>\n",
       "      <th>mta_tax</th>\n",
       "      <th>tip_amount</th>\n",
       "      <th>tolls_amount</th>\n",
       "      <th>improvement_surcharge</th>\n",
       "      <th>total_amount</th>\n",
       "      <th>congestion_surcharge</th>\n",
       "      <th>elapsed_time</th>\n",
       "      <th>cost_before_tip</th>\n",
       "      <th>tip_pct</th>\n",
       "      <th>fees</th>\n",
       "      <th>avg_speed</th>\n",
       "    </tr>\n",
       "    <tr>\n",
       "      <th>dropoff</th>\n",
       "      <th></th>\n",
       "      <th></th>\n",
       "      <th></th>\n",
       "      <th></th>\n",
       "      <th></th>\n",
       "      <th></th>\n",
       "      <th></th>\n",
       "      <th></th>\n",
       "      <th></th>\n",
       "      <th></th>\n",
       "      <th></th>\n",
       "      <th></th>\n",
       "      <th></th>\n",
       "      <th></th>\n",
       "      <th></th>\n",
       "      <th></th>\n",
       "      <th></th>\n",
       "    </tr>\n",
       "  </thead>\n",
       "  <tbody>\n",
       "    <tr>\n",
       "      <th>2019-10-24 12:30:08</th>\n",
       "      <td>2019-10-23 13:25:42</td>\n",
       "      <td>4</td>\n",
       "      <td>0.76</td>\n",
       "      <td>2</td>\n",
       "      <td>5.0</td>\n",
       "      <td>1.0</td>\n",
       "      <td>0.5</td>\n",
       "      <td>0.00</td>\n",
       "      <td>0.0</td>\n",
       "      <td>0.3</td>\n",
       "      <td>9.30</td>\n",
       "      <td>2.5</td>\n",
       "      <td>0 days 23:04:26</td>\n",
       "      <td>9.3</td>\n",
       "      <td>0.0</td>\n",
       "      <td>4.3</td>\n",
       "      <td>0.032938</td>\n",
       "    </tr>\n",
       "    <tr>\n",
       "      <th>2019-10-24 12:42:01</th>\n",
       "      <td>2019-10-23 13:34:03</td>\n",
       "      <td>2</td>\n",
       "      <td>1.58</td>\n",
       "      <td>1</td>\n",
       "      <td>7.5</td>\n",
       "      <td>1.0</td>\n",
       "      <td>0.5</td>\n",
       "      <td>2.36</td>\n",
       "      <td>0.0</td>\n",
       "      <td>0.3</td>\n",
       "      <td>14.16</td>\n",
       "      <td>2.5</td>\n",
       "      <td>0 days 23:07:58</td>\n",
       "      <td>11.8</td>\n",
       "      <td>0.2</td>\n",
       "      <td>4.3</td>\n",
       "      <td>0.068301</td>\n",
       "    </tr>\n",
       "  </tbody>\n",
       "</table>\n",
       "</div>"
      ],
      "text/plain": [
       "                                 pickup  passenger_count  trip_distance  \\\n",
       "dropoff                                                                   \n",
       "2019-10-24 12:30:08 2019-10-23 13:25:42                4           0.76   \n",
       "2019-10-24 12:42:01 2019-10-23 13:34:03                2           1.58   \n",
       "\n",
       "                     payment_type  fare_amount  extra  mta_tax  tip_amount  \\\n",
       "dropoff                                                                      \n",
       "2019-10-24 12:30:08             2          5.0    1.0      0.5        0.00   \n",
       "2019-10-24 12:42:01             1          7.5    1.0      0.5        2.36   \n",
       "\n",
       "                     tolls_amount  improvement_surcharge  total_amount  \\\n",
       "dropoff                                                                  \n",
       "2019-10-24 12:30:08           0.0                    0.3          9.30   \n",
       "2019-10-24 12:42:01           0.0                    0.3         14.16   \n",
       "\n",
       "                     congestion_surcharge    elapsed_time  cost_before_tip  \\\n",
       "dropoff                                                                      \n",
       "2019-10-24 12:30:08                   2.5 0 days 23:04:26              9.3   \n",
       "2019-10-24 12:42:01                   2.5 0 days 23:07:58             11.8   \n",
       "\n",
       "                     tip_pct  fees  avg_speed  \n",
       "dropoff                                        \n",
       "2019-10-24 12:30:08      0.0   4.3   0.032938  \n",
       "2019-10-24 12:42:01      0.2   4.3   0.068301  "
      ]
     },
     "execution_count": 82,
     "metadata": {},
     "output_type": "execute_result"
    }
   ],
   "source": [
    "taxis.loc['2019-10-24 12']"
   ]
  },
  {
   "cell_type": "markdown",
   "id": "8705d663-67c8-4f6f-b3e9-52bceeea122f",
   "metadata": {
    "id": "8705d663-67c8-4f6f-b3e9-52bceeea122f",
    "tags": []
   },
   "source": [
    "No entanto, se quisermos ver esse intervalo de tempo ao longo dos dias, precisamos de outra estratégia."
   ]
  },
  {
   "cell_type": "markdown",
   "id": "78093e7d-ce53-424b-b484-820c4d98ace0",
   "metadata": {
    "id": "78093e7d-ce53-424b-b484-820c4d98ace0",
    "tags": []
   },
   "source": [
    "Podemos retirar os desembarques que aconteceram entre um certo período de tempo em *qualquer* dia com o método `between_time()`:"
   ]
  },
  {
   "cell_type": "code",
   "execution_count": 83,
   "id": "915f528c-639f-4b8b-99cc-9c83bb0cad4d",
   "metadata": {
    "colab": {
     "base_uri": "https://localhost:8080/",
     "height": 343
    },
    "id": "915f528c-639f-4b8b-99cc-9c83bb0cad4d",
    "outputId": "9601c05e-77ec-4a02-e5fe-e7a1744be513"
   },
   "outputs": [
    {
     "data": {
      "text/html": [
       "<div>\n",
       "<style scoped>\n",
       "    .dataframe tbody tr th:only-of-type {\n",
       "        vertical-align: middle;\n",
       "    }\n",
       "\n",
       "    .dataframe tbody tr th {\n",
       "        vertical-align: top;\n",
       "    }\n",
       "\n",
       "    .dataframe thead th {\n",
       "        text-align: right;\n",
       "    }\n",
       "</style>\n",
       "<table border=\"1\" class=\"dataframe\">\n",
       "  <thead>\n",
       "    <tr style=\"text-align: right;\">\n",
       "      <th></th>\n",
       "      <th>pickup</th>\n",
       "      <th>passenger_count</th>\n",
       "      <th>trip_distance</th>\n",
       "      <th>payment_type</th>\n",
       "      <th>fare_amount</th>\n",
       "      <th>extra</th>\n",
       "      <th>mta_tax</th>\n",
       "      <th>tip_amount</th>\n",
       "      <th>tolls_amount</th>\n",
       "      <th>improvement_surcharge</th>\n",
       "      <th>total_amount</th>\n",
       "      <th>congestion_surcharge</th>\n",
       "      <th>elapsed_time</th>\n",
       "      <th>cost_before_tip</th>\n",
       "      <th>tip_pct</th>\n",
       "      <th>fees</th>\n",
       "      <th>avg_speed</th>\n",
       "    </tr>\n",
       "    <tr>\n",
       "      <th>dropoff</th>\n",
       "      <th></th>\n",
       "      <th></th>\n",
       "      <th></th>\n",
       "      <th></th>\n",
       "      <th></th>\n",
       "      <th></th>\n",
       "      <th></th>\n",
       "      <th></th>\n",
       "      <th></th>\n",
       "      <th></th>\n",
       "      <th></th>\n",
       "      <th></th>\n",
       "      <th></th>\n",
       "      <th></th>\n",
       "      <th></th>\n",
       "      <th></th>\n",
       "      <th></th>\n",
       "    </tr>\n",
       "  </thead>\n",
       "  <tbody>\n",
       "    <tr>\n",
       "      <th>2019-10-23 12:53:49</th>\n",
       "      <td>2019-10-23 12:35:27</td>\n",
       "      <td>5</td>\n",
       "      <td>2.49</td>\n",
       "      <td>1</td>\n",
       "      <td>13.5</td>\n",
       "      <td>1.0</td>\n",
       "      <td>0.5</td>\n",
       "      <td>2.20</td>\n",
       "      <td>0.0</td>\n",
       "      <td>0.3</td>\n",
       "      <td>20.00</td>\n",
       "      <td>2.5</td>\n",
       "      <td>0 days 00:18:22</td>\n",
       "      <td>17.8</td>\n",
       "      <td>0.123596</td>\n",
       "      <td>4.3</td>\n",
       "      <td>8.134301</td>\n",
       "    </tr>\n",
       "    <tr>\n",
       "      <th>2019-10-24 12:30:08</th>\n",
       "      <td>2019-10-23 13:25:42</td>\n",
       "      <td>4</td>\n",
       "      <td>0.76</td>\n",
       "      <td>2</td>\n",
       "      <td>5.0</td>\n",
       "      <td>1.0</td>\n",
       "      <td>0.5</td>\n",
       "      <td>0.00</td>\n",
       "      <td>0.0</td>\n",
       "      <td>0.3</td>\n",
       "      <td>9.30</td>\n",
       "      <td>2.5</td>\n",
       "      <td>0 days 23:04:26</td>\n",
       "      <td>9.3</td>\n",
       "      <td>0.000000</td>\n",
       "      <td>4.3</td>\n",
       "      <td>0.032938</td>\n",
       "    </tr>\n",
       "    <tr>\n",
       "      <th>2019-10-24 12:42:01</th>\n",
       "      <td>2019-10-23 13:34:03</td>\n",
       "      <td>2</td>\n",
       "      <td>1.58</td>\n",
       "      <td>1</td>\n",
       "      <td>7.5</td>\n",
       "      <td>1.0</td>\n",
       "      <td>0.5</td>\n",
       "      <td>2.36</td>\n",
       "      <td>0.0</td>\n",
       "      <td>0.3</td>\n",
       "      <td>14.16</td>\n",
       "      <td>2.5</td>\n",
       "      <td>0 days 23:07:58</td>\n",
       "      <td>11.8</td>\n",
       "      <td>0.200000</td>\n",
       "      <td>4.3</td>\n",
       "      <td>0.068301</td>\n",
       "    </tr>\n",
       "  </tbody>\n",
       "</table>\n",
       "</div>"
      ],
      "text/plain": [
       "                                 pickup  passenger_count  trip_distance  \\\n",
       "dropoff                                                                   \n",
       "2019-10-23 12:53:49 2019-10-23 12:35:27                5           2.49   \n",
       "2019-10-24 12:30:08 2019-10-23 13:25:42                4           0.76   \n",
       "2019-10-24 12:42:01 2019-10-23 13:34:03                2           1.58   \n",
       "\n",
       "                     payment_type  fare_amount  extra  mta_tax  tip_amount  \\\n",
       "dropoff                                                                      \n",
       "2019-10-23 12:53:49             1         13.5    1.0      0.5        2.20   \n",
       "2019-10-24 12:30:08             2          5.0    1.0      0.5        0.00   \n",
       "2019-10-24 12:42:01             1          7.5    1.0      0.5        2.36   \n",
       "\n",
       "                     tolls_amount  improvement_surcharge  total_amount  \\\n",
       "dropoff                                                                  \n",
       "2019-10-23 12:53:49           0.0                    0.3         20.00   \n",
       "2019-10-24 12:30:08           0.0                    0.3          9.30   \n",
       "2019-10-24 12:42:01           0.0                    0.3         14.16   \n",
       "\n",
       "                     congestion_surcharge    elapsed_time  cost_before_tip  \\\n",
       "dropoff                                                                      \n",
       "2019-10-23 12:53:49                   2.5 0 days 00:18:22             17.8   \n",
       "2019-10-24 12:30:08                   2.5 0 days 23:04:26              9.3   \n",
       "2019-10-24 12:42:01                   2.5 0 days 23:07:58             11.8   \n",
       "\n",
       "                      tip_pct  fees  avg_speed  \n",
       "dropoff                                         \n",
       "2019-10-23 12:53:49  0.123596   4.3   8.134301  \n",
       "2019-10-24 12:30:08  0.000000   4.3   0.032938  \n",
       "2019-10-24 12:42:01  0.200000   4.3   0.068301  "
      ]
     },
     "execution_count": 83,
     "metadata": {},
     "output_type": "execute_result"
    }
   ],
   "source": [
    "taxis.between_time('12:00', '13:00')"
   ]
  },
  {
   "cell_type": "markdown",
   "id": "98520264-8284-414c-9c23-0c054af076f5",
   "metadata": {
    "id": "98520264-8284-414c-9c23-0c054af076f5",
    "tags": []
   },
   "source": [
    "*Dica: O método `at_time()` pode ser usado para extrait todas as entradas em um dado tempo, como \"12:35:27\", por exemplo.*"
   ]
  },
  {
   "cell_type": "markdown",
   "id": "6b6abd12-4ad3-47ed-be2f-c4a3bb6b1fbf",
   "metadata": {
    "id": "6b6abd12-4ad3-47ed-be2f-c4a3bb6b1fbf",
    "tags": []
   },
   "source": [
    "Por fim, `head()` e `tail()` nos limitam ao número de linhas, porém podemos estar interessados em linhas dentro das primeiras/últimas 2 horas (ou qualquer outro intervalo de tempo) dos dados, e nesse caso, devemos utilizar `first()` / `last()`:"
   ]
  },
  {
   "cell_type": "code",
   "execution_count": 84,
   "id": "e0e31dc9-dc86-4481-97b1-1cbb9d5490a6",
   "metadata": {
    "colab": {
     "base_uri": "https://localhost:8080/",
     "height": 475
    },
    "id": "e0e31dc9-dc86-4481-97b1-1cbb9d5490a6",
    "outputId": "96ab60f7-6837-42f9-9d82-2016c3bc9b4f"
   },
   "outputs": [
    {
     "data": {
      "text/html": [
       "<div>\n",
       "<style scoped>\n",
       "    .dataframe tbody tr th:only-of-type {\n",
       "        vertical-align: middle;\n",
       "    }\n",
       "\n",
       "    .dataframe tbody tr th {\n",
       "        vertical-align: top;\n",
       "    }\n",
       "\n",
       "    .dataframe thead th {\n",
       "        text-align: right;\n",
       "    }\n",
       "</style>\n",
       "<table border=\"1\" class=\"dataframe\">\n",
       "  <thead>\n",
       "    <tr style=\"text-align: right;\">\n",
       "      <th></th>\n",
       "      <th>pickup</th>\n",
       "      <th>passenger_count</th>\n",
       "      <th>trip_distance</th>\n",
       "      <th>payment_type</th>\n",
       "      <th>fare_amount</th>\n",
       "      <th>extra</th>\n",
       "      <th>mta_tax</th>\n",
       "      <th>tip_amount</th>\n",
       "      <th>tolls_amount</th>\n",
       "      <th>improvement_surcharge</th>\n",
       "      <th>total_amount</th>\n",
       "      <th>congestion_surcharge</th>\n",
       "      <th>elapsed_time</th>\n",
       "      <th>cost_before_tip</th>\n",
       "      <th>tip_pct</th>\n",
       "      <th>fees</th>\n",
       "      <th>avg_speed</th>\n",
       "    </tr>\n",
       "    <tr>\n",
       "      <th>dropoff</th>\n",
       "      <th></th>\n",
       "      <th></th>\n",
       "      <th></th>\n",
       "      <th></th>\n",
       "      <th></th>\n",
       "      <th></th>\n",
       "      <th></th>\n",
       "      <th></th>\n",
       "      <th></th>\n",
       "      <th></th>\n",
       "      <th></th>\n",
       "      <th></th>\n",
       "      <th></th>\n",
       "      <th></th>\n",
       "      <th></th>\n",
       "      <th></th>\n",
       "      <th></th>\n",
       "    </tr>\n",
       "  </thead>\n",
       "  <tbody>\n",
       "    <tr>\n",
       "      <th>2019-10-23 07:52:09</th>\n",
       "      <td>2019-10-23 07:48:58</td>\n",
       "      <td>1</td>\n",
       "      <td>0.67</td>\n",
       "      <td>2</td>\n",
       "      <td>4.5</td>\n",
       "      <td>1.0</td>\n",
       "      <td>0.5</td>\n",
       "      <td>0.0</td>\n",
       "      <td>0.0</td>\n",
       "      <td>0.3</td>\n",
       "      <td>8.8</td>\n",
       "      <td>2.5</td>\n",
       "      <td>0 days 00:03:11</td>\n",
       "      <td>8.8</td>\n",
       "      <td>0.00000</td>\n",
       "      <td>4.3</td>\n",
       "      <td>12.628272</td>\n",
       "    </tr>\n",
       "    <tr>\n",
       "      <th>2019-10-23 08:03:16</th>\n",
       "      <td>2019-10-23 07:05:34</td>\n",
       "      <td>3</td>\n",
       "      <td>14.68</td>\n",
       "      <td>1</td>\n",
       "      <td>50.0</td>\n",
       "      <td>1.0</td>\n",
       "      <td>0.5</td>\n",
       "      <td>4.0</td>\n",
       "      <td>0.0</td>\n",
       "      <td>0.3</td>\n",
       "      <td>55.8</td>\n",
       "      <td>0.0</td>\n",
       "      <td>0 days 00:57:42</td>\n",
       "      <td>51.8</td>\n",
       "      <td>0.07722</td>\n",
       "      <td>1.8</td>\n",
       "      <td>15.265165</td>\n",
       "    </tr>\n",
       "    <tr>\n",
       "      <th>2019-10-23 08:36:05</th>\n",
       "      <td>2019-10-23 08:18:47</td>\n",
       "      <td>1</td>\n",
       "      <td>2.39</td>\n",
       "      <td>2</td>\n",
       "      <td>12.5</td>\n",
       "      <td>1.0</td>\n",
       "      <td>0.5</td>\n",
       "      <td>0.0</td>\n",
       "      <td>0.0</td>\n",
       "      <td>0.3</td>\n",
       "      <td>16.8</td>\n",
       "      <td>2.5</td>\n",
       "      <td>0 days 00:17:18</td>\n",
       "      <td>16.8</td>\n",
       "      <td>0.00000</td>\n",
       "      <td>4.3</td>\n",
       "      <td>8.289017</td>\n",
       "    </tr>\n",
       "    <tr>\n",
       "      <th>2019-10-23 09:33:13</th>\n",
       "      <td>2019-10-23 09:27:16</td>\n",
       "      <td>2</td>\n",
       "      <td>1.11</td>\n",
       "      <td>2</td>\n",
       "      <td>6.0</td>\n",
       "      <td>1.0</td>\n",
       "      <td>0.5</td>\n",
       "      <td>0.0</td>\n",
       "      <td>0.0</td>\n",
       "      <td>0.3</td>\n",
       "      <td>7.8</td>\n",
       "      <td>0.0</td>\n",
       "      <td>0 days 00:05:57</td>\n",
       "      <td>7.8</td>\n",
       "      <td>0.00000</td>\n",
       "      <td>1.8</td>\n",
       "      <td>11.193277</td>\n",
       "    </tr>\n",
       "    <tr>\n",
       "      <th>2019-10-23 09:49:31</th>\n",
       "      <td>2019-10-23 09:47:25</td>\n",
       "      <td>2</td>\n",
       "      <td>0.47</td>\n",
       "      <td>2</td>\n",
       "      <td>52.0</td>\n",
       "      <td>4.5</td>\n",
       "      <td>0.5</td>\n",
       "      <td>0.0</td>\n",
       "      <td>0.0</td>\n",
       "      <td>0.3</td>\n",
       "      <td>59.8</td>\n",
       "      <td>2.5</td>\n",
       "      <td>0 days 00:02:06</td>\n",
       "      <td>59.8</td>\n",
       "      <td>0.00000</td>\n",
       "      <td>7.8</td>\n",
       "      <td>13.428571</td>\n",
       "    </tr>\n",
       "  </tbody>\n",
       "</table>\n",
       "</div>"
      ],
      "text/plain": [
       "                                 pickup  passenger_count  trip_distance  \\\n",
       "dropoff                                                                   \n",
       "2019-10-23 07:52:09 2019-10-23 07:48:58                1           0.67   \n",
       "2019-10-23 08:03:16 2019-10-23 07:05:34                3          14.68   \n",
       "2019-10-23 08:36:05 2019-10-23 08:18:47                1           2.39   \n",
       "2019-10-23 09:33:13 2019-10-23 09:27:16                2           1.11   \n",
       "2019-10-23 09:49:31 2019-10-23 09:47:25                2           0.47   \n",
       "\n",
       "                     payment_type  fare_amount  extra  mta_tax  tip_amount  \\\n",
       "dropoff                                                                      \n",
       "2019-10-23 07:52:09             2          4.5    1.0      0.5         0.0   \n",
       "2019-10-23 08:03:16             1         50.0    1.0      0.5         4.0   \n",
       "2019-10-23 08:36:05             2         12.5    1.0      0.5         0.0   \n",
       "2019-10-23 09:33:13             2          6.0    1.0      0.5         0.0   \n",
       "2019-10-23 09:49:31             2         52.0    4.5      0.5         0.0   \n",
       "\n",
       "                     tolls_amount  improvement_surcharge  total_amount  \\\n",
       "dropoff                                                                  \n",
       "2019-10-23 07:52:09           0.0                    0.3           8.8   \n",
       "2019-10-23 08:03:16           0.0                    0.3          55.8   \n",
       "2019-10-23 08:36:05           0.0                    0.3          16.8   \n",
       "2019-10-23 09:33:13           0.0                    0.3           7.8   \n",
       "2019-10-23 09:49:31           0.0                    0.3          59.8   \n",
       "\n",
       "                     congestion_surcharge    elapsed_time  cost_before_tip  \\\n",
       "dropoff                                                                      \n",
       "2019-10-23 07:52:09                   2.5 0 days 00:03:11              8.8   \n",
       "2019-10-23 08:03:16                   0.0 0 days 00:57:42             51.8   \n",
       "2019-10-23 08:36:05                   2.5 0 days 00:17:18             16.8   \n",
       "2019-10-23 09:33:13                   0.0 0 days 00:05:57              7.8   \n",
       "2019-10-23 09:49:31                   2.5 0 days 00:02:06             59.8   \n",
       "\n",
       "                     tip_pct  fees  avg_speed  \n",
       "dropoff                                        \n",
       "2019-10-23 07:52:09  0.00000   4.3  12.628272  \n",
       "2019-10-23 08:03:16  0.07722   1.8  15.265165  \n",
       "2019-10-23 08:36:05  0.00000   4.3   8.289017  \n",
       "2019-10-23 09:33:13  0.00000   1.8  11.193277  \n",
       "2019-10-23 09:49:31  0.00000   7.8  13.428571  "
      ]
     },
     "execution_count": 84,
     "metadata": {},
     "output_type": "execute_result"
    }
   ],
   "source": [
    "taxis.first('2H')"
   ]
  },
  {
   "cell_type": "markdown",
   "id": "7f0c8566-4a05-4710-8146-773089a05a07",
   "metadata": {
    "id": "7f0c8566-4a05-4710-8146-773089a05a07"
   },
   "source": [
    "*Dica: Offsets disponíveis de data/hora podem ser encontrados na [documentação](https://pandas.pydata.org/pandas-docs/stable/user_guide/timeseries.html#dateoffset-objects) do pandas.*"
   ]
  },
  {
   "cell_type": "markdown",
   "id": "b8c0485e-4730-4124-8e71-493e7e9c45d6",
   "metadata": {
    "id": "b8c0485e-4730-4124-8e71-493e7e9c45d6",
    "tags": []
   },
   "source": [
    "Para o resto dessa seção, trabalharemos com o dataset da TSA de fluxo de passageiros. Vamos começar definindo o indíce como a coluna `date`:"
   ]
  },
  {
   "cell_type": "code",
   "execution_count": 85,
   "id": "1a06c5b3-cb6b-4f02-9559-208fd94a78ed",
   "metadata": {
    "id": "1a06c5b3-cb6b-4f02-9559-208fd94a78ed"
   },
   "outputs": [],
   "source": [
    "tsa_melted_holiday_travel.set_index('date', inplace=True)"
   ]
  },
  {
   "cell_type": "markdown",
   "id": "20ae3a50-f2f4-4880-8463-a16bb7932ba2",
   "metadata": {
    "id": "20ae3a50-f2f4-4880-8463-a16bb7932ba2",
    "tags": []
   },
   "source": [
    "### Calculando mudanças ao longo do tempo"
   ]
  },
  {
   "cell_type": "code",
   "execution_count": 86,
   "id": "7a554fda-2363-4c87-b8f3-17773c511c43",
   "metadata": {
    "colab": {
     "base_uri": "https://localhost:8080/",
     "height": 394
    },
    "id": "7a554fda-2363-4c87-b8f3-17773c511c43",
    "outputId": "737f099c-b43d-4fed-cbfc-d239cd80ca6d"
   },
   "outputs": [
    {
     "data": {
      "text/html": [
       "<div>\n",
       "<style scoped>\n",
       "    .dataframe tbody tr th:only-of-type {\n",
       "        vertical-align: middle;\n",
       "    }\n",
       "\n",
       "    .dataframe tbody tr th {\n",
       "        vertical-align: top;\n",
       "    }\n",
       "\n",
       "    .dataframe thead th {\n",
       "        text-align: right;\n",
       "    }\n",
       "</style>\n",
       "<table border=\"1\" class=\"dataframe\">\n",
       "  <thead>\n",
       "    <tr style=\"text-align: right;\">\n",
       "      <th></th>\n",
       "      <th>year</th>\n",
       "      <th>travelers</th>\n",
       "      <th>holiday</th>\n",
       "      <th>one_day_change</th>\n",
       "      <th>seven_day_change</th>\n",
       "    </tr>\n",
       "    <tr>\n",
       "      <th>date</th>\n",
       "      <th></th>\n",
       "      <th></th>\n",
       "      <th></th>\n",
       "      <th></th>\n",
       "      <th></th>\n",
       "    </tr>\n",
       "  </thead>\n",
       "  <tbody>\n",
       "    <tr>\n",
       "      <th>2020-01-01</th>\n",
       "      <td>2020</td>\n",
       "      <td>2311732.0</td>\n",
       "      <td>New Year's Day</td>\n",
       "      <td>NaN</td>\n",
       "      <td>NaN</td>\n",
       "    </tr>\n",
       "    <tr>\n",
       "      <th>2020-01-02</th>\n",
       "      <td>2020</td>\n",
       "      <td>2178656.0</td>\n",
       "      <td>New Year's Day</td>\n",
       "      <td>-133076.0</td>\n",
       "      <td>NaN</td>\n",
       "    </tr>\n",
       "    <tr>\n",
       "      <th>2020-01-03</th>\n",
       "      <td>2020</td>\n",
       "      <td>2422272.0</td>\n",
       "      <td>NaN</td>\n",
       "      <td>243616.0</td>\n",
       "      <td>NaN</td>\n",
       "    </tr>\n",
       "    <tr>\n",
       "      <th>2020-01-04</th>\n",
       "      <td>2020</td>\n",
       "      <td>2210542.0</td>\n",
       "      <td>NaN</td>\n",
       "      <td>-211730.0</td>\n",
       "      <td>NaN</td>\n",
       "    </tr>\n",
       "    <tr>\n",
       "      <th>2020-01-05</th>\n",
       "      <td>2020</td>\n",
       "      <td>1806480.0</td>\n",
       "      <td>NaN</td>\n",
       "      <td>-404062.0</td>\n",
       "      <td>NaN</td>\n",
       "    </tr>\n",
       "    <tr>\n",
       "      <th>2020-01-06</th>\n",
       "      <td>2020</td>\n",
       "      <td>1815040.0</td>\n",
       "      <td>NaN</td>\n",
       "      <td>8560.0</td>\n",
       "      <td>NaN</td>\n",
       "    </tr>\n",
       "    <tr>\n",
       "      <th>2020-01-07</th>\n",
       "      <td>2020</td>\n",
       "      <td>2034472.0</td>\n",
       "      <td>NaN</td>\n",
       "      <td>219432.0</td>\n",
       "      <td>NaN</td>\n",
       "    </tr>\n",
       "    <tr>\n",
       "      <th>2020-01-08</th>\n",
       "      <td>2020</td>\n",
       "      <td>2072543.0</td>\n",
       "      <td>NaN</td>\n",
       "      <td>38071.0</td>\n",
       "      <td>-239189.0</td>\n",
       "    </tr>\n",
       "    <tr>\n",
       "      <th>2020-01-09</th>\n",
       "      <td>2020</td>\n",
       "      <td>1687974.0</td>\n",
       "      <td>NaN</td>\n",
       "      <td>-384569.0</td>\n",
       "      <td>-490682.0</td>\n",
       "    </tr>\n",
       "    <tr>\n",
       "      <th>2020-01-10</th>\n",
       "      <td>2020</td>\n",
       "      <td>2183734.0</td>\n",
       "      <td>NaN</td>\n",
       "      <td>495760.0</td>\n",
       "      <td>-238538.0</td>\n",
       "    </tr>\n",
       "  </tbody>\n",
       "</table>\n",
       "</div>"
      ],
      "text/plain": [
       "            year  travelers         holiday  one_day_change  seven_day_change\n",
       "date                                                                         \n",
       "2020-01-01  2020  2311732.0  New Year's Day             NaN               NaN\n",
       "2020-01-02  2020  2178656.0  New Year's Day       -133076.0               NaN\n",
       "2020-01-03  2020  2422272.0             NaN        243616.0               NaN\n",
       "2020-01-04  2020  2210542.0             NaN       -211730.0               NaN\n",
       "2020-01-05  2020  1806480.0             NaN       -404062.0               NaN\n",
       "2020-01-06  2020  1815040.0             NaN          8560.0               NaN\n",
       "2020-01-07  2020  2034472.0             NaN        219432.0               NaN\n",
       "2020-01-08  2020  2072543.0             NaN         38071.0         -239189.0\n",
       "2020-01-09  2020  1687974.0             NaN       -384569.0         -490682.0\n",
       "2020-01-10  2020  2183734.0             NaN        495760.0         -238538.0"
      ]
     },
     "execution_count": 86,
     "metadata": {},
     "output_type": "execute_result"
    }
   ],
   "source": [
    "tsa_melted_holiday_travel.loc['2020'].assign(\n",
    "    one_day_change=lambda x: x.travelers.diff(),\n",
    "    seven_day_change=lambda x: x.travelers.diff(7),\n",
    ").head(10)"
   ]
  },
  {
   "cell_type": "markdown",
   "id": "4938d37c-9e59-4c5b-88c1-32709c0b68d9",
   "metadata": {
    "id": "4938d37c-9e59-4c5b-88c1-32709c0b68d9"
   },
   "source": [
    "*Dica: Para realizar operações além de subtração, dê uma olhada no método `shift()`. Ele também possibilita a aplicação de operações nas colunas.*"
   ]
  },
  {
   "cell_type": "markdown",
   "id": "86e9b6a3-7547-4d38-93ec-1a27e64615cf",
   "metadata": {
    "id": "86e9b6a3-7547-4d38-93ec-1a27e64615cf",
    "tags": []
   },
   "source": [
    "### Reamostragem\n",
    "Podemos usar a reamostragem para agregar dados de séries temporais a uma nova frequência:"
   ]
  },
  {
   "cell_type": "code",
   "execution_count": 87,
   "id": "0093c590-342a-4add-9999-0fb063cfa5e7",
   "metadata": {
    "colab": {
     "base_uri": "https://localhost:8080/",
     "height": 394
    },
    "id": "0093c590-342a-4add-9999-0fb063cfa5e7",
    "outputId": "02bb6609-fd0c-4cdd-8d99-3ac91a5b04b4"
   },
   "outputs": [
    {
     "data": {
      "text/html": [
       "<div>\n",
       "<style scoped>\n",
       "    .dataframe tbody tr th:only-of-type {\n",
       "        vertical-align: middle;\n",
       "    }\n",
       "\n",
       "    .dataframe tbody tr th {\n",
       "        vertical-align: top;\n",
       "    }\n",
       "\n",
       "    .dataframe thead tr th {\n",
       "        text-align: left;\n",
       "    }\n",
       "\n",
       "    .dataframe thead tr:last-of-type th {\n",
       "        text-align: right;\n",
       "    }\n",
       "</style>\n",
       "<table border=\"1\" class=\"dataframe\">\n",
       "  <thead>\n",
       "    <tr>\n",
       "      <th></th>\n",
       "      <th colspan=\"3\" halign=\"left\">travelers</th>\n",
       "    </tr>\n",
       "    <tr>\n",
       "      <th></th>\n",
       "      <th>sum</th>\n",
       "      <th>mean</th>\n",
       "      <th>std</th>\n",
       "    </tr>\n",
       "    <tr>\n",
       "      <th>date</th>\n",
       "      <th></th>\n",
       "      <th></th>\n",
       "      <th></th>\n",
       "    </tr>\n",
       "  </thead>\n",
       "  <tbody>\n",
       "    <tr>\n",
       "      <th>2019-03-31</th>\n",
       "      <td>189281658.0</td>\n",
       "      <td>2.103130e+06</td>\n",
       "      <td>282239.618354</td>\n",
       "    </tr>\n",
       "    <tr>\n",
       "      <th>2019-06-30</th>\n",
       "      <td>221756667.0</td>\n",
       "      <td>2.436886e+06</td>\n",
       "      <td>212600.697665</td>\n",
       "    </tr>\n",
       "    <tr>\n",
       "      <th>2019-09-30</th>\n",
       "      <td>220819236.0</td>\n",
       "      <td>2.400209e+06</td>\n",
       "      <td>260140.242892</td>\n",
       "    </tr>\n",
       "    <tr>\n",
       "      <th>2019-12-31</th>\n",
       "      <td>211103512.0</td>\n",
       "      <td>2.294603e+06</td>\n",
       "      <td>260510.040655</td>\n",
       "    </tr>\n",
       "    <tr>\n",
       "      <th>2020-03-31</th>\n",
       "      <td>155354148.0</td>\n",
       "      <td>1.726157e+06</td>\n",
       "      <td>685094.277420</td>\n",
       "    </tr>\n",
       "    <tr>\n",
       "      <th>2020-06-30</th>\n",
       "      <td>25049083.0</td>\n",
       "      <td>2.752646e+05</td>\n",
       "      <td>170127.402046</td>\n",
       "    </tr>\n",
       "    <tr>\n",
       "      <th>2020-09-30</th>\n",
       "      <td>63937115.0</td>\n",
       "      <td>6.949686e+05</td>\n",
       "      <td>103864.705739</td>\n",
       "    </tr>\n",
       "    <tr>\n",
       "      <th>2020-12-31</th>\n",
       "      <td>77541248.0</td>\n",
       "      <td>8.428397e+05</td>\n",
       "      <td>170245.484185</td>\n",
       "    </tr>\n",
       "    <tr>\n",
       "      <th>2021-03-31</th>\n",
       "      <td>86094635.0</td>\n",
       "      <td>9.566071e+05</td>\n",
       "      <td>280399.809061</td>\n",
       "    </tr>\n",
       "  </tbody>\n",
       "</table>\n",
       "</div>"
      ],
      "text/plain": [
       "              travelers                             \n",
       "                    sum          mean            std\n",
       "date                                                \n",
       "2019-03-31  189281658.0  2.103130e+06  282239.618354\n",
       "2019-06-30  221756667.0  2.436886e+06  212600.697665\n",
       "2019-09-30  220819236.0  2.400209e+06  260140.242892\n",
       "2019-12-31  211103512.0  2.294603e+06  260510.040655\n",
       "2020-03-31  155354148.0  1.726157e+06  685094.277420\n",
       "2020-06-30   25049083.0  2.752646e+05  170127.402046\n",
       "2020-09-30   63937115.0  6.949686e+05  103864.705739\n",
       "2020-12-31   77541248.0  8.428397e+05  170245.484185\n",
       "2021-03-31   86094635.0  9.566071e+05  280399.809061"
      ]
     },
     "execution_count": 87,
     "metadata": {},
     "output_type": "execute_result"
    }
   ],
   "source": [
    "tsa_melted_holiday_travel['2019':'2021-Q1'].select_dtypes(include='number')\\\n",
    "    .resample('Q').agg(['sum', 'mean', 'std'])"
   ]
  },
  {
   "cell_type": "markdown",
   "id": "c169d6c8-a744-462a-bfbb-a5cadd29eca9",
   "metadata": {
    "id": "c169d6c8-a744-462a-bfbb-a5cadd29eca9",
    "tags": []
   },
   "source": [
    "### Cálculos de janela\n",
    "\n",
    "Cálculos de janeça são parecidos com os cálculos de agrupamento, exceto que o grupo o qual o cálculo é realizado não é estático &ndash; ele pode se mover ou expandir. A bilbioteca Pandas fornece funcionalidades para a construção de uma variedade de janelas, como mover/rolar janelas, expandir janelas (somas acumalativas ou dar significado a data atual em uma série temporal), e janelas móveis exponencialmente ponderadas (para ponderar observações mais próximas do que outras mais distantes). Veremos apenas cálculos de rolagem e expansão aqui."
   ]
  },
  {
   "cell_type": "markdown",
   "id": "acdebc2e-20f9-4963-9aeb-90a6d91db14e",
   "metadata": {
    "id": "acdebc2e-20f9-4963-9aeb-90a6d91db14e",
    "tags": []
   },
   "source": [
    "Executar um cálculo de janela é bem parecido com um cálculo de agrupamento &ndash; primeiro definimos a janela, e depois especificamos a agregação:"
   ]
  },
  {
   "cell_type": "code",
   "execution_count": 88,
   "id": "d83c0d2e-16db-49de-b15b-ba30792a89e7",
   "metadata": {
    "colab": {
     "base_uri": "https://localhost:8080/",
     "height": 394
    },
    "id": "d83c0d2e-16db-49de-b15b-ba30792a89e7",
    "outputId": "1f197b61-3cbd-45a7-ddcb-f1e6aeaea953"
   },
   "outputs": [
    {
     "data": {
      "text/html": [
       "<div>\n",
       "<style scoped>\n",
       "    .dataframe tbody tr th:only-of-type {\n",
       "        vertical-align: middle;\n",
       "    }\n",
       "\n",
       "    .dataframe tbody tr th {\n",
       "        vertical-align: top;\n",
       "    }\n",
       "\n",
       "    .dataframe thead th {\n",
       "        text-align: right;\n",
       "    }\n",
       "</style>\n",
       "<table border=\"1\" class=\"dataframe\">\n",
       "  <thead>\n",
       "    <tr style=\"text-align: right;\">\n",
       "      <th></th>\n",
       "      <th>year</th>\n",
       "      <th>travelers</th>\n",
       "      <th>holiday</th>\n",
       "      <th>7D MA</th>\n",
       "      <th>YTD mean</th>\n",
       "    </tr>\n",
       "    <tr>\n",
       "      <th>date</th>\n",
       "      <th></th>\n",
       "      <th></th>\n",
       "      <th></th>\n",
       "      <th></th>\n",
       "      <th></th>\n",
       "    </tr>\n",
       "  </thead>\n",
       "  <tbody>\n",
       "    <tr>\n",
       "      <th>2020-01-01</th>\n",
       "      <td>2020</td>\n",
       "      <td>2311732.0</td>\n",
       "      <td>New Year's Day</td>\n",
       "      <td>2.311732e+06</td>\n",
       "      <td>2.311732e+06</td>\n",
       "    </tr>\n",
       "    <tr>\n",
       "      <th>2020-01-02</th>\n",
       "      <td>2020</td>\n",
       "      <td>2178656.0</td>\n",
       "      <td>New Year's Day</td>\n",
       "      <td>2.245194e+06</td>\n",
       "      <td>2.245194e+06</td>\n",
       "    </tr>\n",
       "    <tr>\n",
       "      <th>2020-01-03</th>\n",
       "      <td>2020</td>\n",
       "      <td>2422272.0</td>\n",
       "      <td>NaN</td>\n",
       "      <td>2.304220e+06</td>\n",
       "      <td>2.304220e+06</td>\n",
       "    </tr>\n",
       "    <tr>\n",
       "      <th>2020-01-04</th>\n",
       "      <td>2020</td>\n",
       "      <td>2210542.0</td>\n",
       "      <td>NaN</td>\n",
       "      <td>2.280800e+06</td>\n",
       "      <td>2.280800e+06</td>\n",
       "    </tr>\n",
       "    <tr>\n",
       "      <th>2020-01-05</th>\n",
       "      <td>2020</td>\n",
       "      <td>1806480.0</td>\n",
       "      <td>NaN</td>\n",
       "      <td>2.185936e+06</td>\n",
       "      <td>2.185936e+06</td>\n",
       "    </tr>\n",
       "    <tr>\n",
       "      <th>2020-01-06</th>\n",
       "      <td>2020</td>\n",
       "      <td>1815040.0</td>\n",
       "      <td>NaN</td>\n",
       "      <td>2.124120e+06</td>\n",
       "      <td>2.124120e+06</td>\n",
       "    </tr>\n",
       "    <tr>\n",
       "      <th>2020-01-07</th>\n",
       "      <td>2020</td>\n",
       "      <td>2034472.0</td>\n",
       "      <td>NaN</td>\n",
       "      <td>2.111313e+06</td>\n",
       "      <td>2.111313e+06</td>\n",
       "    </tr>\n",
       "    <tr>\n",
       "      <th>2020-01-08</th>\n",
       "      <td>2020</td>\n",
       "      <td>2072543.0</td>\n",
       "      <td>NaN</td>\n",
       "      <td>2.077144e+06</td>\n",
       "      <td>2.106467e+06</td>\n",
       "    </tr>\n",
       "    <tr>\n",
       "      <th>2020-01-09</th>\n",
       "      <td>2020</td>\n",
       "      <td>1687974.0</td>\n",
       "      <td>NaN</td>\n",
       "      <td>2.007046e+06</td>\n",
       "      <td>2.059968e+06</td>\n",
       "    </tr>\n",
       "    <tr>\n",
       "      <th>2020-01-10</th>\n",
       "      <td>2020</td>\n",
       "      <td>2183734.0</td>\n",
       "      <td>NaN</td>\n",
       "      <td>1.972969e+06</td>\n",
       "      <td>2.072344e+06</td>\n",
       "    </tr>\n",
       "  </tbody>\n",
       "</table>\n",
       "</div>"
      ],
      "text/plain": [
       "            year  travelers         holiday         7D MA      YTD mean\n",
       "date                                                                   \n",
       "2020-01-01  2020  2311732.0  New Year's Day  2.311732e+06  2.311732e+06\n",
       "2020-01-02  2020  2178656.0  New Year's Day  2.245194e+06  2.245194e+06\n",
       "2020-01-03  2020  2422272.0             NaN  2.304220e+06  2.304220e+06\n",
       "2020-01-04  2020  2210542.0             NaN  2.280800e+06  2.280800e+06\n",
       "2020-01-05  2020  1806480.0             NaN  2.185936e+06  2.185936e+06\n",
       "2020-01-06  2020  1815040.0             NaN  2.124120e+06  2.124120e+06\n",
       "2020-01-07  2020  2034472.0             NaN  2.111313e+06  2.111313e+06\n",
       "2020-01-08  2020  2072543.0             NaN  2.077144e+06  2.106467e+06\n",
       "2020-01-09  2020  1687974.0             NaN  2.007046e+06  2.059968e+06\n",
       "2020-01-10  2020  2183734.0             NaN  1.972969e+06  2.072344e+06"
      ]
     },
     "execution_count": 88,
     "metadata": {},
     "output_type": "execute_result"
    }
   ],
   "source": [
    "tsa_melted_holiday_travel.loc['2020'].assign(\n",
    "    **{\n",
    "        '7D MA': lambda x: x.rolling('7D').travelers.mean(),\n",
    "        'YTD mean': lambda x: x.expanding().travelers.mean()\n",
    "      }\n",
    ").head(10)"
   ]
  },
  {
   "cell_type": "markdown",
   "id": "8dab1843-9179-415f-be5b-1ebafaef3690",
   "metadata": {
    "id": "8dab1843-9179-415f-be5b-1ebafaef3690",
    "tags": []
   },
   "source": [
    "Para entender o que está acontecendo, é melhor visulizarmos os dados originais e os resultantes, então aqui temos uma pequena prévia de plotagem utilizando pandas. Primeiramente, configuramos o notebook para incorporar gráficos SVG:"
   ]
  },
  {
   "cell_type": "code",
   "execution_count": 89,
   "id": "da84fa52-b2a9-4ab8-9d6d-643a3b43b94e",
   "metadata": {
    "id": "da84fa52-b2a9-4ab8-9d6d-643a3b43b94e"
   },
   "outputs": [],
   "source": [
    "%config InlineBackend.figure_formats = ['svg']\n",
    "%matplotlib inline"
   ]
  },
  {
   "cell_type": "markdown",
   "id": "83a8ff93-9ac6-481c-8e44-91195f0df4d7",
   "metadata": {
    "id": "83a8ff93-9ac6-481c-8e44-91195f0df4d7"
   },
   "source": [
    "*Dica: Esses são comandos do IPython chamados \"magics\". Leia mais sobre eles [aqui](https://ipython.readthedocs.io/en/stable/interactive/magics.html).*"
   ]
  },
  {
   "cell_type": "markdown",
   "id": "474adada-c6c6-4306-ab85-a23a6bebaca7",
   "metadata": {
    "id": "474adada-c6c6-4306-ab85-a23a6bebaca7",
    "tags": []
   },
   "source": [
    "Agora, podemos chamar o método `plot()` para visualizar os dados:"
   ]
  },
  {
   "cell_type": "code",
   "execution_count": 90,
   "id": "3e31834c-3299-44b0-8ac3-6939b91b9be0",
   "metadata": {
    "colab": {
     "base_uri": "https://localhost:8080/",
     "height": 388
    },
    "id": "3e31834c-3299-44b0-8ac3-6939b91b9be0",
    "outputId": "d913b285-6b67-457d-b52c-8686247b01a3"
   },
   "outputs": [
    {
     "data": {
      "image/svg+xml": "<?xml version=\"1.0\" encoding=\"utf-8\" standalone=\"no\"?>\n<!DOCTYPE svg PUBLIC \"-//W3C//DTD SVG 1.1//EN\"\n  \"http://www.w3.org/Graphics/SVG/1.1/DTD/svg11.dtd\">\n<svg xmlns:xlink=\"http://www.w3.org/1999/xlink\" width=\"385.78125pt\" height=\"275.309158pt\" viewBox=\"0 0 385.78125 275.309158\" xmlns=\"http://www.w3.org/2000/svg\" version=\"1.1\">\n <metadata>\n  <rdf:RDF xmlns:dc=\"http://purl.org/dc/elements/1.1/\" xmlns:cc=\"http://creativecommons.org/ns#\" xmlns:rdf=\"http://www.w3.org/1999/02/22-rdf-syntax-ns#\">\n   <cc:Work>\n    <dc:type rdf:resource=\"http://purl.org/dc/dcmitype/StillImage\"/>\n    <dc:date>2022-08-17T16:56:16.510561</dc:date>\n    <dc:format>image/svg+xml</dc:format>\n    <dc:creator>\n     <cc:Agent>\n      <dc:title>Matplotlib v3.5.1, https://matplotlib.org/</dc:title>\n     </cc:Agent>\n    </dc:creator>\n   </cc:Work>\n  </rdf:RDF>\n </metadata>\n <defs>\n  <style type=\"text/css\">*{stroke-linejoin: round; stroke-linecap: butt}</style>\n </defs>\n <g id=\"figure_1\">\n  <g id=\"patch_1\">\n   <path d=\"M 0 275.309158 \nL 385.78125 275.309158 \nL 385.78125 0 \nL 0 0 \nL 0 275.309158 \nz\n\" style=\"fill: none\"/>\n  </g>\n  <g id=\"axes_1\">\n   <g id=\"patch_2\">\n    <path d=\"M 43.78125 218.158125 \nL 378.58125 218.158125 \nL 378.58125 22.318125 \nL 43.78125 22.318125 \nz\n\" style=\"fill: #ffffff\"/>\n   </g>\n   <g id=\"matplotlib.axis_1\">\n    <g id=\"xtick_1\">\n     <g id=\"line2d_1\">\n      <defs>\n       <path id=\"m7e0f78fec7\" d=\"M 0 0 \nL 0 3.5 \n\" style=\"stroke: #000000; stroke-width: 0.8\"/>\n      </defs>\n      <g>\n       <use xlink:href=\"#m7e0f78fec7\" x=\"58.999432\" y=\"218.158125\" style=\"stroke: #000000; stroke-width: 0.8\"/>\n      </g>\n     </g>\n     <g id=\"text_1\">\n      <!-- 2020-01 -->\n      <g transform=\"translate(21.774611 252.629971)rotate(-30)scale(0.1 -0.1)\">\n       <defs>\n        <path id=\"DejaVuSans-32\" d=\"M 1228 531 \nL 3431 531 \nL 3431 0 \nL 469 0 \nL 469 531 \nQ 828 903 1448 1529 \nQ 2069 2156 2228 2338 \nQ 2531 2678 2651 2914 \nQ 2772 3150 2772 3378 \nQ 2772 3750 2511 3984 \nQ 2250 4219 1831 4219 \nQ 1534 4219 1204 4116 \nQ 875 4013 500 3803 \nL 500 4441 \nQ 881 4594 1212 4672 \nQ 1544 4750 1819 4750 \nQ 2544 4750 2975 4387 \nQ 3406 4025 3406 3419 \nQ 3406 3131 3298 2873 \nQ 3191 2616 2906 2266 \nQ 2828 2175 2409 1742 \nQ 1991 1309 1228 531 \nz\n\" transform=\"scale(0.015625)\"/>\n        <path id=\"DejaVuSans-30\" d=\"M 2034 4250 \nQ 1547 4250 1301 3770 \nQ 1056 3291 1056 2328 \nQ 1056 1369 1301 889 \nQ 1547 409 2034 409 \nQ 2525 409 2770 889 \nQ 3016 1369 3016 2328 \nQ 3016 3291 2770 3770 \nQ 2525 4250 2034 4250 \nz\nM 2034 4750 \nQ 2819 4750 3233 4129 \nQ 3647 3509 3647 2328 \nQ 3647 1150 3233 529 \nQ 2819 -91 2034 -91 \nQ 1250 -91 836 529 \nQ 422 1150 422 2328 \nQ 422 3509 836 4129 \nQ 1250 4750 2034 4750 \nz\n\" transform=\"scale(0.015625)\"/>\n        <path id=\"DejaVuSans-2d\" d=\"M 313 2009 \nL 1997 2009 \nL 1997 1497 \nL 313 1497 \nL 313 2009 \nz\n\" transform=\"scale(0.015625)\"/>\n        <path id=\"DejaVuSans-31\" d=\"M 794 531 \nL 1825 531 \nL 1825 4091 \nL 703 3866 \nL 703 4441 \nL 1819 4666 \nL 2450 4666 \nL 2450 531 \nL 3481 531 \nL 3481 0 \nL 794 0 \nL 794 531 \nz\n\" transform=\"scale(0.015625)\"/>\n       </defs>\n       <use xlink:href=\"#DejaVuSans-32\"/>\n       <use xlink:href=\"#DejaVuSans-30\" x=\"63.623047\"/>\n       <use xlink:href=\"#DejaVuSans-32\" x=\"127.246094\"/>\n       <use xlink:href=\"#DejaVuSans-30\" x=\"190.869141\"/>\n       <use xlink:href=\"#DejaVuSans-2d\" x=\"254.492188\"/>\n       <use xlink:href=\"#DejaVuSans-30\" x=\"290.576172\"/>\n       <use xlink:href=\"#DejaVuSans-31\" x=\"354.199219\"/>\n      </g>\n     </g>\n    </g>\n    <g id=\"xtick_2\">\n     <g id=\"line2d_2\">\n      <g>\n       <use xlink:href=\"#m7e0f78fec7\" x=\"109.03181\" y=\"218.158125\" style=\"stroke: #000000; stroke-width: 0.8\"/>\n      </g>\n     </g>\n     <g id=\"text_2\">\n      <!-- 2020-03 -->\n      <g transform=\"translate(71.80699 252.629971)rotate(-30)scale(0.1 -0.1)\">\n       <defs>\n        <path id=\"DejaVuSans-33\" d=\"M 2597 2516 \nQ 3050 2419 3304 2112 \nQ 3559 1806 3559 1356 \nQ 3559 666 3084 287 \nQ 2609 -91 1734 -91 \nQ 1441 -91 1130 -33 \nQ 819 25 488 141 \nL 488 750 \nQ 750 597 1062 519 \nQ 1375 441 1716 441 \nQ 2309 441 2620 675 \nQ 2931 909 2931 1356 \nQ 2931 1769 2642 2001 \nQ 2353 2234 1838 2234 \nL 1294 2234 \nL 1294 2753 \nL 1863 2753 \nQ 2328 2753 2575 2939 \nQ 2822 3125 2822 3475 \nQ 2822 3834 2567 4026 \nQ 2313 4219 1838 4219 \nQ 1578 4219 1281 4162 \nQ 984 4106 628 3988 \nL 628 4550 \nQ 988 4650 1302 4700 \nQ 1616 4750 1894 4750 \nQ 2613 4750 3031 4423 \nQ 3450 4097 3450 3541 \nQ 3450 3153 3228 2886 \nQ 3006 2619 2597 2516 \nz\n\" transform=\"scale(0.015625)\"/>\n       </defs>\n       <use xlink:href=\"#DejaVuSans-32\"/>\n       <use xlink:href=\"#DejaVuSans-30\" x=\"63.623047\"/>\n       <use xlink:href=\"#DejaVuSans-32\" x=\"127.246094\"/>\n       <use xlink:href=\"#DejaVuSans-30\" x=\"190.869141\"/>\n       <use xlink:href=\"#DejaVuSans-2d\" x=\"254.492188\"/>\n       <use xlink:href=\"#DejaVuSans-30\" x=\"290.576172\"/>\n       <use xlink:href=\"#DejaVuSans-33\" x=\"354.199219\"/>\n      </g>\n     </g>\n    </g>\n    <g id=\"xtick_3\">\n     <g id=\"line2d_3\">\n      <g>\n       <use xlink:href=\"#m7e0f78fec7\" x=\"159.898062\" y=\"218.158125\" style=\"stroke: #000000; stroke-width: 0.8\"/>\n      </g>\n     </g>\n     <g id=\"text_3\">\n      <!-- 2020-05 -->\n      <g transform=\"translate(122.673241 252.629971)rotate(-30)scale(0.1 -0.1)\">\n       <defs>\n        <path id=\"DejaVuSans-35\" d=\"M 691 4666 \nL 3169 4666 \nL 3169 4134 \nL 1269 4134 \nL 1269 2991 \nQ 1406 3038 1543 3061 \nQ 1681 3084 1819 3084 \nQ 2600 3084 3056 2656 \nQ 3513 2228 3513 1497 \nQ 3513 744 3044 326 \nQ 2575 -91 1722 -91 \nQ 1428 -91 1123 -41 \nQ 819 9 494 109 \nL 494 744 \nQ 775 591 1075 516 \nQ 1375 441 1709 441 \nQ 2250 441 2565 725 \nQ 2881 1009 2881 1497 \nQ 2881 1984 2565 2268 \nQ 2250 2553 1709 2553 \nQ 1456 2553 1204 2497 \nQ 953 2441 691 2322 \nL 691 4666 \nz\n\" transform=\"scale(0.015625)\"/>\n       </defs>\n       <use xlink:href=\"#DejaVuSans-32\"/>\n       <use xlink:href=\"#DejaVuSans-30\" x=\"63.623047\"/>\n       <use xlink:href=\"#DejaVuSans-32\" x=\"127.246094\"/>\n       <use xlink:href=\"#DejaVuSans-30\" x=\"190.869141\"/>\n       <use xlink:href=\"#DejaVuSans-2d\" x=\"254.492188\"/>\n       <use xlink:href=\"#DejaVuSans-30\" x=\"290.576172\"/>\n       <use xlink:href=\"#DejaVuSans-35\" x=\"354.199219\"/>\n      </g>\n     </g>\n    </g>\n    <g id=\"xtick_4\">\n     <g id=\"line2d_4\">\n      <g>\n       <use xlink:href=\"#m7e0f78fec7\" x=\"210.764314\" y=\"218.158125\" style=\"stroke: #000000; stroke-width: 0.8\"/>\n      </g>\n     </g>\n     <g id=\"text_4\">\n      <!-- 2020-07 -->\n      <g transform=\"translate(173.539493 252.629971)rotate(-30)scale(0.1 -0.1)\">\n       <defs>\n        <path id=\"DejaVuSans-37\" d=\"M 525 4666 \nL 3525 4666 \nL 3525 4397 \nL 1831 0 \nL 1172 0 \nL 2766 4134 \nL 525 4134 \nL 525 4666 \nz\n\" transform=\"scale(0.015625)\"/>\n       </defs>\n       <use xlink:href=\"#DejaVuSans-32\"/>\n       <use xlink:href=\"#DejaVuSans-30\" x=\"63.623047\"/>\n       <use xlink:href=\"#DejaVuSans-32\" x=\"127.246094\"/>\n       <use xlink:href=\"#DejaVuSans-30\" x=\"190.869141\"/>\n       <use xlink:href=\"#DejaVuSans-2d\" x=\"254.492188\"/>\n       <use xlink:href=\"#DejaVuSans-30\" x=\"290.576172\"/>\n       <use xlink:href=\"#DejaVuSans-37\" x=\"354.199219\"/>\n      </g>\n     </g>\n    </g>\n    <g id=\"xtick_5\">\n     <g id=\"line2d_5\">\n      <g>\n       <use xlink:href=\"#m7e0f78fec7\" x=\"262.464438\" y=\"218.158125\" style=\"stroke: #000000; stroke-width: 0.8\"/>\n      </g>\n     </g>\n     <g id=\"text_5\">\n      <!-- 2020-09 -->\n      <g transform=\"translate(225.239617 252.629971)rotate(-30)scale(0.1 -0.1)\">\n       <defs>\n        <path id=\"DejaVuSans-39\" d=\"M 703 97 \nL 703 672 \nQ 941 559 1184 500 \nQ 1428 441 1663 441 \nQ 2288 441 2617 861 \nQ 2947 1281 2994 2138 \nQ 2813 1869 2534 1725 \nQ 2256 1581 1919 1581 \nQ 1219 1581 811 2004 \nQ 403 2428 403 3163 \nQ 403 3881 828 4315 \nQ 1253 4750 1959 4750 \nQ 2769 4750 3195 4129 \nQ 3622 3509 3622 2328 \nQ 3622 1225 3098 567 \nQ 2575 -91 1691 -91 \nQ 1453 -91 1209 -44 \nQ 966 3 703 97 \nz\nM 1959 2075 \nQ 2384 2075 2632 2365 \nQ 2881 2656 2881 3163 \nQ 2881 3666 2632 3958 \nQ 2384 4250 1959 4250 \nQ 1534 4250 1286 3958 \nQ 1038 3666 1038 3163 \nQ 1038 2656 1286 2365 \nQ 1534 2075 1959 2075 \nz\n\" transform=\"scale(0.015625)\"/>\n       </defs>\n       <use xlink:href=\"#DejaVuSans-32\"/>\n       <use xlink:href=\"#DejaVuSans-30\" x=\"63.623047\"/>\n       <use xlink:href=\"#DejaVuSans-32\" x=\"127.246094\"/>\n       <use xlink:href=\"#DejaVuSans-30\" x=\"190.869141\"/>\n       <use xlink:href=\"#DejaVuSans-2d\" x=\"254.492188\"/>\n       <use xlink:href=\"#DejaVuSans-30\" x=\"290.576172\"/>\n       <use xlink:href=\"#DejaVuSans-39\" x=\"354.199219\"/>\n      </g>\n     </g>\n    </g>\n    <g id=\"xtick_6\">\n     <g id=\"line2d_6\">\n      <g>\n       <use xlink:href=\"#m7e0f78fec7\" x=\"313.33069\" y=\"218.158125\" style=\"stroke: #000000; stroke-width: 0.8\"/>\n      </g>\n     </g>\n     <g id=\"text_6\">\n      <!-- 2020-11 -->\n      <g transform=\"translate(276.105869 252.629971)rotate(-30)scale(0.1 -0.1)\">\n       <use xlink:href=\"#DejaVuSans-32\"/>\n       <use xlink:href=\"#DejaVuSans-30\" x=\"63.623047\"/>\n       <use xlink:href=\"#DejaVuSans-32\" x=\"127.246094\"/>\n       <use xlink:href=\"#DejaVuSans-30\" x=\"190.869141\"/>\n       <use xlink:href=\"#DejaVuSans-2d\" x=\"254.492188\"/>\n       <use xlink:href=\"#DejaVuSans-31\" x=\"290.576172\"/>\n       <use xlink:href=\"#DejaVuSans-31\" x=\"354.199219\"/>\n      </g>\n     </g>\n    </g>\n    <g id=\"xtick_7\">\n     <g id=\"line2d_7\">\n      <g>\n       <use xlink:href=\"#m7e0f78fec7\" x=\"364.196941\" y=\"218.158125\" style=\"stroke: #000000; stroke-width: 0.8\"/>\n      </g>\n     </g>\n     <g id=\"text_7\">\n      <!-- 2021-01 -->\n      <g transform=\"translate(326.97212 252.629971)rotate(-30)scale(0.1 -0.1)\">\n       <use xlink:href=\"#DejaVuSans-32\"/>\n       <use xlink:href=\"#DejaVuSans-30\" x=\"63.623047\"/>\n       <use xlink:href=\"#DejaVuSans-32\" x=\"127.246094\"/>\n       <use xlink:href=\"#DejaVuSans-31\" x=\"190.869141\"/>\n       <use xlink:href=\"#DejaVuSans-2d\" x=\"254.492188\"/>\n       <use xlink:href=\"#DejaVuSans-30\" x=\"290.576172\"/>\n       <use xlink:href=\"#DejaVuSans-31\" x=\"354.199219\"/>\n      </g>\n     </g>\n    </g>\n    <g id=\"text_8\">\n     <!-- date -->\n     <g transform=\"translate(199.90625 266.029471)scale(0.1 -0.1)\">\n      <defs>\n       <path id=\"DejaVuSans-64\" d=\"M 2906 2969 \nL 2906 4863 \nL 3481 4863 \nL 3481 0 \nL 2906 0 \nL 2906 525 \nQ 2725 213 2448 61 \nQ 2172 -91 1784 -91 \nQ 1150 -91 751 415 \nQ 353 922 353 1747 \nQ 353 2572 751 3078 \nQ 1150 3584 1784 3584 \nQ 2172 3584 2448 3432 \nQ 2725 3281 2906 2969 \nz\nM 947 1747 \nQ 947 1113 1208 752 \nQ 1469 391 1925 391 \nQ 2381 391 2643 752 \nQ 2906 1113 2906 1747 \nQ 2906 2381 2643 2742 \nQ 2381 3103 1925 3103 \nQ 1469 3103 1208 2742 \nQ 947 2381 947 1747 \nz\n\" transform=\"scale(0.015625)\"/>\n       <path id=\"DejaVuSans-61\" d=\"M 2194 1759 \nQ 1497 1759 1228 1600 \nQ 959 1441 959 1056 \nQ 959 750 1161 570 \nQ 1363 391 1709 391 \nQ 2188 391 2477 730 \nQ 2766 1069 2766 1631 \nL 2766 1759 \nL 2194 1759 \nz\nM 3341 1997 \nL 3341 0 \nL 2766 0 \nL 2766 531 \nQ 2569 213 2275 61 \nQ 1981 -91 1556 -91 \nQ 1019 -91 701 211 \nQ 384 513 384 1019 \nQ 384 1609 779 1909 \nQ 1175 2209 1959 2209 \nL 2766 2209 \nL 2766 2266 \nQ 2766 2663 2505 2880 \nQ 2244 3097 1772 3097 \nQ 1472 3097 1187 3025 \nQ 903 2953 641 2809 \nL 641 3341 \nQ 956 3463 1253 3523 \nQ 1550 3584 1831 3584 \nQ 2591 3584 2966 3190 \nQ 3341 2797 3341 1997 \nz\n\" transform=\"scale(0.015625)\"/>\n       <path id=\"DejaVuSans-74\" d=\"M 1172 4494 \nL 1172 3500 \nL 2356 3500 \nL 2356 3053 \nL 1172 3053 \nL 1172 1153 \nQ 1172 725 1289 603 \nQ 1406 481 1766 481 \nL 2356 481 \nL 2356 0 \nL 1766 0 \nQ 1100 0 847 248 \nQ 594 497 594 1153 \nL 594 3053 \nL 172 3053 \nL 172 3500 \nL 594 3500 \nL 594 4494 \nL 1172 4494 \nz\n\" transform=\"scale(0.015625)\"/>\n       <path id=\"DejaVuSans-65\" d=\"M 3597 1894 \nL 3597 1613 \nL 953 1613 \nQ 991 1019 1311 708 \nQ 1631 397 2203 397 \nQ 2534 397 2845 478 \nQ 3156 559 3463 722 \nL 3463 178 \nQ 3153 47 2828 -22 \nQ 2503 -91 2169 -91 \nQ 1331 -91 842 396 \nQ 353 884 353 1716 \nQ 353 2575 817 3079 \nQ 1281 3584 2069 3584 \nQ 2775 3584 3186 3129 \nQ 3597 2675 3597 1894 \nz\nM 3022 2063 \nQ 3016 2534 2758 2815 \nQ 2500 3097 2075 3097 \nQ 1594 3097 1305 2825 \nQ 1016 2553 972 2059 \nL 3022 2063 \nz\n\" transform=\"scale(0.015625)\"/>\n      </defs>\n      <use xlink:href=\"#DejaVuSans-64\"/>\n      <use xlink:href=\"#DejaVuSans-61\" x=\"63.476562\"/>\n      <use xlink:href=\"#DejaVuSans-74\" x=\"124.755859\"/>\n      <use xlink:href=\"#DejaVuSans-65\" x=\"163.964844\"/>\n     </g>\n    </g>\n   </g>\n   <g id=\"matplotlib.axis_2\">\n    <g id=\"ytick_1\">\n     <g id=\"line2d_8\">\n      <defs>\n       <path id=\"m86052eea07\" d=\"M 0 0 \nL -3.5 0 \n\" style=\"stroke: #000000; stroke-width: 0.8\"/>\n      </defs>\n      <g>\n       <use xlink:href=\"#m86052eea07\" x=\"43.78125\" y=\"215.69593\" style=\"stroke: #000000; stroke-width: 0.8\"/>\n      </g>\n     </g>\n     <g id=\"text_9\">\n      <!-- 0.0 -->\n      <g transform=\"translate(20.878125 219.495148)scale(0.1 -0.1)\">\n       <defs>\n        <path id=\"DejaVuSans-2e\" d=\"M 684 794 \nL 1344 794 \nL 1344 0 \nL 684 0 \nL 684 794 \nz\n\" transform=\"scale(0.015625)\"/>\n       </defs>\n       <use xlink:href=\"#DejaVuSans-30\"/>\n       <use xlink:href=\"#DejaVuSans-2e\" x=\"63.623047\"/>\n       <use xlink:href=\"#DejaVuSans-30\" x=\"95.410156\"/>\n      </g>\n     </g>\n    </g>\n    <g id=\"ytick_2\">\n     <g id=\"line2d_9\">\n      <g>\n       <use xlink:href=\"#m86052eea07\" x=\"43.78125\" y=\"178.912378\" style=\"stroke: #000000; stroke-width: 0.8\"/>\n      </g>\n     </g>\n     <g id=\"text_10\">\n      <!-- 0.5 -->\n      <g transform=\"translate(20.878125 182.711597)scale(0.1 -0.1)\">\n       <use xlink:href=\"#DejaVuSans-30\"/>\n       <use xlink:href=\"#DejaVuSans-2e\" x=\"63.623047\"/>\n       <use xlink:href=\"#DejaVuSans-35\" x=\"95.410156\"/>\n      </g>\n     </g>\n    </g>\n    <g id=\"ytick_3\">\n     <g id=\"line2d_10\">\n      <g>\n       <use xlink:href=\"#m86052eea07\" x=\"43.78125\" y=\"142.128826\" style=\"stroke: #000000; stroke-width: 0.8\"/>\n      </g>\n     </g>\n     <g id=\"text_11\">\n      <!-- 1.0 -->\n      <g transform=\"translate(20.878125 145.928045)scale(0.1 -0.1)\">\n       <use xlink:href=\"#DejaVuSans-31\"/>\n       <use xlink:href=\"#DejaVuSans-2e\" x=\"63.623047\"/>\n       <use xlink:href=\"#DejaVuSans-30\" x=\"95.410156\"/>\n      </g>\n     </g>\n    </g>\n    <g id=\"ytick_4\">\n     <g id=\"line2d_11\">\n      <g>\n       <use xlink:href=\"#m86052eea07\" x=\"43.78125\" y=\"105.345274\" style=\"stroke: #000000; stroke-width: 0.8\"/>\n      </g>\n     </g>\n     <g id=\"text_12\">\n      <!-- 1.5 -->\n      <g transform=\"translate(20.878125 109.144493)scale(0.1 -0.1)\">\n       <use xlink:href=\"#DejaVuSans-31\"/>\n       <use xlink:href=\"#DejaVuSans-2e\" x=\"63.623047\"/>\n       <use xlink:href=\"#DejaVuSans-35\" x=\"95.410156\"/>\n      </g>\n     </g>\n    </g>\n    <g id=\"ytick_5\">\n     <g id=\"line2d_12\">\n      <g>\n       <use xlink:href=\"#m86052eea07\" x=\"43.78125\" y=\"68.561722\" style=\"stroke: #000000; stroke-width: 0.8\"/>\n      </g>\n     </g>\n     <g id=\"text_13\">\n      <!-- 2.0 -->\n      <g transform=\"translate(20.878125 72.360941)scale(0.1 -0.1)\">\n       <use xlink:href=\"#DejaVuSans-32\"/>\n       <use xlink:href=\"#DejaVuSans-2e\" x=\"63.623047\"/>\n       <use xlink:href=\"#DejaVuSans-30\" x=\"95.410156\"/>\n      </g>\n     </g>\n    </g>\n    <g id=\"ytick_6\">\n     <g id=\"line2d_13\">\n      <g>\n       <use xlink:href=\"#m86052eea07\" x=\"43.78125\" y=\"31.77817\" style=\"stroke: #000000; stroke-width: 0.8\"/>\n      </g>\n     </g>\n     <g id=\"text_14\">\n      <!-- 2.5 -->\n      <g transform=\"translate(20.878125 35.577389)scale(0.1 -0.1)\">\n       <use xlink:href=\"#DejaVuSans-32\"/>\n       <use xlink:href=\"#DejaVuSans-2e\" x=\"63.623047\"/>\n       <use xlink:href=\"#DejaVuSans-35\" x=\"95.410156\"/>\n      </g>\n     </g>\n    </g>\n    <g id=\"text_15\">\n     <!-- travelers -->\n     <g transform=\"translate(14.798438 142.479531)rotate(-90)scale(0.1 -0.1)\">\n      <defs>\n       <path id=\"DejaVuSans-72\" d=\"M 2631 2963 \nQ 2534 3019 2420 3045 \nQ 2306 3072 2169 3072 \nQ 1681 3072 1420 2755 \nQ 1159 2438 1159 1844 \nL 1159 0 \nL 581 0 \nL 581 3500 \nL 1159 3500 \nL 1159 2956 \nQ 1341 3275 1631 3429 \nQ 1922 3584 2338 3584 \nQ 2397 3584 2469 3576 \nQ 2541 3569 2628 3553 \nL 2631 2963 \nz\n\" transform=\"scale(0.015625)\"/>\n       <path id=\"DejaVuSans-76\" d=\"M 191 3500 \nL 800 3500 \nL 1894 563 \nL 2988 3500 \nL 3597 3500 \nL 2284 0 \nL 1503 0 \nL 191 3500 \nz\n\" transform=\"scale(0.015625)\"/>\n       <path id=\"DejaVuSans-6c\" d=\"M 603 4863 \nL 1178 4863 \nL 1178 0 \nL 603 0 \nL 603 4863 \nz\n\" transform=\"scale(0.015625)\"/>\n       <path id=\"DejaVuSans-73\" d=\"M 2834 3397 \nL 2834 2853 \nQ 2591 2978 2328 3040 \nQ 2066 3103 1784 3103 \nQ 1356 3103 1142 2972 \nQ 928 2841 928 2578 \nQ 928 2378 1081 2264 \nQ 1234 2150 1697 2047 \nL 1894 2003 \nQ 2506 1872 2764 1633 \nQ 3022 1394 3022 966 \nQ 3022 478 2636 193 \nQ 2250 -91 1575 -91 \nQ 1294 -91 989 -36 \nQ 684 19 347 128 \nL 347 722 \nQ 666 556 975 473 \nQ 1284 391 1588 391 \nQ 1994 391 2212 530 \nQ 2431 669 2431 922 \nQ 2431 1156 2273 1281 \nQ 2116 1406 1581 1522 \nL 1381 1569 \nQ 847 1681 609 1914 \nQ 372 2147 372 2553 \nQ 372 3047 722 3315 \nQ 1072 3584 1716 3584 \nQ 2034 3584 2315 3537 \nQ 2597 3491 2834 3397 \nz\n\" transform=\"scale(0.015625)\"/>\n      </defs>\n      <use xlink:href=\"#DejaVuSans-74\"/>\n      <use xlink:href=\"#DejaVuSans-72\" x=\"39.208984\"/>\n      <use xlink:href=\"#DejaVuSans-61\" x=\"80.322266\"/>\n      <use xlink:href=\"#DejaVuSans-76\" x=\"141.601562\"/>\n      <use xlink:href=\"#DejaVuSans-65\" x=\"200.78125\"/>\n      <use xlink:href=\"#DejaVuSans-6c\" x=\"262.304688\"/>\n      <use xlink:href=\"#DejaVuSans-65\" x=\"290.087891\"/>\n      <use xlink:href=\"#DejaVuSans-72\" x=\"351.611328\"/>\n      <use xlink:href=\"#DejaVuSans-73\" x=\"392.724609\"/>\n     </g>\n    </g>\n    <g id=\"text_16\">\n     <!-- 1e6 -->\n     <g transform=\"translate(43.78125 19.318125)scale(0.1 -0.1)\">\n      <defs>\n       <path id=\"DejaVuSans-36\" d=\"M 2113 2584 \nQ 1688 2584 1439 2293 \nQ 1191 2003 1191 1497 \nQ 1191 994 1439 701 \nQ 1688 409 2113 409 \nQ 2538 409 2786 701 \nQ 3034 994 3034 1497 \nQ 3034 2003 2786 2293 \nQ 2538 2584 2113 2584 \nz\nM 3366 4563 \nL 3366 3988 \nQ 3128 4100 2886 4159 \nQ 2644 4219 2406 4219 \nQ 1781 4219 1451 3797 \nQ 1122 3375 1075 2522 \nQ 1259 2794 1537 2939 \nQ 1816 3084 2150 3084 \nQ 2853 3084 3261 2657 \nQ 3669 2231 3669 1497 \nQ 3669 778 3244 343 \nQ 2819 -91 2113 -91 \nQ 1303 -91 875 529 \nQ 447 1150 447 2328 \nQ 447 3434 972 4092 \nQ 1497 4750 2381 4750 \nQ 2619 4750 2861 4703 \nQ 3103 4656 3366 4563 \nz\n\" transform=\"scale(0.015625)\"/>\n      </defs>\n      <use xlink:href=\"#DejaVuSans-31\"/>\n      <use xlink:href=\"#DejaVuSans-65\" x=\"63.623047\"/>\n      <use xlink:href=\"#DejaVuSans-36\" x=\"125.146484\"/>\n     </g>\n    </g>\n   </g>\n   <g id=\"line2d_14\">\n    <path d=\"M 58.999432 45.628502 \nL 59.833305 55.418518 \nL 60.667178 37.496394 \nL 61.501051 53.072757 \nL 62.334924 82.798428 \nL 63.168797 82.168694 \nL 64.00267 66.025717 \nL 64.836543 63.224944 \nL 65.670416 91.516571 \nL 66.504289 55.044944 \nL 67.338162 69.116933 \nL 68.172035 91.278876 \nL 69.005908 77.626514 \nL 69.839781 50.710223 \nL 70.673653 43.02842 \nL 71.507526 84.607223 \nL 72.341399 68.542595 \nL 73.175272 46.593408 \nL 74.009145 78.091678 \nL 74.843018 83.168912 \nL 75.676891 61.175511 \nL 76.510764 57.889857 \nL 77.344637 94.663625 \nL 78.17851 58.513633 \nL 79.012383 68.222651 \nL 79.846256 94.793177 \nL 80.680129 84.954606 \nL 81.514002 62.274089 \nL 82.347875 56.861095 \nL 83.181748 93.656491 \nL 84.015621 72.377059 \nL 84.849494 64.535762 \nL 85.683367 92.26519 \nL 86.51724 80.047239 \nL 87.351113 56.212969 \nL 88.184986 48.584502 \nL 89.018859 85.464426 \nL 89.852732 52.021925 \nL 90.686605 56.426755 \nL 91.520478 82.241746 \nL 92.354351 65.738585 \nL 93.188224 38.017764 \nL 94.022097 31.219943 \nL 94.85597 70.603356 \nL 95.689843 53.947102 \nL 96.523716 32.151744 \nL 97.357589 54.561902 \nL 98.191462 59.008151 \nL 99.025335 42.187106 \nL 99.859208 36.96546 \nL 100.693081 72.127152 \nL 101.526954 40.579812 \nL 102.360827 48.891203 \nL 103.1947 74.461583 \nL 104.028573 63.003433 \nL 104.862446 41.729813 \nL 105.696318 36.071326 \nL 106.530191 72.262442 \nL 107.364064 42.5815 \nL 109.03181 61.967093 \nL 109.865683 87.954526 \nL 110.699556 77.580976 \nL 111.533429 58.996895 \nL 112.367302 53.957401 \nL 113.201175 79.978527 \nL 114.035048 59.743454 \nL 114.868921 75.229624 \nL 115.702794 96.721738 \nL 117.37054 84.124402 \nL 118.204413 89.574547 \nL 119.038286 106.408098 \nL 119.872159 103.933374 \nL 120.706032 123.161535 \nL 121.539905 145.535056 \nL 123.207651 170.019366 \nL 124.041524 172.058351 \nL 124.875397 175.371446 \nL 125.70927 182.258504 \nL 126.543143 191.313511 \nL 127.377016 195.169384 \nL 129.044762 200.698687 \nL 129.878635 201.008699 \nL 130.712508 202.157596 \nL 131.546381 202.453704 \nL 132.380254 204.36071 \nL 133.214127 204.929531 \nL 134.881873 206.572064 \nL 135.715746 206.149642 \nL 136.549619 206.992794 \nL 137.383492 206.71861 \nL 138.217365 207.727877 \nL 139.051238 208.550357 \nL 139.885111 208.712131 \nL 140.718983 208.03833 \nL 141.552856 207.678807 \nL 142.386729 208.806738 \nL 143.220602 209.037371 \nL 144.054475 208.178549 \nL 144.888348 209.256307 \nL 146.556094 208.700802 \nL 147.389967 207.869493 \nL 148.22384 208.542559 \nL 149.057713 207.943281 \nL 150.725459 208.864562 \nL 151.559332 208.415141 \nL 153.227078 206.613041 \nL 154.060951 207.275513 \nL 154.894824 206.214969 \nL 156.56257 207.536382 \nL 157.396443 206.895171 \nL 158.230316 204.315467 \nL 159.064189 203.074537 \nL 159.898062 205.818737 \nL 160.731935 203.170836 \nL 161.565808 203.653583 \nL 162.399681 206.087992 \nL 163.233554 205.366446 \nL 164.067427 201.654692 \nL 164.9013 199.846339 \nL 165.735173 203.22042 \nL 166.569046 200.922552 \nL 167.402919 199.831552 \nL 168.236792 203.689411 \nL 169.070665 202.69905 \nL 169.904538 198.412957 \nL 170.738411 197.269798 \nL 171.572284 197.269798 \nL 172.406157 201.472466 \nL 173.24003 197.024084 \nL 174.073903 197.732609 \nL 174.907776 201.683088 \nL 175.741649 198.748497 \nL 176.575521 192.268559 \nL 177.409394 190.045067 \nL 178.243267 197.069475 \nL 179.07714 196.020334 \nL 179.911013 190.626541 \nL 180.744886 196.212197 \nL 181.578759 196.482409 \nL 182.412632 192.023801 \nL 183.246505 191.629702 \nL 184.080378 195.916163 \nL 184.914251 189.730641 \nL 185.748124 189.707541 \nL 186.581997 195.998926 \nL 187.41587 193.299455 \nL 188.249743 186.866306 \nL 189.083616 184.821655 \nL 189.917489 189.725565 \nL 190.751362 183.234077 \nL 191.585235 184.031618 \nL 192.419108 190.802146 \nL 193.252981 187.227741 \nL 194.086854 178.749868 \nL 194.920727 177.492238 \nL 195.7546 183.538351 \nL 196.588473 175.672041 \nL 197.422346 176.372253 \nL 198.256219 184.950471 \nL 199.090092 183.19185 \nL 199.923965 173.283464 \nL 200.757838 172.445241 \nL 201.591711 178.387918 \nL 202.425584 172.257792 \nL 203.259457 171.000971 \nL 204.09333 181.014852 \nL 204.927203 179.293014 \nL 205.761076 169.817718 \nL 206.594949 169.12913 \nL 207.428822 175.505485 \nL 208.262695 169.068364 \nL 209.096568 169.699202 \nL 209.930441 178.908405 \nL 211.598186 159.434678 \nL 212.432059 162.802065 \nL 213.265932 181.364443 \nL 214.099805 161.835761 \nL 214.933678 160.111937 \nL 215.767551 168.483432 \nL 216.601424 169.164884 \nL 217.435297 163.488814 \nL 218.26917 163.380597 \nL 219.103043 167.415017 \nL 219.936916 160.186239 \nL 220.770789 164.347195 \nL 221.604662 175.949978 \nL 222.438535 172.343939 \nL 223.272408 163.745489 \nL 224.106281 162.699807 \nL 224.940154 168.123468 \nL 225.774027 160.710258 \nL 226.6079 164.542515 \nL 227.441773 176.674393 \nL 228.275646 173.692718 \nL 229.109519 163.844731 \nL 229.943392 162.3767 \nL 230.777265 167.948893 \nL 231.611138 160.431954 \nL 232.445011 164.195794 \nL 233.278884 176.208345 \nL 234.112757 173.527266 \nL 234.94663 162.851943 \nL 235.780503 159.24642 \nL 236.614376 163.534425 \nL 237.448249 156.852473 \nL 238.282122 161.459686 \nL 239.115995 175.704779 \nL 239.949868 171.869137 \nL 240.783741 160.991505 \nL 241.617614 159.597555 \nL 242.451487 165.434002 \nL 243.28536 154.503622 \nL 244.119233 159.648022 \nL 244.953106 174.541021 \nL 245.786979 172.236237 \nL 246.620851 159.650965 \nL 247.454724 158.038154 \nL 248.288597 164.942353 \nL 249.12247 152.211271 \nL 249.956343 158.805091 \nL 250.790216 174.060922 \nL 251.624089 172.532786 \nL 252.457962 158.87417 \nL 253.291835 159.456233 \nL 254.125708 169.656018 \nL 254.959581 153.7667 \nL 255.793454 162.228241 \nL 256.627327 177.206651 \nL 257.4612 175.96653 \nL 258.295073 162.649634 \nL 259.128946 161.339183 \nL 259.962819 172.163773 \nL 260.796692 156.276148 \nL 261.630565 163.376624 \nL 262.464438 177.730302 \nL 263.298311 173.164506 \nL 264.132184 151.12623 \nL 264.966057 144.433463 \nL 265.79993 166.80029 \nL 266.633803 164.961848 \nL 267.467676 146.888029 \nL 268.301549 163.899171 \nL 269.135422 170.310691 \nL 269.969295 160.149014 \nL 270.803168 161.892408 \nL 271.637041 170.547577 \nL 272.470914 156.117611 \nL 273.304787 162.024461 \nL 274.13866 177.265725 \nL 274.972533 173.185399 \nL 275.806406 157.964439 \nL 276.640279 155.943698 \nL 277.474152 168.717816 \nL 278.308025 153.31338 \nL 279.141898 159.053968 \nL 279.975771 175.253077 \nL 280.809644 170.913721 \nL 281.643517 154.906255 \nL 282.477389 154.905298 \nL 283.311262 167.18946 \nL 284.145135 151.469053 \nL 284.979008 157.011525 \nL 285.812881 173.859201 \nL 286.646754 169.051002 \nL 287.480627 152.729257 \nL 288.3145 152.635238 \nL 289.148373 165.842373 \nL 289.982246 149.418517 \nL 290.816119 155.603524 \nL 291.649992 172.234986 \nL 292.483865 166.514923 \nL 293.317738 146.769807 \nL 294.151611 144.442879 \nL 294.985484 159.058971 \nL 295.819357 143.288685 \nL 296.65323 145.186275 \nL 297.487103 165.60453 \nL 298.320976 162.879163 \nL 299.154849 145.805416 \nL 299.988722 144.111754 \nL 300.822595 157.670392 \nL 301.656468 139.811094 \nL 302.490341 147.938347 \nL 303.324214 166.958901 \nL 304.158087 164.629325 \nL 304.99196 146.955858 \nL 305.825833 145.186495 \nL 306.659706 160.131653 \nL 307.493579 143.324659 \nL 308.327452 149.578599 \nL 309.161325 167.986412 \nL 309.995198 166.629835 \nL 310.829071 151.425059 \nL 311.662944 150.021693 \nL 312.496817 170.196442 \nL 313.33069 146.830352 \nL 314.164563 153.448008 \nL 314.998436 173.333858 \nL 315.832309 168.86804 \nL 316.666182 151.905526 \nL 317.500054 149.846677 \nL 318.333927 164.938233 \nL 319.1678 144.113666 \nL 320.001673 154.149691 \nL 320.835546 171.814991 \nL 321.669419 166.065134 \nL 322.503292 151.936866 \nL 323.337165 150.840716 \nL 324.171038 164.393174 \nL 325.004911 143.725453 \nL 325.838784 150.724627 \nL 326.672657 170.709866 \nL 327.50653 163.968324 \nL 328.340403 148.946142 \nL 329.174276 140.669549 \nL 330.008149 143.278753 \nL 330.842022 138.60246 \nL 331.675895 148.208853 \nL 332.509768 148.59611 \nL 333.343641 136.907989 \nL 334.177514 174.431994 \nL 335.011387 155.341551 \nL 335.84526 144.730894 \nL 336.679133 129.174321 \nL 338.346879 158.292769 \nL 339.180752 169.17533 \nL 340.014625 161.399729 \nL 340.848498 160.229938 \nL 341.682371 169.390588 \nL 342.516244 154.110185 \nL 343.350117 163.938088 \nL 344.18399 178.801071 \nL 345.017863 174.176716 \nL 345.851736 160.203748 \nL 346.685609 157.762645 \nL 347.519482 166.966552 \nL 348.353355 152.059355 \nL 349.187228 160.340289 \nL 350.021101 175.085123 \nL 350.854974 168.46835 \nL 352.522719 137.218442 \nL 353.356592 136.717009 \nL 354.190465 137.374993 \nL 355.024338 145.455383 \nL 355.858211 142.705077 \nL 356.692084 128.06846 \nL 357.525957 153.419905 \nL 358.35983 170.344091 \nL 359.193703 132.655369 \nL 360.027576 121.191702 \nL 360.861449 133.907629 \nL 361.695322 140.705523 \nL 362.529195 130.086185 \nL 363.363068 151.368413 \nL 363.363068 151.368413 \n\" clip-path=\"url(#paf7be73822)\" style=\"fill: none; stroke: #1f77b4; stroke-opacity: 0.8; stroke-width: 1.5; stroke-linecap: square\"/>\n   </g>\n   <g id=\"line2d_15\">\n    <path d=\"M 58.999432 45.628502 \nL 59.833305 50.52351 \nL 60.667178 46.181138 \nL 61.501051 47.904043 \nL 62.334924 54.88292 \nL 63.168797 59.430549 \nL 64.00267 60.372716 \nL 64.836543 62.886493 \nL 65.670416 68.043358 \nL 67.338162 72.842319 \nL 68.172035 74.053811 \nL 69.005908 73.404928 \nL 69.839781 71.217001 \nL 70.673653 68.331783 \nL 71.507526 67.344733 \nL 72.341399 69.272969 \nL 73.175272 66.055323 \nL 74.009145 64.171437 \nL 74.843018 64.963208 \nL 75.676891 66.45825 \nL 76.510764 68.581312 \nL 77.344637 70.017941 \nL 78.17851 68.585232 \nL 79.012383 71.675124 \nL 79.846256 74.061052 \nL 81.514002 74.473091 \nL 83.181748 74.182249 \nL 84.015621 76.162738 \nL 84.849494 75.63604 \nL 85.683367 75.274899 \nL 86.51724 74.573847 \nL 87.351113 73.707972 \nL 89.018859 71.355307 \nL 89.852732 68.44743 \nL 90.686605 67.289001 \nL 91.520478 65.85708 \nL 92.354351 63.812987 \nL 94.022097 58.733021 \nL 94.85597 56.610011 \nL 95.689843 56.885036 \nL 96.523716 53.417177 \nL 97.357589 49.462914 \nL 98.191462 48.501423 \nL 99.025335 49.097044 \nL 99.859208 49.917832 \nL 100.693081 50.135517 \nL 101.526954 48.225904 \nL 102.360827 50.617255 \nL 103.1947 53.460067 \nL 104.028573 54.030821 \nL 106.530191 53.857087 \nL 107.364064 54.143043 \nL 109.03181 52.935935 \nL 109.865683 57.09445 \nL 110.699556 63.069644 \nL 111.533429 66.890572 \nL 112.367302 63.839732 \nL 113.201175 70.07257 \nL 114.035048 68.596982 \nL 114.868921 70.491629 \nL 115.702794 71.744088 \nL 116.536667 73.58027 \nL 117.37054 77.169914 \nL 118.204413 82.258078 \nL 119.038286 86.033731 \nL 120.706032 99.193992 \nL 121.539905 106.167323 \nL 122.373778 115.86825 \nL 124.041524 139.922359 \nL 124.875397 149.774266 \nL 126.543143 170.699567 \nL 127.377016 177.790185 \nL 128.210889 183.469534 \nL 129.878635 191.988058 \nL 130.712508 195.814651 \nL 131.546381 198.69968 \nL 132.380254 200.563565 \nL 133.214127 201.957872 \nL 134.048 203.042577 \nL 135.715746 204.616051 \nL 137.383492 205.916066 \nL 139.885111 207.346211 \nL 142.386729 208.033264 \nL 143.220602 208.364516 \nL 148.22384 208.657471 \nL 149.057713 208.501172 \nL 150.725459 208.475056 \nL 152.393205 208.215196 \nL 155.728697 207.392243 \nL 157.396443 206.985364 \nL 159.064189 206.027236 \nL 159.898062 205.819126 \nL 161.565808 204.92353 \nL 163.233554 204.498228 \nL 166.569046 202.964575 \nL 167.402919 202.41857 \nL 169.070665 201.694859 \nL 170.738411 200.863677 \nL 171.572284 200.013588 \nL 172.406157 200.092147 \nL 173.24003 199.69108 \nL 174.073903 198.840109 \nL 174.907776 198.694971 \nL 175.741649 198.742906 \nL 176.575521 198.028443 \nL 177.409394 196.996338 \nL 178.243267 196.36734 \nL 179.07714 196.223947 \nL 179.911013 195.208794 \nL 180.744886 194.427239 \nL 181.578759 194.103512 \nL 182.412632 194.068546 \nL 183.246505 194.294923 \nL 184.080378 194.130164 \nL 184.914251 193.231637 \nL 186.581997 193.069883 \nL 187.41587 192.615176 \nL 188.249743 191.878391 \nL 190.751362 189.093361 \nL 193.252981 186.67273 \nL 194.920727 184.466179 \nL 195.7546 183.582291 \nL 197.422346 181.407806 \nL 198.256219 180.571852 \nL 199.090092 179.995296 \nL 201.591711 177.757605 \nL 202.425584 177.269856 \nL 203.259457 176.50253 \nL 205.761076 174.888215 \nL 208.262695 173.547076 \nL 209.096568 173.361109 \nL 209.930441 173.060188 \nL 211.598186 170.192889 \nL 212.432059 169.289023 \nL 213.265932 170.126017 \nL 214.099805 169.092788 \nL 215.767551 166.233897 \nL 216.601424 166.171028 \nL 217.435297 166.750191 \nL 218.26917 166.832838 \nL 219.103043 164.840063 \nL 219.936916 164.604417 \nL 220.770789 165.209454 \nL 221.604662 166.276103 \nL 222.438535 166.730254 \nL 223.272408 166.766922 \nL 224.106281 166.669666 \nL 229.109519 167.183984 \nL 234.94663 166.791556 \nL 235.780503 166.344373 \nL 237.448249 165.202381 \nL 238.282122 164.811508 \nL 239.115995 164.73957 \nL 240.783741 164.236918 \nL 241.617614 164.28708 \nL 242.451487 164.558448 \nL 244.119233 163.964089 \nL 244.953106 163.797838 \nL 245.786979 163.850281 \nL 249.956343 162.91787 \nL 252.457962 162.780678 \nL 253.291835 162.983261 \nL 254.125708 163.656641 \nL 254.959581 163.878846 \nL 258.295073 165.847144 \nL 259.962819 166.474388 \nL 260.796692 166.83288 \nL 262.464438 167.071742 \nL 263.298311 166.671453 \nL 264.132184 165.025252 \nL 264.966057 162.610149 \nL 265.79993 161.843937 \nL 266.633803 163.084752 \nL 267.467676 160.729238 \nL 268.301549 158.753362 \nL 269.135422 158.345675 \nL 269.969295 159.634644 \nL 270.803168 162.128779 \nL 271.637041 162.664106 \nL 272.470914 161.400643 \nL 274.13866 165.472498 \nL 274.972533 165.883171 \nL 275.806406 165.571089 \nL 276.640279 164.721273 \nL 277.474152 164.459879 \nL 279.975771 163.347397 \nL 282.477389 162.437645 \nL 284.145135 161.955833 \nL 285.812881 161.46493 \nL 292.483865 159.282688 \nL 293.317738 158.431338 \nL 294.151611 157.261001 \nL 295.819357 155.416253 \nL 296.65323 153.928075 \nL 297.487103 152.980867 \nL 298.320976 152.461473 \nL 300.822595 152.078031 \nL 301.656468 151.581232 \nL 302.490341 151.974385 \nL 305.825833 152.735773 \nL 306.659706 153.087382 \nL 307.493579 153.58932 \nL 309.995198 154.256216 \nL 311.662944 155.585416 \nL 312.496817 157.023243 \nL 314.164563 158.076829 \nL 314.998436 158.84075 \nL 315.832309 159.160493 \nL 317.500054 159.204129 \nL 318.333927 158.452956 \nL 319.1678 158.064858 \nL 320.001673 158.165099 \nL 320.835546 157.948118 \nL 321.669419 157.547703 \nL 322.503292 157.55218 \nL 323.337165 157.694185 \nL 325.004911 157.560861 \nL 325.838784 157.071566 \nL 326.672657 156.913691 \nL 327.50653 156.614147 \nL 328.340403 156.1869 \nL 329.174276 154.733877 \nL 330.008149 151.717531 \nL 330.842022 150.985675 \nL 331.675895 150.626278 \nL 332.509768 147.46717 \nL 333.343641 143.601408 \nL 334.177514 147.242244 \nL 335.011387 149.338244 \nL 335.84526 149.545693 \nL 336.679133 148.198816 \nL 337.513006 147.520338 \nL 338.346879 148.905575 \nL 339.180752 153.515195 \nL 340.014625 151.653443 \nL 340.848498 152.351784 \nL 342.516244 159.436864 \nL 344.18399 165.292133 \nL 345.017863 166.006616 \nL 345.851736 165.835762 \nL 349.187228 164.330054 \nL 350.021101 163.799204 \nL 350.854974 162.983723 \nL 351.688847 162.010252 \nL 352.522719 159.075366 \nL 353.356592 154.754002 \nL 355.024338 150.529821 \nL 355.858211 145.904101 \nL 356.692084 140.132688 \nL 357.525957 140.137039 \nL 358.35983 144.869274 \nL 359.193703 144.28904 \nL 360.027576 141.977141 \nL 360.861449 140.327462 \nL 361.695322 140.041811 \nL 362.529195 140.330058 \nL 363.363068 140.036987 \nL 363.363068 140.036987 \n\" clip-path=\"url(#paf7be73822)\" style=\"fill: none; stroke: #ff7f0e; stroke-opacity: 0.8; stroke-width: 1.5; stroke-linecap: square\"/>\n   </g>\n   <g id=\"line2d_16\">\n    <path d=\"M 58.999432 45.628502 \nL 59.833305 50.52351 \nL 60.667178 46.181138 \nL 61.501051 47.904043 \nL 62.334924 54.88292 \nL 63.168797 59.430549 \nL 64.00267 60.372716 \nL 64.836543 60.729244 \nL 65.670416 64.150058 \nL 66.504289 63.239547 \nL 67.338162 63.773855 \nL 68.172035 66.06594 \nL 69.005908 66.955215 \nL 69.839781 65.794858 \nL 70.673653 64.277096 \nL 71.507526 65.547729 \nL 72.341399 65.723897 \nL 73.175272 64.661092 \nL 74.009145 65.367965 \nL 74.843018 66.258013 \nL 75.676891 66.015989 \nL 76.510764 65.646619 \nL 77.344637 66.908228 \nL 78.17851 66.558453 \nL 79.012383 66.625021 \nL 79.846256 67.708412 \nL 80.680129 68.34716 \nL 81.514002 68.130264 \nL 82.347875 67.741672 \nL 83.181748 68.6055 \nL 84.015621 68.727163 \nL 84.849494 68.596182 \nL 85.683367 69.313424 \nL 86.51724 69.629125 \nL 87.351113 69.245806 \nL 88.184986 68.671881 \nL 89.018859 69.125733 \nL 89.852732 68.675633 \nL 90.686605 68.361559 \nL 91.520478 68.708564 \nL 92.354351 68.636125 \nL 94.022097 67.053927 \nL 94.85597 67.134596 \nL 95.689843 66.84154 \nL 96.523716 66.087414 \nL 98.191462 65.699815 \nL 99.859208 64.654874 \nL 100.693081 64.801389 \nL 101.526954 64.335589 \nL 102.360827 64.044186 \nL 103.1947 64.2371 \nL 104.028573 64.21467 \nL 105.696318 63.326456 \nL 106.530191 63.480525 \nL 107.364064 63.126304 \nL 109.03181 63.106984 \nL 109.865683 63.514321 \nL 110.699556 63.741202 \nL 112.367302 63.5142 \nL 113.201175 63.767498 \nL 114.035048 63.706527 \nL 114.868921 63.878514 \nL 116.536667 64.739368 \nL 118.204413 65.362188 \nL 119.872159 66.452834 \nL 120.706032 67.219167 \nL 122.373778 69.448608 \nL 126.543143 76.161918 \nL 131.546381 84.697697 \nL 134.881873 90.002758 \nL 138.217365 94.924631 \nL 141.552856 99.503228 \nL 144.888348 103.748529 \nL 148.22384 107.665688 \nL 152.393205 112.154669 \nL 156.56257 116.203773 \nL 159.898062 119.140044 \nL 164.067427 122.506975 \nL 169.904538 126.650385 \nL 175.741649 130.255011 \nL 182.412632 133.692229 \nL 188.249743 136.319991 \nL 194.086854 138.445625 \nL 202.425584 140.731296 \nL 213.265932 142.932034 \nL 220.770789 143.921856 \nL 223.272408 144.329338 \nL 227.441773 144.879356 \nL 229.943392 145.197776 \nL 236.614376 145.978822 \nL 239.115995 146.238454 \nL 241.617614 146.483855 \nL 248.288597 147.087923 \nL 249.956343 147.161463 \nL 252.457962 147.437254 \nL 256.627327 147.796442 \nL 258.295073 147.976456 \nL 262.464438 148.349422 \nL 264.132184 148.461584 \nL 265.79993 148.519288 \nL 271.637041 148.907577 \nL 274.13866 149.096279 \nL 275.806406 149.223038 \nL 279.141898 149.375071 \nL 281.643517 149.573377 \nL 285.812881 149.781346 \nL 287.480627 149.862432 \nL 290.816119 149.948943 \nL 292.483865 150.0877 \nL 297.487103 150.101074 \nL 299.154849 150.130527 \nL 302.490341 150.092888 \nL 304.99196 150.188703 \nL 308.327452 150.18023 \nL 310.829071 150.297782 \nL 314.164563 150.360871 \nL 316.666182 150.50011 \nL 320.001673 150.535407 \nL 322.503292 150.656327 \nL 326.672657 150.740789 \nL 328.340403 150.776185 \nL 333.343641 150.629092 \nL 335.011387 150.715241 \nL 339.180752 150.689219 \nL 353.356592 151.166671 \nL 357.525957 151.030332 \nL 359.193703 151.03294 \nL 361.695322 150.875105 \nL 363.363068 150.819501 \nL 363.363068 150.819501 \n\" clip-path=\"url(#paf7be73822)\" style=\"fill: none; stroke: #2ca02c; stroke-opacity: 0.8; stroke-width: 1.5; stroke-linecap: square\"/>\n   </g>\n   <g id=\"patch_3\">\n    <path d=\"M 43.78125 218.158125 \nL 43.78125 22.318125 \n\" style=\"fill: none; stroke: #000000; stroke-width: 0.8; stroke-linejoin: miter; stroke-linecap: square\"/>\n   </g>\n   <g id=\"patch_4\">\n    <path d=\"M 378.58125 218.158125 \nL 378.58125 22.318125 \n\" style=\"fill: none; stroke: #000000; stroke-width: 0.8; stroke-linejoin: miter; stroke-linecap: square\"/>\n   </g>\n   <g id=\"patch_5\">\n    <path d=\"M 43.78125 218.158125 \nL 378.58125 218.158125 \n\" style=\"fill: none; stroke: #000000; stroke-width: 0.8; stroke-linejoin: miter; stroke-linecap: square\"/>\n   </g>\n   <g id=\"patch_6\">\n    <path d=\"M 43.78125 22.318125 \nL 378.58125 22.318125 \n\" style=\"fill: none; stroke: #000000; stroke-width: 0.8; stroke-linejoin: miter; stroke-linecap: square\"/>\n   </g>\n   <g id=\"text_17\">\n    <!-- 2020 TSA Traveler Throughput -->\n    <g transform=\"translate(119.660625 16.318125)scale(0.12 -0.12)\">\n     <defs>\n      <path id=\"DejaVuSans-20\" transform=\"scale(0.015625)\"/>\n      <path id=\"DejaVuSans-54\" d=\"M -19 4666 \nL 3928 4666 \nL 3928 4134 \nL 2272 4134 \nL 2272 0 \nL 1638 0 \nL 1638 4134 \nL -19 4134 \nL -19 4666 \nz\n\" transform=\"scale(0.015625)\"/>\n      <path id=\"DejaVuSans-53\" d=\"M 3425 4513 \nL 3425 3897 \nQ 3066 4069 2747 4153 \nQ 2428 4238 2131 4238 \nQ 1616 4238 1336 4038 \nQ 1056 3838 1056 3469 \nQ 1056 3159 1242 3001 \nQ 1428 2844 1947 2747 \nL 2328 2669 \nQ 3034 2534 3370 2195 \nQ 3706 1856 3706 1288 \nQ 3706 609 3251 259 \nQ 2797 -91 1919 -91 \nQ 1588 -91 1214 -16 \nQ 841 59 441 206 \nL 441 856 \nQ 825 641 1194 531 \nQ 1563 422 1919 422 \nQ 2459 422 2753 634 \nQ 3047 847 3047 1241 \nQ 3047 1584 2836 1778 \nQ 2625 1972 2144 2069 \nL 1759 2144 \nQ 1053 2284 737 2584 \nQ 422 2884 422 3419 \nQ 422 4038 858 4394 \nQ 1294 4750 2059 4750 \nQ 2388 4750 2728 4690 \nQ 3069 4631 3425 4513 \nz\n\" transform=\"scale(0.015625)\"/>\n      <path id=\"DejaVuSans-41\" d=\"M 2188 4044 \nL 1331 1722 \nL 3047 1722 \nL 2188 4044 \nz\nM 1831 4666 \nL 2547 4666 \nL 4325 0 \nL 3669 0 \nL 3244 1197 \nL 1141 1197 \nL 716 0 \nL 50 0 \nL 1831 4666 \nz\n\" transform=\"scale(0.015625)\"/>\n      <path id=\"DejaVuSans-68\" d=\"M 3513 2113 \nL 3513 0 \nL 2938 0 \nL 2938 2094 \nQ 2938 2591 2744 2837 \nQ 2550 3084 2163 3084 \nQ 1697 3084 1428 2787 \nQ 1159 2491 1159 1978 \nL 1159 0 \nL 581 0 \nL 581 4863 \nL 1159 4863 \nL 1159 2956 \nQ 1366 3272 1645 3428 \nQ 1925 3584 2291 3584 \nQ 2894 3584 3203 3211 \nQ 3513 2838 3513 2113 \nz\n\" transform=\"scale(0.015625)\"/>\n      <path id=\"DejaVuSans-6f\" d=\"M 1959 3097 \nQ 1497 3097 1228 2736 \nQ 959 2375 959 1747 \nQ 959 1119 1226 758 \nQ 1494 397 1959 397 \nQ 2419 397 2687 759 \nQ 2956 1122 2956 1747 \nQ 2956 2369 2687 2733 \nQ 2419 3097 1959 3097 \nz\nM 1959 3584 \nQ 2709 3584 3137 3096 \nQ 3566 2609 3566 1747 \nQ 3566 888 3137 398 \nQ 2709 -91 1959 -91 \nQ 1206 -91 779 398 \nQ 353 888 353 1747 \nQ 353 2609 779 3096 \nQ 1206 3584 1959 3584 \nz\n\" transform=\"scale(0.015625)\"/>\n      <path id=\"DejaVuSans-75\" d=\"M 544 1381 \nL 544 3500 \nL 1119 3500 \nL 1119 1403 \nQ 1119 906 1312 657 \nQ 1506 409 1894 409 \nQ 2359 409 2629 706 \nQ 2900 1003 2900 1516 \nL 2900 3500 \nL 3475 3500 \nL 3475 0 \nL 2900 0 \nL 2900 538 \nQ 2691 219 2414 64 \nQ 2138 -91 1772 -91 \nQ 1169 -91 856 284 \nQ 544 659 544 1381 \nz\nM 1991 3584 \nL 1991 3584 \nz\n\" transform=\"scale(0.015625)\"/>\n      <path id=\"DejaVuSans-67\" d=\"M 2906 1791 \nQ 2906 2416 2648 2759 \nQ 2391 3103 1925 3103 \nQ 1463 3103 1205 2759 \nQ 947 2416 947 1791 \nQ 947 1169 1205 825 \nQ 1463 481 1925 481 \nQ 2391 481 2648 825 \nQ 2906 1169 2906 1791 \nz\nM 3481 434 \nQ 3481 -459 3084 -895 \nQ 2688 -1331 1869 -1331 \nQ 1566 -1331 1297 -1286 \nQ 1028 -1241 775 -1147 \nL 775 -588 \nQ 1028 -725 1275 -790 \nQ 1522 -856 1778 -856 \nQ 2344 -856 2625 -561 \nQ 2906 -266 2906 331 \nL 2906 616 \nQ 2728 306 2450 153 \nQ 2172 0 1784 0 \nQ 1141 0 747 490 \nQ 353 981 353 1791 \nQ 353 2603 747 3093 \nQ 1141 3584 1784 3584 \nQ 2172 3584 2450 3431 \nQ 2728 3278 2906 2969 \nL 2906 3500 \nL 3481 3500 \nL 3481 434 \nz\n\" transform=\"scale(0.015625)\"/>\n      <path id=\"DejaVuSans-70\" d=\"M 1159 525 \nL 1159 -1331 \nL 581 -1331 \nL 581 3500 \nL 1159 3500 \nL 1159 2969 \nQ 1341 3281 1617 3432 \nQ 1894 3584 2278 3584 \nQ 2916 3584 3314 3078 \nQ 3713 2572 3713 1747 \nQ 3713 922 3314 415 \nQ 2916 -91 2278 -91 \nQ 1894 -91 1617 61 \nQ 1341 213 1159 525 \nz\nM 3116 1747 \nQ 3116 2381 2855 2742 \nQ 2594 3103 2138 3103 \nQ 1681 3103 1420 2742 \nQ 1159 2381 1159 1747 \nQ 1159 1113 1420 752 \nQ 1681 391 2138 391 \nQ 2594 391 2855 752 \nQ 3116 1113 3116 1747 \nz\n\" transform=\"scale(0.015625)\"/>\n     </defs>\n     <use xlink:href=\"#DejaVuSans-32\"/>\n     <use xlink:href=\"#DejaVuSans-30\" x=\"63.623047\"/>\n     <use xlink:href=\"#DejaVuSans-32\" x=\"127.246094\"/>\n     <use xlink:href=\"#DejaVuSans-30\" x=\"190.869141\"/>\n     <use xlink:href=\"#DejaVuSans-20\" x=\"254.492188\"/>\n     <use xlink:href=\"#DejaVuSans-54\" x=\"286.279297\"/>\n     <use xlink:href=\"#DejaVuSans-53\" x=\"347.363281\"/>\n     <use xlink:href=\"#DejaVuSans-41\" x=\"412.714844\"/>\n     <use xlink:href=\"#DejaVuSans-20\" x=\"481.123047\"/>\n     <use xlink:href=\"#DejaVuSans-54\" x=\"512.910156\"/>\n     <use xlink:href=\"#DejaVuSans-72\" x=\"559.244141\"/>\n     <use xlink:href=\"#DejaVuSans-61\" x=\"600.357422\"/>\n     <use xlink:href=\"#DejaVuSans-76\" x=\"661.636719\"/>\n     <use xlink:href=\"#DejaVuSans-65\" x=\"720.816406\"/>\n     <use xlink:href=\"#DejaVuSans-6c\" x=\"782.339844\"/>\n     <use xlink:href=\"#DejaVuSans-65\" x=\"810.123047\"/>\n     <use xlink:href=\"#DejaVuSans-72\" x=\"871.646484\"/>\n     <use xlink:href=\"#DejaVuSans-20\" x=\"912.759766\"/>\n     <use xlink:href=\"#DejaVuSans-54\" x=\"944.546875\"/>\n     <use xlink:href=\"#DejaVuSans-68\" x=\"1005.630859\"/>\n     <use xlink:href=\"#DejaVuSans-72\" x=\"1069.009766\"/>\n     <use xlink:href=\"#DejaVuSans-6f\" x=\"1107.873047\"/>\n     <use xlink:href=\"#DejaVuSans-75\" x=\"1169.054688\"/>\n     <use xlink:href=\"#DejaVuSans-67\" x=\"1232.433594\"/>\n     <use xlink:href=\"#DejaVuSans-68\" x=\"1295.910156\"/>\n     <use xlink:href=\"#DejaVuSans-70\" x=\"1359.289062\"/>\n     <use xlink:href=\"#DejaVuSans-75\" x=\"1422.765625\"/>\n     <use xlink:href=\"#DejaVuSans-74\" x=\"1486.144531\"/>\n    </g>\n   </g>\n   <g id=\"legend_1\">\n    <g id=\"patch_7\">\n     <path d=\"M 288.128125 74.3525 \nL 371.58125 74.3525 \nQ 373.58125 74.3525 373.58125 72.3525 \nL 373.58125 29.318125 \nQ 373.58125 27.318125 371.58125 27.318125 \nL 288.128125 27.318125 \nQ 286.128125 27.318125 286.128125 29.318125 \nL 286.128125 72.3525 \nQ 286.128125 74.3525 288.128125 74.3525 \nz\n\" style=\"fill: #ffffff; opacity: 0.8; stroke: #cccccc; stroke-linejoin: miter\"/>\n    </g>\n    <g id=\"line2d_17\">\n     <path d=\"M 290.128125 35.416563 \nL 300.128125 35.416563 \nL 310.128125 35.416563 \n\" style=\"fill: none; stroke: #1f77b4; stroke-opacity: 0.8; stroke-width: 1.5; stroke-linecap: square\"/>\n    </g>\n    <g id=\"text_18\">\n     <!-- travelers -->\n     <g transform=\"translate(318.128125 38.916563)scale(0.1 -0.1)\">\n      <use xlink:href=\"#DejaVuSans-74\"/>\n      <use xlink:href=\"#DejaVuSans-72\" x=\"39.208984\"/>\n      <use xlink:href=\"#DejaVuSans-61\" x=\"80.322266\"/>\n      <use xlink:href=\"#DejaVuSans-76\" x=\"141.601562\"/>\n      <use xlink:href=\"#DejaVuSans-65\" x=\"200.78125\"/>\n      <use xlink:href=\"#DejaVuSans-6c\" x=\"262.304688\"/>\n      <use xlink:href=\"#DejaVuSans-65\" x=\"290.087891\"/>\n      <use xlink:href=\"#DejaVuSans-72\" x=\"351.611328\"/>\n      <use xlink:href=\"#DejaVuSans-73\" x=\"392.724609\"/>\n     </g>\n    </g>\n    <g id=\"line2d_18\">\n     <path d=\"M 290.128125 50.094688 \nL 300.128125 50.094688 \nL 310.128125 50.094688 \n\" style=\"fill: none; stroke: #ff7f0e; stroke-opacity: 0.8; stroke-width: 1.5; stroke-linecap: square\"/>\n    </g>\n    <g id=\"text_19\">\n     <!-- 7D MA -->\n     <g transform=\"translate(318.128125 53.594688)scale(0.1 -0.1)\">\n      <defs>\n       <path id=\"DejaVuSans-44\" d=\"M 1259 4147 \nL 1259 519 \nL 2022 519 \nQ 2988 519 3436 956 \nQ 3884 1394 3884 2338 \nQ 3884 3275 3436 3711 \nQ 2988 4147 2022 4147 \nL 1259 4147 \nz\nM 628 4666 \nL 1925 4666 \nQ 3281 4666 3915 4102 \nQ 4550 3538 4550 2338 \nQ 4550 1131 3912 565 \nQ 3275 0 1925 0 \nL 628 0 \nL 628 4666 \nz\n\" transform=\"scale(0.015625)\"/>\n       <path id=\"DejaVuSans-4d\" d=\"M 628 4666 \nL 1569 4666 \nL 2759 1491 \nL 3956 4666 \nL 4897 4666 \nL 4897 0 \nL 4281 0 \nL 4281 4097 \nL 3078 897 \nL 2444 897 \nL 1241 4097 \nL 1241 0 \nL 628 0 \nL 628 4666 \nz\n\" transform=\"scale(0.015625)\"/>\n      </defs>\n      <use xlink:href=\"#DejaVuSans-37\"/>\n      <use xlink:href=\"#DejaVuSans-44\" x=\"63.623047\"/>\n      <use xlink:href=\"#DejaVuSans-20\" x=\"140.625\"/>\n      <use xlink:href=\"#DejaVuSans-4d\" x=\"172.412109\"/>\n      <use xlink:href=\"#DejaVuSans-41\" x=\"258.691406\"/>\n     </g>\n    </g>\n    <g id=\"line2d_19\">\n     <path d=\"M 290.128125 64.772813 \nL 300.128125 64.772813 \nL 310.128125 64.772813 \n\" style=\"fill: none; stroke: #2ca02c; stroke-opacity: 0.8; stroke-width: 1.5; stroke-linecap: square\"/>\n    </g>\n    <g id=\"text_20\">\n     <!-- YTD mean -->\n     <g transform=\"translate(318.128125 68.272813)scale(0.1 -0.1)\">\n      <defs>\n       <path id=\"DejaVuSans-59\" d=\"M -13 4666 \nL 666 4666 \nL 1959 2747 \nL 3244 4666 \nL 3922 4666 \nL 2272 2222 \nL 2272 0 \nL 1638 0 \nL 1638 2222 \nL -13 4666 \nz\n\" transform=\"scale(0.015625)\"/>\n       <path id=\"DejaVuSans-6d\" d=\"M 3328 2828 \nQ 3544 3216 3844 3400 \nQ 4144 3584 4550 3584 \nQ 5097 3584 5394 3201 \nQ 5691 2819 5691 2113 \nL 5691 0 \nL 5113 0 \nL 5113 2094 \nQ 5113 2597 4934 2840 \nQ 4756 3084 4391 3084 \nQ 3944 3084 3684 2787 \nQ 3425 2491 3425 1978 \nL 3425 0 \nL 2847 0 \nL 2847 2094 \nQ 2847 2600 2669 2842 \nQ 2491 3084 2119 3084 \nQ 1678 3084 1418 2786 \nQ 1159 2488 1159 1978 \nL 1159 0 \nL 581 0 \nL 581 3500 \nL 1159 3500 \nL 1159 2956 \nQ 1356 3278 1631 3431 \nQ 1906 3584 2284 3584 \nQ 2666 3584 2933 3390 \nQ 3200 3197 3328 2828 \nz\n\" transform=\"scale(0.015625)\"/>\n       <path id=\"DejaVuSans-6e\" d=\"M 3513 2113 \nL 3513 0 \nL 2938 0 \nL 2938 2094 \nQ 2938 2591 2744 2837 \nQ 2550 3084 2163 3084 \nQ 1697 3084 1428 2787 \nQ 1159 2491 1159 1978 \nL 1159 0 \nL 581 0 \nL 581 3500 \nL 1159 3500 \nL 1159 2956 \nQ 1366 3272 1645 3428 \nQ 1925 3584 2291 3584 \nQ 2894 3584 3203 3211 \nQ 3513 2838 3513 2113 \nz\n\" transform=\"scale(0.015625)\"/>\n      </defs>\n      <use xlink:href=\"#DejaVuSans-59\"/>\n      <use xlink:href=\"#DejaVuSans-54\" x=\"61.083984\"/>\n      <use xlink:href=\"#DejaVuSans-44\" x=\"122.167969\"/>\n      <use xlink:href=\"#DejaVuSans-20\" x=\"199.169922\"/>\n      <use xlink:href=\"#DejaVuSans-6d\" x=\"230.957031\"/>\n      <use xlink:href=\"#DejaVuSans-65\" x=\"328.369141\"/>\n      <use xlink:href=\"#DejaVuSans-61\" x=\"389.892578\"/>\n      <use xlink:href=\"#DejaVuSans-6e\" x=\"451.171875\"/>\n     </g>\n    </g>\n   </g>\n  </g>\n </g>\n <defs>\n  <clipPath id=\"paf7be73822\">\n   <rect x=\"43.78125\" y=\"22.318125\" width=\"334.8\" height=\"195.84\"/>\n  </clipPath>\n </defs>\n</svg>\n",
      "text/plain": [
       "<Figure size 432x288 with 1 Axes>"
      ]
     },
     "metadata": {
      "needs_background": "light"
     },
     "output_type": "display_data"
    }
   ],
   "source": [
    "_ = tsa_melted_holiday_travel.loc['2020'].assign(\n",
    "    **{\n",
    "        '7D MA': lambda x: x.rolling('7D').travelers.mean(),\n",
    "        'YTD mean': lambda x: x.expanding().travelers.mean()\n",
    "      }\n",
    ").plot(title='2020 TSA Traveler Throughput', ylabel='travelers', alpha=0.8)"
   ]
  },
  {
   "cell_type": "markdown",
   "id": "4fe90855-8228-4cf6-9c8b-375b416071b7",
   "metadata": {
    "id": "4fe90855-8228-4cf6-9c8b-375b416071b7",
    "tags": []
   },
   "source": [
    "Outros tipos de janela:\n",
    "- [movimento exponencialmente ponderado](https://pandas.pydata.org/pandas-docs/stable/reference/api/pandas.DataFrame.ewm.html): use o método `ewm()`\n",
    "- [custom](https://pandas.pydata.org/docs/user_guide/window.html#window-custom-rolling-window): crie uma subclasse de `pandas.api.indexers.BaseIndexer` ou use a classe pré-contruída `pandas.api.indexers`"
   ]
  },
  {
   "cell_type": "markdown",
   "id": "94ab60e4-a8de-4453-8598-4112bb86f098",
   "metadata": {
    "id": "94ab60e4-a8de-4453-8598-4112bb86f098",
    "tags": []
   },
   "source": [
    "## Próxima seção: Data Visualization\n",
    "\n",
    "Vamos tirar um tempo para alguns exercícios para checar o seu entendimento:\n",
    "\n",
    "1. Leia os dados sobre meteoritos do dataset `Meteorite_Landings`.\n",
    "2. Renomeie a coluna `mass (g)` para `mass`, e descarte todas as colunas de latitude e longitude.\n",
    "3. Modifique a coluna `year` para apenas conter os anos, a converta para um tipo de dado numérico e crie uma nova coluna indicando se o ano é desconhecido. Dica: Use o comando `year.str.slice()` para pegar a substring.\n",
    "4. Existe um erro na entrada de dados na coluna `year`. Você consegue achá-lo? (Não gaste muito tempo com isso)\n",
    "5. Compare as estatísticas sumarizadas da coluna `mass` para os meteoritos que foram achados contra os que foram observados quando caíram.\n",
    "6. Crie uma tabela de pivoteamento que mostre tanto o número de meteoritos quanto o meteorito na posição 95 em relação ao percentual de massa para aqueles que foram achados contra os que foram observados caindo por ano a partir de 1990 até 2000 (inclusive).\n",
    "7. Usando o dataset `taxis` do início dessa seção, faça a reamostragem dos dados para uma frequência horária baseada no tempo de desembarque. Calcule os valores totais de `trip_distance`, `fare_amount`, `tolls_amount` e  `tip_amount`, e depois ache as 5 horas com os maiores valores de gorjetas."
   ]
  },
  {
   "cell_type": "markdown",
   "id": "32c26c12-3259-4894-975a-fe4f75e8ad7f",
   "metadata": {
    "id": "32c26c12-3259-4894-975a-fe4f75e8ad7f",
    "tags": []
   },
   "source": [
    "### Exercícios\n",
    "\n",
    "##### 1. Leia os dados sobre meteoritos do dataset `Meteorite_Landings`:"
   ]
  },
  {
   "cell_type": "code",
   "execution_count": 105,
   "id": "8e3977e4-f305-4dd6-935c-a5889b6cd113",
   "metadata": {
    "id": "8e3977e4-f305-4dd6-935c-a5889b6cd113"
   },
   "outputs": [],
   "source": [
    "# Url do Github para acessar o dataset: \n",
    "# https://raw.githubusercontent.com/stefmolin/pandas-workshop/main/data/Meteorite_Landings.csv\n",
    "import pandas as pd\n",
    "import numpy as np\n",
    "\n",
    "meteorites_df = pd.read_csv('https://raw.githubusercontent.com/stefmolin/pandas-workshop/main/data/Meteorite_Landings.csv')\n"
   ]
  },
  {
   "cell_type": "markdown",
   "id": "e6b796df-d65f-4896-8315-2cde02ca5cd1",
   "metadata": {
    "id": "e6b796df-d65f-4896-8315-2cde02ca5cd1",
    "tags": []
   },
   "source": [
    "##### 2. Renomeie a coluna `mass (g)` para `mass`, e descarte todas as colunas de latitude e longitude."
   ]
  },
  {
   "cell_type": "code",
   "execution_count": 107,
   "id": "7a495ff9-2d53-41a3-8ef9-85047513a140",
   "metadata": {
    "id": "7a495ff9-2d53-41a3-8ef9-85047513a140"
   },
   "outputs": [
    {
     "data": {
      "text/html": [
       "<div>\n",
       "<style scoped>\n",
       "    .dataframe tbody tr th:only-of-type {\n",
       "        vertical-align: middle;\n",
       "    }\n",
       "\n",
       "    .dataframe tbody tr th {\n",
       "        vertical-align: top;\n",
       "    }\n",
       "\n",
       "    .dataframe thead th {\n",
       "        text-align: right;\n",
       "    }\n",
       "</style>\n",
       "<table border=\"1\" class=\"dataframe\">\n",
       "  <thead>\n",
       "    <tr style=\"text-align: right;\">\n",
       "      <th></th>\n",
       "      <th>name</th>\n",
       "      <th>id</th>\n",
       "      <th>nametype</th>\n",
       "      <th>recclass</th>\n",
       "      <th>mass</th>\n",
       "      <th>fall</th>\n",
       "      <th>year</th>\n",
       "      <th>reclat</th>\n",
       "      <th>reclong</th>\n",
       "      <th>GeoLocation</th>\n",
       "    </tr>\n",
       "  </thead>\n",
       "  <tbody>\n",
       "    <tr>\n",
       "      <th>0</th>\n",
       "      <td>Aachen</td>\n",
       "      <td>1</td>\n",
       "      <td>Valid</td>\n",
       "      <td>L5</td>\n",
       "      <td>21.0</td>\n",
       "      <td>Fell</td>\n",
       "      <td>01/01/1880 12:00:00 AM</td>\n",
       "      <td>50.77500</td>\n",
       "      <td>6.08333</td>\n",
       "      <td>(50.775, 6.08333)</td>\n",
       "    </tr>\n",
       "    <tr>\n",
       "      <th>1</th>\n",
       "      <td>Aarhus</td>\n",
       "      <td>2</td>\n",
       "      <td>Valid</td>\n",
       "      <td>H6</td>\n",
       "      <td>720.0</td>\n",
       "      <td>Fell</td>\n",
       "      <td>01/01/1951 12:00:00 AM</td>\n",
       "      <td>56.18333</td>\n",
       "      <td>10.23333</td>\n",
       "      <td>(56.18333, 10.23333)</td>\n",
       "    </tr>\n",
       "    <tr>\n",
       "      <th>2</th>\n",
       "      <td>Abee</td>\n",
       "      <td>6</td>\n",
       "      <td>Valid</td>\n",
       "      <td>EH4</td>\n",
       "      <td>107000.0</td>\n",
       "      <td>Fell</td>\n",
       "      <td>01/01/1952 12:00:00 AM</td>\n",
       "      <td>54.21667</td>\n",
       "      <td>-113.00000</td>\n",
       "      <td>(54.21667, -113.0)</td>\n",
       "    </tr>\n",
       "    <tr>\n",
       "      <th>3</th>\n",
       "      <td>Acapulco</td>\n",
       "      <td>10</td>\n",
       "      <td>Valid</td>\n",
       "      <td>Acapulcoite</td>\n",
       "      <td>1914.0</td>\n",
       "      <td>Fell</td>\n",
       "      <td>01/01/1976 12:00:00 AM</td>\n",
       "      <td>16.88333</td>\n",
       "      <td>-99.90000</td>\n",
       "      <td>(16.88333, -99.9)</td>\n",
       "    </tr>\n",
       "    <tr>\n",
       "      <th>4</th>\n",
       "      <td>Achiras</td>\n",
       "      <td>370</td>\n",
       "      <td>Valid</td>\n",
       "      <td>L6</td>\n",
       "      <td>780.0</td>\n",
       "      <td>Fell</td>\n",
       "      <td>01/01/1902 12:00:00 AM</td>\n",
       "      <td>-33.16667</td>\n",
       "      <td>-64.95000</td>\n",
       "      <td>(-33.16667, -64.95)</td>\n",
       "    </tr>\n",
       "  </tbody>\n",
       "</table>\n",
       "</div>"
      ],
      "text/plain": [
       "       name   id nametype     recclass      mass  fall  \\\n",
       "0    Aachen    1    Valid           L5      21.0  Fell   \n",
       "1    Aarhus    2    Valid           H6     720.0  Fell   \n",
       "2      Abee    6    Valid          EH4  107000.0  Fell   \n",
       "3  Acapulco   10    Valid  Acapulcoite    1914.0  Fell   \n",
       "4   Achiras  370    Valid           L6     780.0  Fell   \n",
       "\n",
       "                     year    reclat    reclong           GeoLocation  \n",
       "0  01/01/1880 12:00:00 AM  50.77500    6.08333     (50.775, 6.08333)  \n",
       "1  01/01/1951 12:00:00 AM  56.18333   10.23333  (56.18333, 10.23333)  \n",
       "2  01/01/1952 12:00:00 AM  54.21667 -113.00000    (54.21667, -113.0)  \n",
       "3  01/01/1976 12:00:00 AM  16.88333  -99.90000     (16.88333, -99.9)  \n",
       "4  01/01/1902 12:00:00 AM -33.16667  -64.95000   (-33.16667, -64.95)  "
      ]
     },
     "execution_count": 107,
     "metadata": {},
     "output_type": "execute_result"
    }
   ],
   "source": [
    "meteorites_df.rename(columns={'mass (g)':'mass'}, inplace=True)\n",
    "meteorites_df.head()"
   ]
  },
  {
   "cell_type": "code",
   "execution_count": 93,
   "id": "23ebae04",
   "metadata": {},
   "outputs": [],
   "source": [
    "meteorites_df.drop(['reclat', 'reclong', 'GeoLocation'], axis=1, inplace=True)"
   ]
  },
  {
   "cell_type": "code",
   "execution_count": 94,
   "id": "b27a4678",
   "metadata": {},
   "outputs": [
    {
     "data": {
      "text/html": [
       "<div>\n",
       "<style scoped>\n",
       "    .dataframe tbody tr th:only-of-type {\n",
       "        vertical-align: middle;\n",
       "    }\n",
       "\n",
       "    .dataframe tbody tr th {\n",
       "        vertical-align: top;\n",
       "    }\n",
       "\n",
       "    .dataframe thead th {\n",
       "        text-align: right;\n",
       "    }\n",
       "</style>\n",
       "<table border=\"1\" class=\"dataframe\">\n",
       "  <thead>\n",
       "    <tr style=\"text-align: right;\">\n",
       "      <th></th>\n",
       "      <th>name</th>\n",
       "      <th>id</th>\n",
       "      <th>nametype</th>\n",
       "      <th>recclass</th>\n",
       "      <th>mass</th>\n",
       "      <th>fall</th>\n",
       "      <th>year</th>\n",
       "    </tr>\n",
       "  </thead>\n",
       "  <tbody>\n",
       "    <tr>\n",
       "      <th>0</th>\n",
       "      <td>Aachen</td>\n",
       "      <td>1</td>\n",
       "      <td>Valid</td>\n",
       "      <td>L5</td>\n",
       "      <td>21.0</td>\n",
       "      <td>Fell</td>\n",
       "      <td>01/01/1880 12:00:00 AM</td>\n",
       "    </tr>\n",
       "    <tr>\n",
       "      <th>1</th>\n",
       "      <td>Aarhus</td>\n",
       "      <td>2</td>\n",
       "      <td>Valid</td>\n",
       "      <td>H6</td>\n",
       "      <td>720.0</td>\n",
       "      <td>Fell</td>\n",
       "      <td>01/01/1951 12:00:00 AM</td>\n",
       "    </tr>\n",
       "    <tr>\n",
       "      <th>2</th>\n",
       "      <td>Abee</td>\n",
       "      <td>6</td>\n",
       "      <td>Valid</td>\n",
       "      <td>EH4</td>\n",
       "      <td>107000.0</td>\n",
       "      <td>Fell</td>\n",
       "      <td>01/01/1952 12:00:00 AM</td>\n",
       "    </tr>\n",
       "    <tr>\n",
       "      <th>3</th>\n",
       "      <td>Acapulco</td>\n",
       "      <td>10</td>\n",
       "      <td>Valid</td>\n",
       "      <td>Acapulcoite</td>\n",
       "      <td>1914.0</td>\n",
       "      <td>Fell</td>\n",
       "      <td>01/01/1976 12:00:00 AM</td>\n",
       "    </tr>\n",
       "    <tr>\n",
       "      <th>4</th>\n",
       "      <td>Achiras</td>\n",
       "      <td>370</td>\n",
       "      <td>Valid</td>\n",
       "      <td>L6</td>\n",
       "      <td>780.0</td>\n",
       "      <td>Fell</td>\n",
       "      <td>01/01/1902 12:00:00 AM</td>\n",
       "    </tr>\n",
       "    <tr>\n",
       "      <th>...</th>\n",
       "      <td>...</td>\n",
       "      <td>...</td>\n",
       "      <td>...</td>\n",
       "      <td>...</td>\n",
       "      <td>...</td>\n",
       "      <td>...</td>\n",
       "      <td>...</td>\n",
       "    </tr>\n",
       "    <tr>\n",
       "      <th>45711</th>\n",
       "      <td>Zillah 002</td>\n",
       "      <td>31356</td>\n",
       "      <td>Valid</td>\n",
       "      <td>Eucrite</td>\n",
       "      <td>172.0</td>\n",
       "      <td>Found</td>\n",
       "      <td>01/01/1990 12:00:00 AM</td>\n",
       "    </tr>\n",
       "    <tr>\n",
       "      <th>45712</th>\n",
       "      <td>Zinder</td>\n",
       "      <td>30409</td>\n",
       "      <td>Valid</td>\n",
       "      <td>Pallasite, ungrouped</td>\n",
       "      <td>46.0</td>\n",
       "      <td>Found</td>\n",
       "      <td>01/01/1999 12:00:00 AM</td>\n",
       "    </tr>\n",
       "    <tr>\n",
       "      <th>45713</th>\n",
       "      <td>Zlin</td>\n",
       "      <td>30410</td>\n",
       "      <td>Valid</td>\n",
       "      <td>H4</td>\n",
       "      <td>3.3</td>\n",
       "      <td>Found</td>\n",
       "      <td>01/01/1939 12:00:00 AM</td>\n",
       "    </tr>\n",
       "    <tr>\n",
       "      <th>45714</th>\n",
       "      <td>Zubkovsky</td>\n",
       "      <td>31357</td>\n",
       "      <td>Valid</td>\n",
       "      <td>L6</td>\n",
       "      <td>2167.0</td>\n",
       "      <td>Found</td>\n",
       "      <td>01/01/2003 12:00:00 AM</td>\n",
       "    </tr>\n",
       "    <tr>\n",
       "      <th>45715</th>\n",
       "      <td>Zulu Queen</td>\n",
       "      <td>30414</td>\n",
       "      <td>Valid</td>\n",
       "      <td>L3.7</td>\n",
       "      <td>200.0</td>\n",
       "      <td>Found</td>\n",
       "      <td>01/01/1976 12:00:00 AM</td>\n",
       "    </tr>\n",
       "  </tbody>\n",
       "</table>\n",
       "<p>45716 rows × 7 columns</p>\n",
       "</div>"
      ],
      "text/plain": [
       "             name     id nametype              recclass      mass   fall  \\\n",
       "0          Aachen      1    Valid                    L5      21.0   Fell   \n",
       "1          Aarhus      2    Valid                    H6     720.0   Fell   \n",
       "2            Abee      6    Valid                   EH4  107000.0   Fell   \n",
       "3        Acapulco     10    Valid           Acapulcoite    1914.0   Fell   \n",
       "4         Achiras    370    Valid                    L6     780.0   Fell   \n",
       "...           ...    ...      ...                   ...       ...    ...   \n",
       "45711  Zillah 002  31356    Valid               Eucrite     172.0  Found   \n",
       "45712      Zinder  30409    Valid  Pallasite, ungrouped      46.0  Found   \n",
       "45713        Zlin  30410    Valid                    H4       3.3  Found   \n",
       "45714   Zubkovsky  31357    Valid                    L6    2167.0  Found   \n",
       "45715  Zulu Queen  30414    Valid                  L3.7     200.0  Found   \n",
       "\n",
       "                         year  \n",
       "0      01/01/1880 12:00:00 AM  \n",
       "1      01/01/1951 12:00:00 AM  \n",
       "2      01/01/1952 12:00:00 AM  \n",
       "3      01/01/1976 12:00:00 AM  \n",
       "4      01/01/1902 12:00:00 AM  \n",
       "...                       ...  \n",
       "45711  01/01/1990 12:00:00 AM  \n",
       "45712  01/01/1999 12:00:00 AM  \n",
       "45713  01/01/1939 12:00:00 AM  \n",
       "45714  01/01/2003 12:00:00 AM  \n",
       "45715  01/01/1976 12:00:00 AM  \n",
       "\n",
       "[45716 rows x 7 columns]"
      ]
     },
     "execution_count": 94,
     "metadata": {},
     "output_type": "execute_result"
    }
   ],
   "source": [
    "meteorites_df"
   ]
  },
  {
   "cell_type": "markdown",
   "id": "11092855-1f7b-414c-bfc6-4d4e040616a0",
   "metadata": {
    "id": "11092855-1f7b-414c-bfc6-4d4e040616a0",
    "tags": []
   },
   "source": [
    "##### 3. Modifique a coluna `year` para apenas conter os anos, a converta para um tipo de dado numérico e crie uma nova coluna indicando se o ano é desconhecido. Dica: Use o comando `year.str.slice()` para pegar a substring."
   ]
  },
  {
   "cell_type": "code",
   "execution_count": 108,
   "id": "25c5ff4c-5042-43c5-80b2-68c55829ca19",
   "metadata": {
    "id": "25c5ff4c-5042-43c5-80b2-68c55829ca19"
   },
   "outputs": [],
   "source": [
    "#copia = meteorites_df.copy()\n",
    "meteorites_df['year'] = meteorites_df.year.str.slice(6,10,1).apply(pd.to_numeric)\n"
   ]
  },
  {
   "cell_type": "code",
   "execution_count": 96,
   "id": "b1d3e2f4",
   "metadata": {},
   "outputs": [],
   "source": [
    "meteorites_df = meteorites_df.assign(\n",
    "    known_year=lambda x: np.where(~x.year.isna(), True, False)\n",
    "    )"
   ]
  },
  {
   "cell_type": "code",
   "execution_count": 97,
   "id": "a2ec9324",
   "metadata": {},
   "outputs": [
    {
     "data": {
      "text/html": [
       "<div>\n",
       "<style scoped>\n",
       "    .dataframe tbody tr th:only-of-type {\n",
       "        vertical-align: middle;\n",
       "    }\n",
       "\n",
       "    .dataframe tbody tr th {\n",
       "        vertical-align: top;\n",
       "    }\n",
       "\n",
       "    .dataframe thead th {\n",
       "        text-align: right;\n",
       "    }\n",
       "</style>\n",
       "<table border=\"1\" class=\"dataframe\">\n",
       "  <thead>\n",
       "    <tr style=\"text-align: right;\">\n",
       "      <th></th>\n",
       "      <th>name</th>\n",
       "      <th>id</th>\n",
       "      <th>nametype</th>\n",
       "      <th>recclass</th>\n",
       "      <th>mass</th>\n",
       "      <th>fall</th>\n",
       "      <th>year</th>\n",
       "      <th>known_year</th>\n",
       "    </tr>\n",
       "  </thead>\n",
       "  <tbody>\n",
       "    <tr>\n",
       "      <th>0</th>\n",
       "      <td>Aachen</td>\n",
       "      <td>1</td>\n",
       "      <td>Valid</td>\n",
       "      <td>L5</td>\n",
       "      <td>21.0</td>\n",
       "      <td>Fell</td>\n",
       "      <td>1880.0</td>\n",
       "      <td>True</td>\n",
       "    </tr>\n",
       "    <tr>\n",
       "      <th>1</th>\n",
       "      <td>Aarhus</td>\n",
       "      <td>2</td>\n",
       "      <td>Valid</td>\n",
       "      <td>H6</td>\n",
       "      <td>720.0</td>\n",
       "      <td>Fell</td>\n",
       "      <td>1951.0</td>\n",
       "      <td>True</td>\n",
       "    </tr>\n",
       "    <tr>\n",
       "      <th>2</th>\n",
       "      <td>Abee</td>\n",
       "      <td>6</td>\n",
       "      <td>Valid</td>\n",
       "      <td>EH4</td>\n",
       "      <td>107000.0</td>\n",
       "      <td>Fell</td>\n",
       "      <td>1952.0</td>\n",
       "      <td>True</td>\n",
       "    </tr>\n",
       "    <tr>\n",
       "      <th>3</th>\n",
       "      <td>Acapulco</td>\n",
       "      <td>10</td>\n",
       "      <td>Valid</td>\n",
       "      <td>Acapulcoite</td>\n",
       "      <td>1914.0</td>\n",
       "      <td>Fell</td>\n",
       "      <td>1976.0</td>\n",
       "      <td>True</td>\n",
       "    </tr>\n",
       "    <tr>\n",
       "      <th>4</th>\n",
       "      <td>Achiras</td>\n",
       "      <td>370</td>\n",
       "      <td>Valid</td>\n",
       "      <td>L6</td>\n",
       "      <td>780.0</td>\n",
       "      <td>Fell</td>\n",
       "      <td>1902.0</td>\n",
       "      <td>True</td>\n",
       "    </tr>\n",
       "    <tr>\n",
       "      <th>...</th>\n",
       "      <td>...</td>\n",
       "      <td>...</td>\n",
       "      <td>...</td>\n",
       "      <td>...</td>\n",
       "      <td>...</td>\n",
       "      <td>...</td>\n",
       "      <td>...</td>\n",
       "      <td>...</td>\n",
       "    </tr>\n",
       "    <tr>\n",
       "      <th>45711</th>\n",
       "      <td>Zillah 002</td>\n",
       "      <td>31356</td>\n",
       "      <td>Valid</td>\n",
       "      <td>Eucrite</td>\n",
       "      <td>172.0</td>\n",
       "      <td>Found</td>\n",
       "      <td>1990.0</td>\n",
       "      <td>True</td>\n",
       "    </tr>\n",
       "    <tr>\n",
       "      <th>45712</th>\n",
       "      <td>Zinder</td>\n",
       "      <td>30409</td>\n",
       "      <td>Valid</td>\n",
       "      <td>Pallasite, ungrouped</td>\n",
       "      <td>46.0</td>\n",
       "      <td>Found</td>\n",
       "      <td>1999.0</td>\n",
       "      <td>True</td>\n",
       "    </tr>\n",
       "    <tr>\n",
       "      <th>45713</th>\n",
       "      <td>Zlin</td>\n",
       "      <td>30410</td>\n",
       "      <td>Valid</td>\n",
       "      <td>H4</td>\n",
       "      <td>3.3</td>\n",
       "      <td>Found</td>\n",
       "      <td>1939.0</td>\n",
       "      <td>True</td>\n",
       "    </tr>\n",
       "    <tr>\n",
       "      <th>45714</th>\n",
       "      <td>Zubkovsky</td>\n",
       "      <td>31357</td>\n",
       "      <td>Valid</td>\n",
       "      <td>L6</td>\n",
       "      <td>2167.0</td>\n",
       "      <td>Found</td>\n",
       "      <td>2003.0</td>\n",
       "      <td>True</td>\n",
       "    </tr>\n",
       "    <tr>\n",
       "      <th>45715</th>\n",
       "      <td>Zulu Queen</td>\n",
       "      <td>30414</td>\n",
       "      <td>Valid</td>\n",
       "      <td>L3.7</td>\n",
       "      <td>200.0</td>\n",
       "      <td>Found</td>\n",
       "      <td>1976.0</td>\n",
       "      <td>True</td>\n",
       "    </tr>\n",
       "  </tbody>\n",
       "</table>\n",
       "<p>45716 rows × 8 columns</p>\n",
       "</div>"
      ],
      "text/plain": [
       "             name     id nametype              recclass      mass   fall  \\\n",
       "0          Aachen      1    Valid                    L5      21.0   Fell   \n",
       "1          Aarhus      2    Valid                    H6     720.0   Fell   \n",
       "2            Abee      6    Valid                   EH4  107000.0   Fell   \n",
       "3        Acapulco     10    Valid           Acapulcoite    1914.0   Fell   \n",
       "4         Achiras    370    Valid                    L6     780.0   Fell   \n",
       "...           ...    ...      ...                   ...       ...    ...   \n",
       "45711  Zillah 002  31356    Valid               Eucrite     172.0  Found   \n",
       "45712      Zinder  30409    Valid  Pallasite, ungrouped      46.0  Found   \n",
       "45713        Zlin  30410    Valid                    H4       3.3  Found   \n",
       "45714   Zubkovsky  31357    Valid                    L6    2167.0  Found   \n",
       "45715  Zulu Queen  30414    Valid                  L3.7     200.0  Found   \n",
       "\n",
       "         year  known_year  \n",
       "0      1880.0        True  \n",
       "1      1951.0        True  \n",
       "2      1952.0        True  \n",
       "3      1976.0        True  \n",
       "4      1902.0        True  \n",
       "...       ...         ...  \n",
       "45711  1990.0        True  \n",
       "45712  1999.0        True  \n",
       "45713  1939.0        True  \n",
       "45714  2003.0        True  \n",
       "45715  1976.0        True  \n",
       "\n",
       "[45716 rows x 8 columns]"
      ]
     },
     "execution_count": 97,
     "metadata": {},
     "output_type": "execute_result"
    }
   ],
   "source": [
    "meteorites_df"
   ]
  },
  {
   "cell_type": "code",
   "execution_count": 98,
   "id": "3009e7b8",
   "metadata": {},
   "outputs": [
    {
     "data": {
      "text/plain": [
       "704       860.0\n",
       "679       920.0\n",
       "278      1399.0\n",
       "856      1490.0\n",
       "283      1491.0\n",
       "          ...  \n",
       "38207       NaN\n",
       "38231       NaN\n",
       "38308       NaN\n",
       "38335       NaN\n",
       "45700       NaN\n",
       "Name: year, Length: 45716, dtype: float64"
      ]
     },
     "execution_count": 98,
     "metadata": {},
     "output_type": "execute_result"
    }
   ],
   "source": [
    "meteorites_df['year'].sort_values()"
   ]
  },
  {
   "cell_type": "markdown",
   "id": "e1823a3f-05a9-4123-99dc-513896bf782f",
   "metadata": {
    "id": "e1823a3f-05a9-4123-99dc-513896bf782f",
    "tags": []
   },
   "source": [
    "##### 4. Existe um erro na entrada de dados na coluna `year`. Você consegue achá-lo?"
   ]
  },
  {
   "cell_type": "code",
   "execution_count": 99,
   "id": "6158f50b-34ca-46d6-860d-75ffc23e3769",
   "metadata": {
    "id": "6158f50b-34ca-46d6-860d-75ffc23e3769"
   },
   "outputs": [
    {
     "data": {
      "text/plain": [
       "30682    2101.0\n",
       "194      2013.0\n",
       "30730    2013.0\n",
       "30763    2013.0\n",
       "30774    2013.0\n",
       "          ...  \n",
       "38207       NaN\n",
       "38231       NaN\n",
       "38308       NaN\n",
       "38335       NaN\n",
       "45700       NaN\n",
       "Name: year, Length: 45716, dtype: float64"
      ]
     },
     "execution_count": 99,
     "metadata": {},
     "output_type": "execute_result"
    }
   ],
   "source": [
    "meteorites_df.year.sort_values(ascending=False)"
   ]
  },
  {
   "cell_type": "markdown",
   "id": "76329675-8c2f-41f6-9024-037da5a11acb",
   "metadata": {
    "id": "76329675-8c2f-41f6-9024-037da5a11acb",
    "tags": []
   },
   "source": [
    "##### 5. Compare as estatísticas sumarizadas da coluna `mass` para os meteoritos que foram achados contra os que foram observados quando caindo."
   ]
  },
  {
   "cell_type": "code",
   "execution_count": 110,
   "id": "4b294909-0571-467c-85ae-ab61041507d8",
   "metadata": {
    "id": "4b294909-0571-467c-85ae-ab61041507d8"
   },
   "outputs": [
    {
     "data": {
      "text/html": [
       "<div>\n",
       "<style scoped>\n",
       "    .dataframe tbody tr th:only-of-type {\n",
       "        vertical-align: middle;\n",
       "    }\n",
       "\n",
       "    .dataframe tbody tr th {\n",
       "        vertical-align: top;\n",
       "    }\n",
       "\n",
       "    .dataframe thead tr th {\n",
       "        text-align: left;\n",
       "    }\n",
       "\n",
       "    .dataframe thead tr:last-of-type th {\n",
       "        text-align: right;\n",
       "    }\n",
       "</style>\n",
       "<table border=\"1\" class=\"dataframe\">\n",
       "  <thead>\n",
       "    <tr>\n",
       "      <th></th>\n",
       "      <th colspan=\"8\" halign=\"left\">mass</th>\n",
       "    </tr>\n",
       "    <tr>\n",
       "      <th></th>\n",
       "      <th>count</th>\n",
       "      <th>mean</th>\n",
       "      <th>std</th>\n",
       "      <th>min</th>\n",
       "      <th>25%</th>\n",
       "      <th>50%</th>\n",
       "      <th>75%</th>\n",
       "      <th>max</th>\n",
       "    </tr>\n",
       "    <tr>\n",
       "      <th>fall</th>\n",
       "      <th></th>\n",
       "      <th></th>\n",
       "      <th></th>\n",
       "      <th></th>\n",
       "      <th></th>\n",
       "      <th></th>\n",
       "      <th></th>\n",
       "      <th></th>\n",
       "    </tr>\n",
       "  </thead>\n",
       "  <tbody>\n",
       "    <tr>\n",
       "      <th>Fell</th>\n",
       "      <td>1075.0</td>\n",
       "      <td>47070.715023</td>\n",
       "      <td>717067.125826</td>\n",
       "      <td>0.1</td>\n",
       "      <td>686.00</td>\n",
       "      <td>2800.0</td>\n",
       "      <td>10450.0</td>\n",
       "      <td>23000000.0</td>\n",
       "    </tr>\n",
       "    <tr>\n",
       "      <th>Found</th>\n",
       "      <td>44510.0</td>\n",
       "      <td>12461.922983</td>\n",
       "      <td>571105.752311</td>\n",
       "      <td>0.0</td>\n",
       "      <td>6.94</td>\n",
       "      <td>30.5</td>\n",
       "      <td>178.0</td>\n",
       "      <td>60000000.0</td>\n",
       "    </tr>\n",
       "  </tbody>\n",
       "</table>\n",
       "</div>"
      ],
      "text/plain": [
       "          mass                                                             \\\n",
       "         count          mean            std  min     25%     50%      75%   \n",
       "fall                                                                        \n",
       "Fell    1075.0  47070.715023  717067.125826  0.1  686.00  2800.0  10450.0   \n",
       "Found  44510.0  12461.922983  571105.752311  0.0    6.94    30.5    178.0   \n",
       "\n",
       "                   \n",
       "              max  \n",
       "fall               \n",
       "Fell   23000000.0  \n",
       "Found  60000000.0  "
      ]
     },
     "execution_count": 110,
     "metadata": {},
     "output_type": "execute_result"
    }
   ],
   "source": [
    "meteorites_df[[\"mass\", \"fall\"]].groupby(\"fall\").describe()"
   ]
  },
  {
   "cell_type": "markdown",
   "id": "290dbbb1-3f90-4243-9928-1d8008e5eaab",
   "metadata": {
    "id": "290dbbb1-3f90-4243-9928-1d8008e5eaab",
    "tags": []
   },
   "source": [
    "##### 6. Crie uma tabela de pivoteamento que mostre tanto o número de meteoritos quanto o meteorito na posição 95 em relação ao percentual de massa para aqueles que foram achados contra os que foram observados quando caindo por ano a partir de 1990 até 2000 (inclusive)."
   ]
  },
  {
   "cell_type": "code",
   "execution_count": 113,
   "id": "6a0c55a7-a778-4ab2-a710-b513d44fa7f2",
   "metadata": {
    "id": "6a0c55a7-a778-4ab2-a710-b513d44fa7f2"
   },
   "outputs": [
    {
     "data": {
      "text/html": [
       "<div>\n",
       "<style scoped>\n",
       "    .dataframe tbody tr th:only-of-type {\n",
       "        vertical-align: middle;\n",
       "    }\n",
       "\n",
       "    .dataframe tbody tr th {\n",
       "        vertical-align: top;\n",
       "    }\n",
       "\n",
       "    .dataframe thead tr th {\n",
       "        text-align: left;\n",
       "    }\n",
       "\n",
       "    .dataframe thead tr:last-of-type th {\n",
       "        text-align: right;\n",
       "    }\n",
       "</style>\n",
       "<table border=\"1\" class=\"dataframe\">\n",
       "  <thead>\n",
       "    <tr>\n",
       "      <th></th>\n",
       "      <th colspan=\"2\" halign=\"left\">count</th>\n",
       "      <th colspan=\"2\" halign=\"left\">&lt;lambda&gt;</th>\n",
       "    </tr>\n",
       "    <tr>\n",
       "      <th>fall</th>\n",
       "      <th>Fell</th>\n",
       "      <th>Found</th>\n",
       "      <th>Fell</th>\n",
       "      <th>Found</th>\n",
       "    </tr>\n",
       "    <tr>\n",
       "      <th>year</th>\n",
       "      <th></th>\n",
       "      <th></th>\n",
       "      <th></th>\n",
       "      <th></th>\n",
       "    </tr>\n",
       "  </thead>\n",
       "  <tbody>\n",
       "    <tr>\n",
       "      <th>1990.0</th>\n",
       "      <td>8</td>\n",
       "      <td>1509</td>\n",
       "      <td>217357.5</td>\n",
       "      <td>596.400</td>\n",
       "    </tr>\n",
       "    <tr>\n",
       "      <th>1991.0</th>\n",
       "      <td>5</td>\n",
       "      <td>870</td>\n",
       "      <td>92736.0</td>\n",
       "      <td>1176.900</td>\n",
       "    </tr>\n",
       "    <tr>\n",
       "      <th>1992.0</th>\n",
       "      <td>3</td>\n",
       "      <td>369</td>\n",
       "      <td>136257.0</td>\n",
       "      <td>1337.800</td>\n",
       "    </tr>\n",
       "    <tr>\n",
       "      <th>1993.0</th>\n",
       "      <td>4</td>\n",
       "      <td>972</td>\n",
       "      <td>33870.0</td>\n",
       "      <td>220.175</td>\n",
       "    </tr>\n",
       "    <tr>\n",
       "      <th>1994.0</th>\n",
       "      <td>6</td>\n",
       "      <td>711</td>\n",
       "      <td>36350.0</td>\n",
       "      <td>955.200</td>\n",
       "    </tr>\n",
       "    <tr>\n",
       "      <th>1995.0</th>\n",
       "      <td>6</td>\n",
       "      <td>479</td>\n",
       "      <td>97850.0</td>\n",
       "      <td>4101.700</td>\n",
       "    </tr>\n",
       "    <tr>\n",
       "      <th>1996.0</th>\n",
       "      <td>5</td>\n",
       "      <td>568</td>\n",
       "      <td>35640.0</td>\n",
       "      <td>1425.500</td>\n",
       "    </tr>\n",
       "    <tr>\n",
       "      <th>1997.0</th>\n",
       "      <td>3</td>\n",
       "      <td>1688</td>\n",
       "      <td>90155.1</td>\n",
       "      <td>1108.450</td>\n",
       "    </tr>\n",
       "    <tr>\n",
       "      <th>1998.0</th>\n",
       "      <td>9</td>\n",
       "      <td>2684</td>\n",
       "      <td>730000.0</td>\n",
       "      <td>635.488</td>\n",
       "    </tr>\n",
       "    <tr>\n",
       "      <th>1999.0</th>\n",
       "      <td>7</td>\n",
       "      <td>1680</td>\n",
       "      <td>20500.0</td>\n",
       "      <td>2018.910</td>\n",
       "    </tr>\n",
       "    <tr>\n",
       "      <th>2000.0</th>\n",
       "      <td>3</td>\n",
       "      <td>1778</td>\n",
       "      <td>9570.0</td>\n",
       "      <td>3183.950</td>\n",
       "    </tr>\n",
       "  </tbody>\n",
       "</table>\n",
       "</div>"
      ],
      "text/plain": [
       "       count        <lambda>          \n",
       "fall    Fell Found      Fell     Found\n",
       "year                                  \n",
       "1990.0     8  1509  217357.5   596.400\n",
       "1991.0     5   870   92736.0  1176.900\n",
       "1992.0     3   369  136257.0  1337.800\n",
       "1993.0     4   972   33870.0   220.175\n",
       "1994.0     6   711   36350.0   955.200\n",
       "1995.0     6   479   97850.0  4101.700\n",
       "1996.0     5   568   35640.0  1425.500\n",
       "1997.0     3  1688   90155.1  1108.450\n",
       "1998.0     9  2684  730000.0   635.488\n",
       "1999.0     7  1680   20500.0  2018.910\n",
       "2000.0     3  1778    9570.0  3183.950"
      ]
     },
     "execution_count": 113,
     "metadata": {},
     "output_type": "execute_result"
    }
   ],
   "source": [
    "meteorites_pivoted = meteorites_df[[\"mass\", \"year\", \"fall\"]]\\\n",
    "    .query('year >= 1990 and year <= 2000')\\\n",
    "    .pivot_table(index=\"year\", columns=\"fall\", values='mass', aggfunc=['count', lambda x: np.nanpercentile(x, 95)])\n",
    "meteorites_pivoted\n"
   ]
  },
  {
   "cell_type": "markdown",
   "id": "dbe847f5-0ac5-46da-aa34-0d448fe679b8",
   "metadata": {
    "id": "dbe847f5-0ac5-46da-aa34-0d448fe679b8",
    "tags": []
   },
   "source": [
    "##### 7. Usando o dataset `taxis` do início dessa seção, faça a reamostragem dos dados para uma frequência horária baseada no tempo de desembarque. Calcule os valores totais de `trip_distance`, `fare_amount`, `tolls_amount` e  `tip_amount`, e depois ache as 5 horas com os maiores valores de gorjetas."
   ]
  },
  {
   "cell_type": "code",
   "execution_count": null,
   "id": "2bdd2f67-5f0f-45a7-bd3e-aad87ed14ef8",
   "metadata": {
    "id": "2bdd2f67-5f0f-45a7-bd3e-aad87ed14ef8"
   },
   "outputs": [],
   "source": [
    "taxis.set_index(keys=['dropoff'], inplace=True)\n",
    "taxis.head()"
   ]
  },
  {
   "cell_type": "code",
   "execution_count": 1,
   "id": "6db485e7",
   "metadata": {},
   "outputs": [
    {
     "ename": "NameError",
     "evalue": "name 'taxis' is not defined",
     "output_type": "error",
     "traceback": [
      "\u001b[1;31m---------------------------------------------------------------------------\u001b[0m",
      "\u001b[1;31mNameError\u001b[0m                                 Traceback (most recent call last)",
      "\u001b[1;32mc:\\Cursos\\Intro_DS_UFSC\\week-02\\2_Data_Wrangling.ipynb Célula: 145\u001b[0m in \u001b[0;36m<cell line: 1>\u001b[1;34m()\u001b[0m\n\u001b[1;32m----> <a href='vscode-notebook-cell:/c%3A/Cursos/Intro_DS_UFSC/week-02/2_Data_Wrangling.ipynb#Y264sZmlsZQ%3D%3D?line=0'>1</a>\u001b[0m taxis_resampled \u001b[39m=\u001b[39m taxis\u001b[39m.\u001b[39mresample(rule\u001b[39m=\u001b[39m\u001b[39m\"\u001b[39m\u001b[39m1H\u001b[39m\u001b[39m\"\u001b[39m)\u001b[39m.\u001b[39msum()\n\u001b[0;32m      <a href='vscode-notebook-cell:/c%3A/Cursos/Intro_DS_UFSC/week-02/2_Data_Wrangling.ipynb#Y264sZmlsZQ%3D%3D?line=1'>2</a>\u001b[0m taxis_resampled[[\u001b[39m'\u001b[39m\u001b[39mtrip_distance\u001b[39m\u001b[39m'\u001b[39m, \u001b[39m'\u001b[39m\u001b[39mfare_amount\u001b[39m\u001b[39m'\u001b[39m, \u001b[39m'\u001b[39m\u001b[39mtolls_amount\u001b[39m\u001b[39m'\u001b[39m,\u001b[39m'\u001b[39m\u001b[39mtip_amount\u001b[39m\u001b[39m'\u001b[39m]]\u001b[39m.\u001b[39msum()\n",
      "\u001b[1;31mNameError\u001b[0m: name 'taxis' is not defined"
     ]
    }
   ],
   "source": [
    "taxis_resampled = taxis.resample(rule=\"1H\").sum()\n",
    "taxis_resampled[['trip_distance', 'fare_amount', 'tolls_amount','tip_amount']] #falta terminar o exercício"
   ]
  },
  {
   "cell_type": "markdown",
   "id": "P5ykfoT-yoso",
   "metadata": {
    "id": "P5ykfoT-yoso"
   },
   "source": [
    "# Referências\n",
    "\n",
    "Link do repositório original - Git: https://github.com/stefmolin/pandas-workshop\n",
    "\n",
    "Notebook original - https://github.com/stefmolin/pandas-workshop/blob/main/notebooks/2-data_wrangling.ipynb"
   ]
  }
 ],
 "metadata": {
  "colab": {
   "name": "2-Data_Wrangling.ipynb",
   "provenance": []
  },
  "kernelspec": {
   "display_name": "Python 3.9.12 ('base')",
   "language": "python",
   "name": "python3"
  },
  "language_info": {
   "codemirror_mode": {
    "name": "ipython",
    "version": 3
   },
   "file_extension": ".py",
   "mimetype": "text/x-python",
   "name": "python",
   "nbconvert_exporter": "python",
   "pygments_lexer": "ipython3",
   "version": "3.9.12"
  },
  "vscode": {
   "interpreter": {
    "hash": "ad2bdc8ecc057115af97d19610ffacc2b4e99fae6737bb82f5d7fb13d2f2c186"
   }
  }
 },
 "nbformat": 4,
 "nbformat_minor": 5
}
