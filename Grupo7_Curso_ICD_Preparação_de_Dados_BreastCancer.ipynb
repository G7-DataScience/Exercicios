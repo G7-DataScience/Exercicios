{
  "cells": [
    {
      "cell_type": "markdown",
      "metadata": {
        "id": "PGqpbCzBfcht"
      },
      "source": [
        "##Exercícios Preparação de Dados\n",
        "Curso Introdução à Ciência de Dados - CTC/INE/UFSC\n",
        "\n",
        "Prof. Jônata Tyska Carvalho\n",
        "\n",
        "Prof. Mateus Grellert da Silva\n",
        "\n",
        "*Exercícios adaptados a partir do material do prof. Vipin Kumar\n",
        "\n",
        "### Briefing\n",
        "Sua startup de análise de dados foi contratada por uma grande empresa de diagnóstico médico que quer construir um classificador para auxiliar os médicos a dignosticar câncer de mama. A ideia é construir o modelo com base em características de análises laboratoriais de amostras de células extraídas de pacientes com e sem câncer. Sua equipe foi encarregada de realizar algumas tarefas de preparação de dados no conjunto fornecido pela contratante."
      ]
    },
    {
      "cell_type": "markdown",
      "metadata": {
        "id": "FtczFT_Sfnhg"
      },
      "source": [
        "#### **Carregando os dados** "
      ]
    },
    {
      "cell_type": "code",
      "execution_count": 49,
      "metadata": {
        "id": "RvRxVy1YfXHU"
      },
      "outputs": [],
      "source": [
        "import pandas as pd\n",
        "data = pd.read_csv('https://archive.ics.uci.edu/ml/machine-learning-databases/breast-cancer-wisconsin/breast-cancer-wisconsin.data', header=None)\n",
        "data.columns = ['Sample code', 'Clump Thickness', 'Uniformity of Cell Size', 'Uniformity of Cell Shape',\n",
        "                'Marginal Adhesion', 'Single Epithelial Cell Size', 'Bare Nuclei', 'Bland Chromatin',\n",
        "                'Normal Nucleoli', 'Mitoses','Class']"
      ]
    },
    {
      "cell_type": "markdown",
      "metadata": {
        "id": "yFsqDzjJgl-q"
      },
      "source": [
        "### **Exercício 0. Verificar a quantidade de instâncias e atributos** "
      ]
    },
    {
      "cell_type": "code",
      "execution_count": 50,
      "metadata": {
        "colab": {
          "base_uri": "https://localhost:8080/"
        },
        "id": "W-OFFnNUglf7",
        "outputId": "f52b720c-112b-4455-f176-84790857b83b"
      },
      "outputs": [
        {
          "name": "stdout",
          "output_type": "stream",
          "text": [
            "<class 'pandas.core.frame.DataFrame'>\n",
            "RangeIndex: 699 entries, 0 to 698\n",
            "Data columns (total 11 columns):\n",
            " #   Column                       Non-Null Count  Dtype \n",
            "---  ------                       --------------  ----- \n",
            " 0   Sample code                  699 non-null    int64 \n",
            " 1   Clump Thickness              699 non-null    int64 \n",
            " 2   Uniformity of Cell Size      699 non-null    int64 \n",
            " 3   Uniformity of Cell Shape     699 non-null    int64 \n",
            " 4   Marginal Adhesion            699 non-null    int64 \n",
            " 5   Single Epithelial Cell Size  699 non-null    int64 \n",
            " 6   Bare Nuclei                  699 non-null    object\n",
            " 7   Bland Chromatin              699 non-null    int64 \n",
            " 8   Normal Nucleoli              699 non-null    int64 \n",
            " 9   Mitoses                      699 non-null    int64 \n",
            " 10  Class                        699 non-null    int64 \n",
            "dtypes: int64(10), object(1)\n",
            "memory usage: 60.2+ KB\n"
          ]
        }
      ],
      "source": [
        "data.info()"
      ]
    },
    {
      "cell_type": "markdown",
      "metadata": {
        "id": "FKPdp2DvgNpr"
      },
      "source": [
        "### **Exercício 1. Descartar a coluna 'Sample Code'**"
      ]
    },
    {
      "cell_type": "code",
      "execution_count": 51,
      "metadata": {
        "id": "auhIm14bgMUc"
      },
      "outputs": [
        {
          "data": {
            "text/html": [
              "<div>\n",
              "<style scoped>\n",
              "    .dataframe tbody tr th:only-of-type {\n",
              "        vertical-align: middle;\n",
              "    }\n",
              "\n",
              "    .dataframe tbody tr th {\n",
              "        vertical-align: top;\n",
              "    }\n",
              "\n",
              "    .dataframe thead th {\n",
              "        text-align: right;\n",
              "    }\n",
              "</style>\n",
              "<table border=\"1\" class=\"dataframe\">\n",
              "  <thead>\n",
              "    <tr style=\"text-align: right;\">\n",
              "      <th></th>\n",
              "      <th>Clump Thickness</th>\n",
              "      <th>Uniformity of Cell Size</th>\n",
              "      <th>Uniformity of Cell Shape</th>\n",
              "      <th>Marginal Adhesion</th>\n",
              "      <th>Single Epithelial Cell Size</th>\n",
              "      <th>Bare Nuclei</th>\n",
              "      <th>Bland Chromatin</th>\n",
              "      <th>Normal Nucleoli</th>\n",
              "      <th>Mitoses</th>\n",
              "      <th>Class</th>\n",
              "    </tr>\n",
              "  </thead>\n",
              "  <tbody>\n",
              "    <tr>\n",
              "      <th>0</th>\n",
              "      <td>5</td>\n",
              "      <td>1</td>\n",
              "      <td>1</td>\n",
              "      <td>1</td>\n",
              "      <td>2</td>\n",
              "      <td>1</td>\n",
              "      <td>3</td>\n",
              "      <td>1</td>\n",
              "      <td>1</td>\n",
              "      <td>2</td>\n",
              "    </tr>\n",
              "    <tr>\n",
              "      <th>1</th>\n",
              "      <td>5</td>\n",
              "      <td>4</td>\n",
              "      <td>4</td>\n",
              "      <td>5</td>\n",
              "      <td>7</td>\n",
              "      <td>10</td>\n",
              "      <td>3</td>\n",
              "      <td>2</td>\n",
              "      <td>1</td>\n",
              "      <td>2</td>\n",
              "    </tr>\n",
              "    <tr>\n",
              "      <th>2</th>\n",
              "      <td>3</td>\n",
              "      <td>1</td>\n",
              "      <td>1</td>\n",
              "      <td>1</td>\n",
              "      <td>2</td>\n",
              "      <td>2</td>\n",
              "      <td>3</td>\n",
              "      <td>1</td>\n",
              "      <td>1</td>\n",
              "      <td>2</td>\n",
              "    </tr>\n",
              "    <tr>\n",
              "      <th>3</th>\n",
              "      <td>6</td>\n",
              "      <td>8</td>\n",
              "      <td>8</td>\n",
              "      <td>1</td>\n",
              "      <td>3</td>\n",
              "      <td>4</td>\n",
              "      <td>3</td>\n",
              "      <td>7</td>\n",
              "      <td>1</td>\n",
              "      <td>2</td>\n",
              "    </tr>\n",
              "    <tr>\n",
              "      <th>4</th>\n",
              "      <td>4</td>\n",
              "      <td>1</td>\n",
              "      <td>1</td>\n",
              "      <td>3</td>\n",
              "      <td>2</td>\n",
              "      <td>1</td>\n",
              "      <td>3</td>\n",
              "      <td>1</td>\n",
              "      <td>1</td>\n",
              "      <td>2</td>\n",
              "    </tr>\n",
              "    <tr>\n",
              "      <th>...</th>\n",
              "      <td>...</td>\n",
              "      <td>...</td>\n",
              "      <td>...</td>\n",
              "      <td>...</td>\n",
              "      <td>...</td>\n",
              "      <td>...</td>\n",
              "      <td>...</td>\n",
              "      <td>...</td>\n",
              "      <td>...</td>\n",
              "      <td>...</td>\n",
              "    </tr>\n",
              "    <tr>\n",
              "      <th>694</th>\n",
              "      <td>3</td>\n",
              "      <td>1</td>\n",
              "      <td>1</td>\n",
              "      <td>1</td>\n",
              "      <td>3</td>\n",
              "      <td>2</td>\n",
              "      <td>1</td>\n",
              "      <td>1</td>\n",
              "      <td>1</td>\n",
              "      <td>2</td>\n",
              "    </tr>\n",
              "    <tr>\n",
              "      <th>695</th>\n",
              "      <td>2</td>\n",
              "      <td>1</td>\n",
              "      <td>1</td>\n",
              "      <td>1</td>\n",
              "      <td>2</td>\n",
              "      <td>1</td>\n",
              "      <td>1</td>\n",
              "      <td>1</td>\n",
              "      <td>1</td>\n",
              "      <td>2</td>\n",
              "    </tr>\n",
              "    <tr>\n",
              "      <th>696</th>\n",
              "      <td>5</td>\n",
              "      <td>10</td>\n",
              "      <td>10</td>\n",
              "      <td>3</td>\n",
              "      <td>7</td>\n",
              "      <td>3</td>\n",
              "      <td>8</td>\n",
              "      <td>10</td>\n",
              "      <td>2</td>\n",
              "      <td>4</td>\n",
              "    </tr>\n",
              "    <tr>\n",
              "      <th>697</th>\n",
              "      <td>4</td>\n",
              "      <td>8</td>\n",
              "      <td>6</td>\n",
              "      <td>4</td>\n",
              "      <td>3</td>\n",
              "      <td>4</td>\n",
              "      <td>10</td>\n",
              "      <td>6</td>\n",
              "      <td>1</td>\n",
              "      <td>4</td>\n",
              "    </tr>\n",
              "    <tr>\n",
              "      <th>698</th>\n",
              "      <td>4</td>\n",
              "      <td>8</td>\n",
              "      <td>8</td>\n",
              "      <td>5</td>\n",
              "      <td>4</td>\n",
              "      <td>5</td>\n",
              "      <td>10</td>\n",
              "      <td>4</td>\n",
              "      <td>1</td>\n",
              "      <td>4</td>\n",
              "    </tr>\n",
              "  </tbody>\n",
              "</table>\n",
              "<p>699 rows × 10 columns</p>\n",
              "</div>"
            ],
            "text/plain": [
              "     Clump Thickness  Uniformity of Cell Size  Uniformity of Cell Shape  \\\n",
              "0                  5                        1                         1   \n",
              "1                  5                        4                         4   \n",
              "2                  3                        1                         1   \n",
              "3                  6                        8                         8   \n",
              "4                  4                        1                         1   \n",
              "..               ...                      ...                       ...   \n",
              "694                3                        1                         1   \n",
              "695                2                        1                         1   \n",
              "696                5                       10                        10   \n",
              "697                4                        8                         6   \n",
              "698                4                        8                         8   \n",
              "\n",
              "     Marginal Adhesion  Single Epithelial Cell Size Bare Nuclei  \\\n",
              "0                    1                            2           1   \n",
              "1                    5                            7          10   \n",
              "2                    1                            2           2   \n",
              "3                    1                            3           4   \n",
              "4                    3                            2           1   \n",
              "..                 ...                          ...         ...   \n",
              "694                  1                            3           2   \n",
              "695                  1                            2           1   \n",
              "696                  3                            7           3   \n",
              "697                  4                            3           4   \n",
              "698                  5                            4           5   \n",
              "\n",
              "     Bland Chromatin  Normal Nucleoli  Mitoses  Class  \n",
              "0                  3                1        1      2  \n",
              "1                  3                2        1      2  \n",
              "2                  3                1        1      2  \n",
              "3                  3                7        1      2  \n",
              "4                  3                1        1      2  \n",
              "..               ...              ...      ...    ...  \n",
              "694                1                1        1      2  \n",
              "695                1                1        1      2  \n",
              "696                8               10        2      4  \n",
              "697               10                6        1      4  \n",
              "698               10                4        1      4  \n",
              "\n",
              "[699 rows x 10 columns]"
            ]
          },
          "execution_count": 51,
          "metadata": {},
          "output_type": "execute_result"
        }
      ],
      "source": [
        "data.drop(columns='Sample code', inplace=True)\n",
        "data"
      ]
    },
    {
      "cell_type": "markdown",
      "metadata": {
        "id": "4XSaPe8pgz3R"
      },
      "source": [
        "### **Exercício 2. Verificar valores faltantes por atributo** \n"
      ]
    },
    {
      "cell_type": "markdown",
      "metadata": {},
      "source": [
        "Já que nos resultados da questão 0 os atributos mostraram não ter valores NaN, vamos investigar mais a fundo cada atributo para encontrar possíveis valores indevidos."
      ]
    },
    {
      "cell_type": "code",
      "execution_count": 52,
      "metadata": {
        "id": "aw-3o4kEIDZl"
      },
      "outputs": [
        {
          "name": "stdout",
          "output_type": "stream",
          "text": [
            "Clump Thickness: [ 5  3  6  4  8  1  2  7 10  9]\n",
            "Uniformity of Cell Size: [ 1  4  8 10  2  3  7  5  6  9]\n",
            "Uniformity of Cell Shape: [ 1  4  8 10  2  3  5  6  7  9]\n",
            "Marginal Adhesion: [ 1  5  3  8 10  4  6  2  9  7]\n",
            "Single Epithelial Cell Size: [ 2  7  3  1  6  4  5  8 10  9]\n",
            "Bare Nuclei: ['1' '10' '2' '4' '3' '9' '7' '?' '5' '8' '6']\n",
            "Bland Chromatin: [ 3  9  1  2  4  5  7  8  6 10]\n",
            "Normal Nucleoli: [ 1  2  7  4  5  3 10  6  9  8]\n",
            "Mitoses: [ 1  5  4  2  3  7 10  8  6]\n",
            "Class: [2 4]\n"
          ]
        }
      ],
      "source": [
        "# verificando os valores para cada atributo\n",
        "for col in data.columns:\n",
        "    print(f'{data[col].name}: {data[col].unique()}')"
      ]
    },
    {
      "cell_type": "markdown",
      "metadata": {},
      "source": [
        "O atributo `Bare Nuclei` apresenta um valor inválido *'?'* e será tratado para remoção desse valor indevido."
      ]
    },
    {
      "cell_type": "markdown",
      "metadata": {
        "id": "0odecu3buAmq"
      },
      "source": [
        "### **Exercício 3. Imputar os valores faltantes com a mediana do atributo** "
      ]
    },
    {
      "cell_type": "code",
      "execution_count": 53,
      "metadata": {
        "id": "E-KApZgF2tHG"
      },
      "outputs": [
        {
          "name": "stdout",
          "output_type": "stream",
          "text": [
            "<class 'pandas.core.frame.DataFrame'>\n",
            "RangeIndex: 699 entries, 0 to 698\n",
            "Data columns (total 10 columns):\n",
            " #   Column                       Non-Null Count  Dtype\n",
            "---  ------                       --------------  -----\n",
            " 0   Clump Thickness              699 non-null    int32\n",
            " 1   Uniformity of Cell Size      699 non-null    int32\n",
            " 2   Uniformity of Cell Shape     699 non-null    int32\n",
            " 3   Marginal Adhesion            699 non-null    int32\n",
            " 4   Single Epithelial Cell Size  699 non-null    int32\n",
            " 5   Bare Nuclei                  699 non-null    int32\n",
            " 6   Bland Chromatin              699 non-null    int32\n",
            " 7   Normal Nucleoli              699 non-null    int32\n",
            " 8   Mitoses                      699 non-null    int32\n",
            " 9   Class                        699 non-null    int32\n",
            "dtypes: int32(10)\n",
            "memory usage: 27.4 KB\n"
          ]
        }
      ],
      "source": [
        "# substituindo os valores indevidos por valores NaN\n",
        "data.replace('?', pd.NA, inplace=True)\n",
        "\n",
        "# convertendo o tipo do atributo para numérico para poder calcular a mediana\n",
        "data['Bare Nuclei'] = pd.to_numeric(data['Bare Nuclei'])\n",
        "# inputando os valores faltantes com a mediana\n",
        "data['Bare Nuclei'] = data['Bare Nuclei'].fillna(data['Bare Nuclei'].median())\n",
        "data = data.astype(int)\n",
        "data.info()\n"
      ]
    },
    {
      "cell_type": "code",
      "execution_count": 54,
      "metadata": {},
      "outputs": [
        {
          "name": "stdout",
          "output_type": "stream",
          "text": [
            "Clump Thickness: [ 5  3  6  4  8  1  2  7 10  9]\n",
            "Uniformity of Cell Size: [ 1  4  8 10  2  3  7  5  6  9]\n",
            "Uniformity of Cell Shape: [ 1  4  8 10  2  3  5  6  7  9]\n",
            "Marginal Adhesion: [ 1  5  3  8 10  4  6  2  9  7]\n",
            "Single Epithelial Cell Size: [ 2  7  3  1  6  4  5  8 10  9]\n",
            "Bare Nuclei: [ 1 10  2  4  3  9  7  5  8  6]\n",
            "Bland Chromatin: [ 3  9  1  2  4  5  7  8  6 10]\n",
            "Normal Nucleoli: [ 1  2  7  4  5  3 10  6  9  8]\n",
            "Mitoses: [ 1  5  4  2  3  7 10  8  6]\n",
            "Class: [2 4]\n"
          ]
        }
      ],
      "source": [
        "# inspecionando novamente os dados, após imputação\n",
        "for col in data.columns:\n",
        "    print(f'{data[col].name}: {data[col].unique()}')"
      ]
    },
    {
      "cell_type": "markdown",
      "metadata": {
        "id": "lHjEsrkc_Tw7"
      },
      "source": [
        "### **Exercício 4. Recarregue os dados originais (com valores faltantes) e ao invés de imputar valores, descarte as instâncias com valores faltantes** "
      ]
    },
    {
      "cell_type": "code",
      "execution_count": 55,
      "metadata": {
        "id": "fpm66ZoK_drR"
      },
      "outputs": [
        {
          "name": "stdout",
          "output_type": "stream",
          "text": [
            "<class 'pandas.core.frame.DataFrame'>\n",
            "Int64Index: 683 entries, 0 to 698\n",
            "Data columns (total 10 columns):\n",
            " #   Column                       Non-Null Count  Dtype\n",
            "---  ------                       --------------  -----\n",
            " 0   Clump Thickness              683 non-null    Int64\n",
            " 1   Uniformity of Cell Size      683 non-null    Int64\n",
            " 2   Uniformity of Cell Shape     683 non-null    Int64\n",
            " 3   Marginal Adhesion            683 non-null    Int64\n",
            " 4   Single Epithelial Cell Size  683 non-null    Int64\n",
            " 5   Bare Nuclei                  683 non-null    Int64\n",
            " 6   Bland Chromatin              683 non-null    Int64\n",
            " 7   Normal Nucleoli              683 non-null    Int64\n",
            " 8   Mitoses                      683 non-null    Int64\n",
            " 9   Class                        683 non-null    Int64\n",
            "dtypes: Int64(10)\n",
            "memory usage: 65.4 KB\n"
          ]
        }
      ],
      "source": [
        "#recarregando os dados do dataset, desta vez já indicando o valor ('?') que representa os valores faltantes\n",
        "data2 = pd.read_csv('https://archive.ics.uci.edu/ml/machine-learning-databases/breast-cancer-wisconsin/breast-cancer-wisconsin.data', \n",
        "    header=None, na_values='?')\n",
        "\n",
        "#continuando na progressão anterior até a remoção dos dados registros com dados faltantes\n",
        "data2.columns = ['Sample code', 'Clump Thickness', 'Uniformity of Cell Size', 'Uniformity of Cell Shape',\n",
        "                'Marginal Adhesion', 'Single Epithelial Cell Size', 'Bare Nuclei', 'Bland Chromatin',\n",
        "                'Normal Nucleoli', 'Mitoses','Class']\n",
        "\n",
        "data2.drop(columns='Sample code', inplace=True)\n",
        "\n",
        "# método DataFrame.dropna() remove os registros que apresentam valores faltantes\n",
        "data2.dropna(inplace=True)\n",
        "# convertendo os tipos dos atributos para a melhor correspondência possível\n",
        "data2 = data2.convert_dtypes()\n",
        "\n",
        "data2.info()"
      ]
    },
    {
      "cell_type": "markdown",
      "metadata": {
        "id": "2eKowk_c-Tvr"
      },
      "source": [
        "### **Exercício 5. Identificar os atributos do conjunto de dados que possuem outliers**"
      ]
    },
    {
      "cell_type": "code",
      "execution_count": 56,
      "metadata": {},
      "outputs": [
        {
          "data": {
            "text/html": [
              "<div>\n",
              "<style scoped>\n",
              "    .dataframe tbody tr th:only-of-type {\n",
              "        vertical-align: middle;\n",
              "    }\n",
              "\n",
              "    .dataframe tbody tr th {\n",
              "        vertical-align: top;\n",
              "    }\n",
              "\n",
              "    .dataframe thead th {\n",
              "        text-align: right;\n",
              "    }\n",
              "</style>\n",
              "<table border=\"1\" class=\"dataframe\">\n",
              "  <thead>\n",
              "    <tr style=\"text-align: right;\">\n",
              "      <th></th>\n",
              "      <th>count</th>\n",
              "      <th>mean</th>\n",
              "      <th>std</th>\n",
              "      <th>min</th>\n",
              "      <th>25%</th>\n",
              "      <th>50%</th>\n",
              "      <th>75%</th>\n",
              "      <th>max</th>\n",
              "    </tr>\n",
              "  </thead>\n",
              "  <tbody>\n",
              "    <tr>\n",
              "      <th>Clump Thickness</th>\n",
              "      <td>699.0</td>\n",
              "      <td>4.417740</td>\n",
              "      <td>2.815741</td>\n",
              "      <td>1.0</td>\n",
              "      <td>2.0</td>\n",
              "      <td>4.0</td>\n",
              "      <td>6.0</td>\n",
              "      <td>10.0</td>\n",
              "    </tr>\n",
              "    <tr>\n",
              "      <th>Uniformity of Cell Size</th>\n",
              "      <td>699.0</td>\n",
              "      <td>3.134478</td>\n",
              "      <td>3.051459</td>\n",
              "      <td>1.0</td>\n",
              "      <td>1.0</td>\n",
              "      <td>1.0</td>\n",
              "      <td>5.0</td>\n",
              "      <td>10.0</td>\n",
              "    </tr>\n",
              "    <tr>\n",
              "      <th>Uniformity of Cell Shape</th>\n",
              "      <td>699.0</td>\n",
              "      <td>3.207439</td>\n",
              "      <td>2.971913</td>\n",
              "      <td>1.0</td>\n",
              "      <td>1.0</td>\n",
              "      <td>1.0</td>\n",
              "      <td>5.0</td>\n",
              "      <td>10.0</td>\n",
              "    </tr>\n",
              "    <tr>\n",
              "      <th>Marginal Adhesion</th>\n",
              "      <td>699.0</td>\n",
              "      <td>2.806867</td>\n",
              "      <td>2.855379</td>\n",
              "      <td>1.0</td>\n",
              "      <td>1.0</td>\n",
              "      <td>1.0</td>\n",
              "      <td>4.0</td>\n",
              "      <td>10.0</td>\n",
              "    </tr>\n",
              "    <tr>\n",
              "      <th>Single Epithelial Cell Size</th>\n",
              "      <td>699.0</td>\n",
              "      <td>3.216023</td>\n",
              "      <td>2.214300</td>\n",
              "      <td>1.0</td>\n",
              "      <td>2.0</td>\n",
              "      <td>2.0</td>\n",
              "      <td>4.0</td>\n",
              "      <td>10.0</td>\n",
              "    </tr>\n",
              "    <tr>\n",
              "      <th>Bare Nuclei</th>\n",
              "      <td>699.0</td>\n",
              "      <td>3.486409</td>\n",
              "      <td>3.621929</td>\n",
              "      <td>1.0</td>\n",
              "      <td>1.0</td>\n",
              "      <td>1.0</td>\n",
              "      <td>5.0</td>\n",
              "      <td>10.0</td>\n",
              "    </tr>\n",
              "    <tr>\n",
              "      <th>Bland Chromatin</th>\n",
              "      <td>699.0</td>\n",
              "      <td>3.437768</td>\n",
              "      <td>2.438364</td>\n",
              "      <td>1.0</td>\n",
              "      <td>2.0</td>\n",
              "      <td>3.0</td>\n",
              "      <td>5.0</td>\n",
              "      <td>10.0</td>\n",
              "    </tr>\n",
              "    <tr>\n",
              "      <th>Normal Nucleoli</th>\n",
              "      <td>699.0</td>\n",
              "      <td>2.866953</td>\n",
              "      <td>3.053634</td>\n",
              "      <td>1.0</td>\n",
              "      <td>1.0</td>\n",
              "      <td>1.0</td>\n",
              "      <td>4.0</td>\n",
              "      <td>10.0</td>\n",
              "    </tr>\n",
              "    <tr>\n",
              "      <th>Mitoses</th>\n",
              "      <td>699.0</td>\n",
              "      <td>1.589413</td>\n",
              "      <td>1.715078</td>\n",
              "      <td>1.0</td>\n",
              "      <td>1.0</td>\n",
              "      <td>1.0</td>\n",
              "      <td>1.0</td>\n",
              "      <td>10.0</td>\n",
              "    </tr>\n",
              "    <tr>\n",
              "      <th>Class</th>\n",
              "      <td>699.0</td>\n",
              "      <td>2.689557</td>\n",
              "      <td>0.951273</td>\n",
              "      <td>2.0</td>\n",
              "      <td>2.0</td>\n",
              "      <td>2.0</td>\n",
              "      <td>4.0</td>\n",
              "      <td>4.0</td>\n",
              "    </tr>\n",
              "  </tbody>\n",
              "</table>\n",
              "</div>"
            ],
            "text/plain": [
              "                             count      mean       std  min  25%  50%  75%  \\\n",
              "Clump Thickness              699.0  4.417740  2.815741  1.0  2.0  4.0  6.0   \n",
              "Uniformity of Cell Size      699.0  3.134478  3.051459  1.0  1.0  1.0  5.0   \n",
              "Uniformity of Cell Shape     699.0  3.207439  2.971913  1.0  1.0  1.0  5.0   \n",
              "Marginal Adhesion            699.0  2.806867  2.855379  1.0  1.0  1.0  4.0   \n",
              "Single Epithelial Cell Size  699.0  3.216023  2.214300  1.0  2.0  2.0  4.0   \n",
              "Bare Nuclei                  699.0  3.486409  3.621929  1.0  1.0  1.0  5.0   \n",
              "Bland Chromatin              699.0  3.437768  2.438364  1.0  2.0  3.0  5.0   \n",
              "Normal Nucleoli              699.0  2.866953  3.053634  1.0  1.0  1.0  4.0   \n",
              "Mitoses                      699.0  1.589413  1.715078  1.0  1.0  1.0  1.0   \n",
              "Class                        699.0  2.689557  0.951273  2.0  2.0  2.0  4.0   \n",
              "\n",
              "                              max  \n",
              "Clump Thickness              10.0  \n",
              "Uniformity of Cell Size      10.0  \n",
              "Uniformity of Cell Shape     10.0  \n",
              "Marginal Adhesion            10.0  \n",
              "Single Epithelial Cell Size  10.0  \n",
              "Bare Nuclei                  10.0  \n",
              "Bland Chromatin              10.0  \n",
              "Normal Nucleoli              10.0  \n",
              "Mitoses                      10.0  \n",
              "Class                         4.0  "
            ]
          },
          "execution_count": 56,
          "metadata": {},
          "output_type": "execute_result"
        }
      ],
      "source": [
        "# conferindo a sumarização estatística dos dados para encontrar os indícios de outliers\n",
        "data.describe().T"
      ]
    },
    {
      "cell_type": "code",
      "execution_count": 57,
      "metadata": {
        "id": "3YFxH78t1tFv"
      },
      "outputs": [
        {
          "data": {
            "image/png": "[encoded data removed]",
            "text/plain": [
              "<Figure size 1440x360 with 1 Axes>"
            ]
          },
          "metadata": {
            "needs_background": "light"
          },
          "output_type": "display_data"
        }
      ],
      "source": [
        "# visualizando os dados com boxplot para verificar possíveis outliers\n",
        "import seaborn as sns\n",
        "from matplotlib import pyplot as plt\n",
        "\n",
        "plt.figure(figsize=(20,5))\n",
        "fig = sns.boxplot(data=data)\n"
      ]
    },
    {
      "cell_type": "markdown",
      "metadata": {
        "id": "uocZEIZWAQoG"
      },
      "source": [
        "### **Exercício 6. Remover do conjunto de dados instâncias que possuam outliers em algum de seus atributos (dica: usar o z-score para defininir o que são outliers z > 3 ou z < -3)** "
      ]
    },
    {
      "cell_type": "code",
      "execution_count": 58,
      "metadata": {
        "id": "NVeudzRBAI5q"
      },
      "outputs": [
        {
          "name": "stdout",
          "output_type": "stream",
          "text": [
            "Outlier na coluna Marginal Adhesion: set()\n",
            "Outlier na coluna Single Epithelial Cell Size: {10}\n",
            "Outlier na coluna Bland Chromatin: set()\n",
            "Outlier na coluna Normal Nucleoli: set()\n",
            "Outlier na coluna Mitoses: {8, 10, 7}\n"
          ]
        }
      ],
      "source": [
        "# limitamos as operações à colunas identificadas visualmente na questão anterior\n",
        "outlier_cols = ['Marginal Adhesion', 'Single Epithelial Cell Size',\n",
        "                 'Bland Chromatin', 'Normal Nucleoli', 'Mitoses']\n",
        "\n",
        "# percorrendo as colunas indicadas à procura de outliers segundo critério proposto\n",
        "for col in outlier_cols:\n",
        "    outlier = []\n",
        "\n",
        "    for i in data[col]:\n",
        "        z = (i - data[col].mean()) / data[col].std()\n",
        "        # \"z < -3\" ignorado porque já verificamos visualmente que não ocorre\n",
        "        if z > 3:\n",
        "            outlier.append(i)\n",
        "    print(f'Outlier na coluna {col}: {set(outlier)}') # set() usado para os registros únicos\n"
      ]
    },
    {
      "cell_type": "markdown",
      "metadata": {},
      "source": [
        "Os resultados mostram que o critério do boxplot considera valores com z score menor que 3 para a definição de outliers (no caso 2,5), e por isso apenas dois atributos tiveram ocorrências confirmadas. Nos casos negativos de ocorrência, os resultados trazem conjuntos vazios."
      ]
    },
    {
      "cell_type": "markdown",
      "metadata": {
        "id": "d-QUVFOCCXzi"
      },
      "source": [
        "### **Exercício 7. Verificar a quantidade de registros duplicados no dataset**"
      ]
    },
    {
      "cell_type": "code",
      "execution_count": 59,
      "metadata": {
        "id": "y43WLZQ_Ck2N"
      },
      "outputs": [
        {
          "name": "stdout",
          "output_type": "stream",
          "text": [
            " Número de registros duplicados no dataset: 242\n"
          ]
        }
      ],
      "source": [
        "# o método df.duplicated() retorna os registros duplicados\n",
        "\n",
        "print(f' Número de registros duplicados no dataset: {data[data.duplicated()].shape[0]}')\n"
      ]
    },
    {
      "cell_type": "markdown",
      "metadata": {
        "id": "5clxg8byDCVZ"
      },
      "source": [
        "### **Exercício 8. Descartar as instâncias duplicadas do conjunto de dados**"
      ]
    },
    {
      "cell_type": "code",
      "execution_count": 60,
      "metadata": {
        "id": "KC7fyt0mDHGR"
      },
      "outputs": [],
      "source": [
        "# atribui ao novo dataframe o retorno dos dados sem duplicatas\n",
        "data_no_dupe = data.drop_duplicates()"
      ]
    },
    {
      "cell_type": "code",
      "execution_count": 61,
      "metadata": {},
      "outputs": [
        {
          "data": {
            "text/plain": [
              "(457, 10)"
            ]
          },
          "execution_count": 61,
          "metadata": {},
          "output_type": "execute_result"
        }
      ],
      "source": [
        "# conferindo as dimensões do dataframe após a operação\n",
        "data_no_dupe.shape"
      ]
    },
    {
      "cell_type": "markdown",
      "metadata": {
        "id": "LoLhvW-3DQeA"
      },
      "source": [
        "### **Exercício 9. Discretizar os valores do atributo 'Clump Thickness' em 4 intervalos de igual tamanho**"
      ]
    },
    {
      "cell_type": "code",
      "execution_count": 62,
      "metadata": {},
      "outputs": [],
      "source": [
        "n_intervals = 4\n",
        "intervals_size = (data['Clump Thickness'].max() - data['Clump Thickness'].min()) / n_intervals\n",
        "\n",
        "# encontrando os limites dos intervalos por list comprehension\n",
        "equal_intervals = [data['Clump Thickness'].min() + intervals_size * N \\\n",
        "    for N in range(1,n_intervals+1)]\n",
        "\n",
        "equal_intervals = [0] + equal_intervals # adicionando limite inferior à lista para uso do pd.cut\n",
        "\n",
        "# solução criando novo atributo discretizado\n",
        "data['Equal Intervals'] = pd.cut(data['Clump Thickness'], bins=equal_intervals, labels=['1','2','3','4'])\n",
        "\n",
        "# solução substituindo os valores do próprio atributo\n",
        "#data_q9 = data.copy()\n",
        "#data_q9['Clump Thickness'] = pd.cut(data_q9['Clump Thickness'], bins=equal_intervals, labels=['1','2','3','4'])\n",
        "\n"
      ]
    },
    {
      "cell_type": "code",
      "execution_count": 63,
      "metadata": {},
      "outputs": [
        {
          "data": {
            "text/html": [
              "<div>\n",
              "<style scoped>\n",
              "    .dataframe tbody tr th:only-of-type {\n",
              "        vertical-align: middle;\n",
              "    }\n",
              "\n",
              "    .dataframe tbody tr th {\n",
              "        vertical-align: top;\n",
              "    }\n",
              "\n",
              "    .dataframe thead th {\n",
              "        text-align: right;\n",
              "    }\n",
              "</style>\n",
              "<table border=\"1\" class=\"dataframe\">\n",
              "  <thead>\n",
              "    <tr style=\"text-align: right;\">\n",
              "      <th></th>\n",
              "      <th>Clump Thickness</th>\n",
              "      <th>Uniformity of Cell Size</th>\n",
              "      <th>Uniformity of Cell Shape</th>\n",
              "      <th>Marginal Adhesion</th>\n",
              "      <th>Single Epithelial Cell Size</th>\n",
              "      <th>Bare Nuclei</th>\n",
              "      <th>Bland Chromatin</th>\n",
              "      <th>Normal Nucleoli</th>\n",
              "      <th>Mitoses</th>\n",
              "      <th>Class</th>\n",
              "      <th>Equal Intervals</th>\n",
              "    </tr>\n",
              "  </thead>\n",
              "  <tbody>\n",
              "    <tr>\n",
              "      <th>0</th>\n",
              "      <td>5</td>\n",
              "      <td>1</td>\n",
              "      <td>1</td>\n",
              "      <td>1</td>\n",
              "      <td>2</td>\n",
              "      <td>1</td>\n",
              "      <td>3</td>\n",
              "      <td>1</td>\n",
              "      <td>1</td>\n",
              "      <td>2</td>\n",
              "      <td>2</td>\n",
              "    </tr>\n",
              "    <tr>\n",
              "      <th>1</th>\n",
              "      <td>5</td>\n",
              "      <td>4</td>\n",
              "      <td>4</td>\n",
              "      <td>5</td>\n",
              "      <td>7</td>\n",
              "      <td>10</td>\n",
              "      <td>3</td>\n",
              "      <td>2</td>\n",
              "      <td>1</td>\n",
              "      <td>2</td>\n",
              "      <td>2</td>\n",
              "    </tr>\n",
              "    <tr>\n",
              "      <th>2</th>\n",
              "      <td>3</td>\n",
              "      <td>1</td>\n",
              "      <td>1</td>\n",
              "      <td>1</td>\n",
              "      <td>2</td>\n",
              "      <td>2</td>\n",
              "      <td>3</td>\n",
              "      <td>1</td>\n",
              "      <td>1</td>\n",
              "      <td>2</td>\n",
              "      <td>1</td>\n",
              "    </tr>\n",
              "    <tr>\n",
              "      <th>3</th>\n",
              "      <td>6</td>\n",
              "      <td>8</td>\n",
              "      <td>8</td>\n",
              "      <td>1</td>\n",
              "      <td>3</td>\n",
              "      <td>4</td>\n",
              "      <td>3</td>\n",
              "      <td>7</td>\n",
              "      <td>1</td>\n",
              "      <td>2</td>\n",
              "      <td>3</td>\n",
              "    </tr>\n",
              "    <tr>\n",
              "      <th>4</th>\n",
              "      <td>4</td>\n",
              "      <td>1</td>\n",
              "      <td>1</td>\n",
              "      <td>3</td>\n",
              "      <td>2</td>\n",
              "      <td>1</td>\n",
              "      <td>3</td>\n",
              "      <td>1</td>\n",
              "      <td>1</td>\n",
              "      <td>2</td>\n",
              "      <td>2</td>\n",
              "    </tr>\n",
              "  </tbody>\n",
              "</table>\n",
              "</div>"
            ],
            "text/plain": [
              "   Clump Thickness  Uniformity of Cell Size  Uniformity of Cell Shape  \\\n",
              "0                5                        1                         1   \n",
              "1                5                        4                         4   \n",
              "2                3                        1                         1   \n",
              "3                6                        8                         8   \n",
              "4                4                        1                         1   \n",
              "\n",
              "   Marginal Adhesion  Single Epithelial Cell Size  Bare Nuclei  \\\n",
              "0                  1                            2            1   \n",
              "1                  5                            7           10   \n",
              "2                  1                            2            2   \n",
              "3                  1                            3            4   \n",
              "4                  3                            2            1   \n",
              "\n",
              "   Bland Chromatin  Normal Nucleoli  Mitoses  Class Equal Intervals  \n",
              "0                3                1        1      2               2  \n",
              "1                3                2        1      2               2  \n",
              "2                3                1        1      2               1  \n",
              "3                3                7        1      2               3  \n",
              "4                3                1        1      2               2  "
            ]
          },
          "execution_count": 63,
          "metadata": {},
          "output_type": "execute_result"
        }
      ],
      "source": [
        "data.head()"
      ]
    },
    {
      "cell_type": "markdown",
      "metadata": {
        "id": "b5qktH3cEHqv"
      },
      "source": [
        "### **Exercício 10. Discretizar os valores do atributo 'Clump Thickness' em 4 intervalos de igual frequência** "
      ]
    },
    {
      "cell_type": "code",
      "execution_count": 64,
      "metadata": {
        "id": "Pjgh-GkEEP_D"
      },
      "outputs": [],
      "source": [
        "# solução usando pd.cut:\n",
        "# encontrando os valores para os quartis\n",
        "quartiles = data['Clump Thickness'].quantile([0.25, 0.5, 0.75, 1]).tolist()\n",
        "\n",
        "quartiles = [0] + quartiles # adicionando limite inferior à lista para uso do pd.cut\n",
        "\n",
        "# solução criando novo atributo discretizado\n",
        "data['Equal Frequencies'] = pd.cut(data['Clump Thickness'], bins=quartiles, labels=['1','2','3','4'])\n",
        "\n",
        "# solução substituindo os valores do próprio atributo\n",
        "#data_q10 = data.copy()\n",
        "#data_q10['Clump Thickness'] = pd.cut(data_q10['Clump Thickness'], bins=quartiles, labels=['1','2','3','4'])"
      ]
    },
    {
      "cell_type": "code",
      "execution_count": 65,
      "metadata": {},
      "outputs": [
        {
          "data": {
            "text/html": [
              "<div>\n",
              "<style scoped>\n",
              "    .dataframe tbody tr th:only-of-type {\n",
              "        vertical-align: middle;\n",
              "    }\n",
              "\n",
              "    .dataframe tbody tr th {\n",
              "        vertical-align: top;\n",
              "    }\n",
              "\n",
              "    .dataframe thead th {\n",
              "        text-align: right;\n",
              "    }\n",
              "</style>\n",
              "<table border=\"1\" class=\"dataframe\">\n",
              "  <thead>\n",
              "    <tr style=\"text-align: right;\">\n",
              "      <th></th>\n",
              "      <th>Clump Thickness</th>\n",
              "      <th>Uniformity of Cell Size</th>\n",
              "      <th>Uniformity of Cell Shape</th>\n",
              "      <th>Marginal Adhesion</th>\n",
              "      <th>Single Epithelial Cell Size</th>\n",
              "      <th>Bare Nuclei</th>\n",
              "      <th>Bland Chromatin</th>\n",
              "      <th>Normal Nucleoli</th>\n",
              "      <th>Mitoses</th>\n",
              "      <th>Class</th>\n",
              "      <th>Equal Intervals</th>\n",
              "      <th>Equal Frequencies</th>\n",
              "    </tr>\n",
              "  </thead>\n",
              "  <tbody>\n",
              "    <tr>\n",
              "      <th>0</th>\n",
              "      <td>5</td>\n",
              "      <td>1</td>\n",
              "      <td>1</td>\n",
              "      <td>1</td>\n",
              "      <td>2</td>\n",
              "      <td>1</td>\n",
              "      <td>3</td>\n",
              "      <td>1</td>\n",
              "      <td>1</td>\n",
              "      <td>2</td>\n",
              "      <td>2</td>\n",
              "      <td>3</td>\n",
              "    </tr>\n",
              "    <tr>\n",
              "      <th>1</th>\n",
              "      <td>5</td>\n",
              "      <td>4</td>\n",
              "      <td>4</td>\n",
              "      <td>5</td>\n",
              "      <td>7</td>\n",
              "      <td>10</td>\n",
              "      <td>3</td>\n",
              "      <td>2</td>\n",
              "      <td>1</td>\n",
              "      <td>2</td>\n",
              "      <td>2</td>\n",
              "      <td>3</td>\n",
              "    </tr>\n",
              "    <tr>\n",
              "      <th>2</th>\n",
              "      <td>3</td>\n",
              "      <td>1</td>\n",
              "      <td>1</td>\n",
              "      <td>1</td>\n",
              "      <td>2</td>\n",
              "      <td>2</td>\n",
              "      <td>3</td>\n",
              "      <td>1</td>\n",
              "      <td>1</td>\n",
              "      <td>2</td>\n",
              "      <td>1</td>\n",
              "      <td>2</td>\n",
              "    </tr>\n",
              "    <tr>\n",
              "      <th>3</th>\n",
              "      <td>6</td>\n",
              "      <td>8</td>\n",
              "      <td>8</td>\n",
              "      <td>1</td>\n",
              "      <td>3</td>\n",
              "      <td>4</td>\n",
              "      <td>3</td>\n",
              "      <td>7</td>\n",
              "      <td>1</td>\n",
              "      <td>2</td>\n",
              "      <td>3</td>\n",
              "      <td>3</td>\n",
              "    </tr>\n",
              "    <tr>\n",
              "      <th>4</th>\n",
              "      <td>4</td>\n",
              "      <td>1</td>\n",
              "      <td>1</td>\n",
              "      <td>3</td>\n",
              "      <td>2</td>\n",
              "      <td>1</td>\n",
              "      <td>3</td>\n",
              "      <td>1</td>\n",
              "      <td>1</td>\n",
              "      <td>2</td>\n",
              "      <td>2</td>\n",
              "      <td>2</td>\n",
              "    </tr>\n",
              "  </tbody>\n",
              "</table>\n",
              "</div>"
            ],
            "text/plain": [
              "   Clump Thickness  Uniformity of Cell Size  Uniformity of Cell Shape  \\\n",
              "0                5                        1                         1   \n",
              "1                5                        4                         4   \n",
              "2                3                        1                         1   \n",
              "3                6                        8                         8   \n",
              "4                4                        1                         1   \n",
              "\n",
              "   Marginal Adhesion  Single Epithelial Cell Size  Bare Nuclei  \\\n",
              "0                  1                            2            1   \n",
              "1                  5                            7           10   \n",
              "2                  1                            2            2   \n",
              "3                  1                            3            4   \n",
              "4                  3                            2            1   \n",
              "\n",
              "   Bland Chromatin  Normal Nucleoli  Mitoses  Class Equal Intervals  \\\n",
              "0                3                1        1      2               2   \n",
              "1                3                2        1      2               2   \n",
              "2                3                1        1      2               1   \n",
              "3                3                7        1      2               3   \n",
              "4                3                1        1      2               2   \n",
              "\n",
              "  Equal Frequencies  \n",
              "0                 3  \n",
              "1                 3  \n",
              "2                 2  \n",
              "3                 3  \n",
              "4                 2  "
            ]
          },
          "execution_count": 65,
          "metadata": {},
          "output_type": "execute_result"
        }
      ],
      "source": [
        "data.head()\n",
        "#data_q10.head()"
      ]
    },
    {
      "cell_type": "code",
      "execution_count": 66,
      "metadata": {},
      "outputs": [],
      "source": [
        "# solução usando pd.qcut:\n",
        "# criando novo atributo discretizado\n",
        "data['Equal Frequencies'] = pd.qcut(data['Clump Thickness'], q=4, labels=['1','2','3','4'] )\n",
        "\n",
        "# solução substituindo os valores do próprio atributo\n",
        "#data_q10 = data.copy()\n",
        "#data['Equal Frequencies'] = pd.qcut(data['Clump Thickness'], q=4, labels=['1','2','3','4'] )\n"
      ]
    },
    {
      "cell_type": "code",
      "execution_count": 67,
      "metadata": {},
      "outputs": [
        {
          "data": {
            "text/html": [
              "<div>\n",
              "<style scoped>\n",
              "    .dataframe tbody tr th:only-of-type {\n",
              "        vertical-align: middle;\n",
              "    }\n",
              "\n",
              "    .dataframe tbody tr th {\n",
              "        vertical-align: top;\n",
              "    }\n",
              "\n",
              "    .dataframe thead th {\n",
              "        text-align: right;\n",
              "    }\n",
              "</style>\n",
              "<table border=\"1\" class=\"dataframe\">\n",
              "  <thead>\n",
              "    <tr style=\"text-align: right;\">\n",
              "      <th></th>\n",
              "      <th>Clump Thickness</th>\n",
              "      <th>Uniformity of Cell Size</th>\n",
              "      <th>Uniformity of Cell Shape</th>\n",
              "      <th>Marginal Adhesion</th>\n",
              "      <th>Single Epithelial Cell Size</th>\n",
              "      <th>Bare Nuclei</th>\n",
              "      <th>Bland Chromatin</th>\n",
              "      <th>Normal Nucleoli</th>\n",
              "      <th>Mitoses</th>\n",
              "      <th>Class</th>\n",
              "      <th>Equal Intervals</th>\n",
              "      <th>Equal Frequencies</th>\n",
              "    </tr>\n",
              "  </thead>\n",
              "  <tbody>\n",
              "    <tr>\n",
              "      <th>0</th>\n",
              "      <td>5</td>\n",
              "      <td>1</td>\n",
              "      <td>1</td>\n",
              "      <td>1</td>\n",
              "      <td>2</td>\n",
              "      <td>1</td>\n",
              "      <td>3</td>\n",
              "      <td>1</td>\n",
              "      <td>1</td>\n",
              "      <td>2</td>\n",
              "      <td>2</td>\n",
              "      <td>3</td>\n",
              "    </tr>\n",
              "    <tr>\n",
              "      <th>1</th>\n",
              "      <td>5</td>\n",
              "      <td>4</td>\n",
              "      <td>4</td>\n",
              "      <td>5</td>\n",
              "      <td>7</td>\n",
              "      <td>10</td>\n",
              "      <td>3</td>\n",
              "      <td>2</td>\n",
              "      <td>1</td>\n",
              "      <td>2</td>\n",
              "      <td>2</td>\n",
              "      <td>3</td>\n",
              "    </tr>\n",
              "    <tr>\n",
              "      <th>2</th>\n",
              "      <td>3</td>\n",
              "      <td>1</td>\n",
              "      <td>1</td>\n",
              "      <td>1</td>\n",
              "      <td>2</td>\n",
              "      <td>2</td>\n",
              "      <td>3</td>\n",
              "      <td>1</td>\n",
              "      <td>1</td>\n",
              "      <td>2</td>\n",
              "      <td>1</td>\n",
              "      <td>2</td>\n",
              "    </tr>\n",
              "    <tr>\n",
              "      <th>3</th>\n",
              "      <td>6</td>\n",
              "      <td>8</td>\n",
              "      <td>8</td>\n",
              "      <td>1</td>\n",
              "      <td>3</td>\n",
              "      <td>4</td>\n",
              "      <td>3</td>\n",
              "      <td>7</td>\n",
              "      <td>1</td>\n",
              "      <td>2</td>\n",
              "      <td>3</td>\n",
              "      <td>3</td>\n",
              "    </tr>\n",
              "    <tr>\n",
              "      <th>4</th>\n",
              "      <td>4</td>\n",
              "      <td>1</td>\n",
              "      <td>1</td>\n",
              "      <td>3</td>\n",
              "      <td>2</td>\n",
              "      <td>1</td>\n",
              "      <td>3</td>\n",
              "      <td>1</td>\n",
              "      <td>1</td>\n",
              "      <td>2</td>\n",
              "      <td>2</td>\n",
              "      <td>2</td>\n",
              "    </tr>\n",
              "  </tbody>\n",
              "</table>\n",
              "</div>"
            ],
            "text/plain": [
              "   Clump Thickness  Uniformity of Cell Size  Uniformity of Cell Shape  \\\n",
              "0                5                        1                         1   \n",
              "1                5                        4                         4   \n",
              "2                3                        1                         1   \n",
              "3                6                        8                         8   \n",
              "4                4                        1                         1   \n",
              "\n",
              "   Marginal Adhesion  Single Epithelial Cell Size  Bare Nuclei  \\\n",
              "0                  1                            2            1   \n",
              "1                  5                            7           10   \n",
              "2                  1                            2            2   \n",
              "3                  1                            3            4   \n",
              "4                  3                            2            1   \n",
              "\n",
              "   Bland Chromatin  Normal Nucleoli  Mitoses  Class Equal Intervals  \\\n",
              "0                3                1        1      2               2   \n",
              "1                3                2        1      2               2   \n",
              "2                3                1        1      2               1   \n",
              "3                3                7        1      2               3   \n",
              "4                3                1        1      2               2   \n",
              "\n",
              "  Equal Frequencies  \n",
              "0                 3  \n",
              "1                 3  \n",
              "2                 2  \n",
              "3                 3  \n",
              "4                 2  "
            ]
          },
          "execution_count": 67,
          "metadata": {},
          "output_type": "execute_result"
        }
      ],
      "source": [
        "data.head()\n",
        "#data_q10.head()"
      ]
    },
    {
      "cell_type": "markdown",
      "metadata": {},
      "source": [
        "Vale a pena ressaltar que por se tratarem de muitos registros, com valores inteiros variando num pequeno intervalo, a discretização de igual frquência não conseguiu dividir os intervalos com um número exato de registros para cada grupo, visto que o critério de separação ainda depende de um valor na distribuição. A única maneira de dividir em grupos de frequência \"exatamente\" iguais seria iterar sobre o conjunto de dados, atribuindo os valores discretizados aos registros, ao passo que os grupos fossem ocupados, mas essa alternativa é inconsistente, porque traria valores discretizados diferentes para registros de valores de interesse iguais."
      ]
    },
    {
      "cell_type": "code",
      "execution_count": 68,
      "metadata": {},
      "outputs": [
        {
          "data": {
            "text/plain": [
              "1    195\n",
              "2    188\n",
              "3    164\n",
              "4    152\n",
              "Name: Equal Frequencies, dtype: int64"
            ]
          },
          "execution_count": 68,
          "metadata": {},
          "output_type": "execute_result"
        }
      ],
      "source": [
        "# a contagem de elementos nos intervalos:\n",
        "data['Equal Frequencies'].value_counts()"
      ]
    }
  ],
  "metadata": {
    "colab": {
      "collapsed_sections": [],
      "provenance": []
    },
    "kernelspec": {
      "display_name": "Python 3.9.12 ('base')",
      "language": "python",
      "name": "python3"
    },
    "language_info": {
      "codemirror_mode": {
        "name": "ipython",
        "version": 3
      },
      "file_extension": ".py",
      "mimetype": "text/x-python",
      "name": "python",
      "nbconvert_exporter": "python",
      "pygments_lexer": "ipython3",
      "version": "3.9.12"
    },
    "vscode": {
      "interpreter": {
        "hash": "ad2bdc8ecc057115af97d19610ffacc2b4e99fae6737bb82f5d7fb13d2f2c186"
      }
    }
  },
  "nbformat": 4,
  "nbformat_minor": 0
}
